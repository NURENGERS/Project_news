{
 "cells": [
  {
   "cell_type": "code",
   "execution_count": 4,
   "metadata": {},
   "outputs": [],
   "source": [
    "import requests\n",
    "import bs4\n",
    "from pprint import pprint"
   ]
  },
  {
   "cell_type": "code",
   "execution_count": 5,
   "metadata": {},
   "outputs": [
    {
     "name": "stdout",
     "output_type": "stream",
     "text": [
      "<Response [200]>\n",
      "<class 'requests.models.Response'>\n"
     ]
    }
   ],
   "source": [
    "response = requests.get('http://www.it.kmitl.ac.th/~teerapong/news_archive/index.html')\n",
    "print(response)\n",
    "print(type(response))"
   ]
  },
  {
   "cell_type": "code",
   "execution_count": 6,
   "metadata": {},
   "outputs": [
    {
     "name": "stdout",
     "output_type": "stream",
     "text": [
      "(b'<!DOCTYPE html>\\n<html lang=\"en\">\\n\\n<head>\\n\\t<title>Online News Archive'\n",
      " b'</title>\\n\\t<meta charset=\"utf-8\">\\n\\t<meta name=\"viewport\" content=\"width=d'\n",
      " b'evice-width, initial-scale=1\">\\n    <meta name=\"robots\" content=\"noindex\"'\n",
      " b'>\\n    <meta name=\"keywords\" content=\"news,articles,news\"/>\\n\\t<meta proper'\n",
      " b'ty=\"og:title\" content=\"Breaking News | International Headlines\">\\n\\t<meta '\n",
      " b'property=\"og:site_name\" content=\"News Archive\">\\n\\t<meta property=\"og:desc'\n",
      " b'ription\" content=\"Latest news and more from the definitive brand of quality '\n",
      " b'news.\">\\n\\t<link rel=\"stylesheet\" href=\"css/bootstrap.min.css\">\\n\\t<script s'\n",
      " b'rc=\"js/jquery-3.2.1.slim.min.js\"></script>\\n\\t<script src=\"js/popper.min.j'\n",
      " b's\"></script>\\n\\t<script src=\"js/tether.min.js\"></script>\\n\\t<script src=\"js/'\n",
      " b'jquery-3.2.1.slim.min.js\"></script> \\n\\t<script src=\"js/popper.min.js\"></s'\n",
      " b'cript>\\n\\t<script src=\"js/tether.min.js\"></script>\\n\\t<script src=\"js/bootst'\n",
      " b'rap.min.js\"></script>\\n\\t  <style>\\n\\t  \\t\\t.main{ padding: 0; text-align:'\n",
      " b' center;}\\n\\t  \\t\\t.footer{ padding: 6px;text-align: center; margin-top: 1em'\n",
      " b'; }\\n\\n\\t  \\t\\th1\\n\\t  \\t\\t{\\n\\t  \\t\\t\\tfont-size: 180%;\\n\\t  \\t\\t\\tmargin-'\n",
      " b'top: 15px;\\n\\t  \\t\\t\\tmargin-bottom: 15px;\\n\\t  \\t\\t}\\n\\t  \\t\\tul {list-s'\n",
      " b'tyle-type: none;}\\n\\t  \\t\\tli { margin-top: 5px; }\\n\\t  </style>\\n</head>\\n<'\n",
      " b'body>\\n\\n<div class=\"container\" style=\"margin-top: 2em;\">\\n\\t<div class=\"mai'\n",
      " b'n\">\\n\\t\\t<img src=\"images/banner.jpg\" width=\"500\" alt=\"banner\"/>\\n\\t\\t<h1>'\n",
      " b'News Article Archive</h1>\\n\\t\\t<p>Archive of all news headlines and stories'\n",
      " b', organised per month.</p> \\n\\t\\t<ul>\\n\\t\\t\\t\\t\\t<li>Articles &mdash; <a '\n",
      " b\"href='month-jan-2017.html'>January</a> [118]</li>\\n\\t\\t<li>Articles &mdash;\"\n",
      " b\" <a href='month-feb-2017.html'>February</a> [124]</li>\\n\\t\\t<li>Articles &m\"\n",
      " b\"dash; <a href='month-mar-2017.html'>March</a> [116]</li>\\n\\t\\t<li>Articles \"\n",
      " b\"&mdash; <a href='month-apr-2017.html'>April</a> [118]</li>\\n\\t\\t<li>Article\"\n",
      " b\"s &mdash; <a href='month-may-2017.html'>May</a> [115]</li>\\n\\t\\t<li>Article\"\n",
      " b\"s &mdash; <a href='month-jun-2017.html'>June</a> [115]</li>\\n\\t\\t<li>Articl\"\n",
      " b\"es &mdash; <a href='month-jul-2017.html'>July</a> [122]</li>\\n\\t\\t<li>Artic\"\n",
      " b\"les &mdash; <a href='month-aug-2017.html'>August</a> [116]</li>\\n\\t\\t<li>Ar\"\n",
      " b\"ticles &mdash; <a href='month-sep-2017.html'>September</a> [113]</li>\\n\\t\\t\"\n",
      " b\"<li>Articles &mdash; <a href='month-oct-2017.html'>October</a> [124]</li\"\n",
      " b\">\\n\\t\\t<li>Articles &mdash; <a href='month-nov-2017.html'>November</a> [122\"\n",
      " b\"]</li>\\n\\t\\t<li>Articles &mdash; <a href='month-dec-2017.html'>December</a>\"\n",
      " b' [115]</li>\\n\\n\\t\\t</ul>\\n\\t</div>\\n   <div class=\"footer\">\\n            <sp'\n",
      " b'an><a href=\"#\">Terms &amp; Conditions</a> | <a href=\"#\">Privacy Policy</a> |'\n",
      " b' <a href=\"#\">Cookie Information</a> </span><br/>\\n\\t\\t\\t<span>&copy; <span c'\n",
      " b'lass=\"thisyear\">2019-2020</span> &mdash; Original rights holders</span>\\n'\n",
      " b'   </div>\\n</div>\\n    \\n\\n</body>\\n\\n</html>\\n\\n')\n"
     ]
    }
   ],
   "source": [
    "pprint(response.content)"
   ]
  },
  {
   "cell_type": "code",
   "execution_count": 7,
   "metadata": {},
   "outputs": [
    {
     "name": "stdout",
     "output_type": "stream",
     "text": [
      "<!DOCTYPE html>\n",
      "<html lang=\"en\">\n",
      "<head>\n",
      "<title>Online News Archive</title>\n",
      "<meta charset=\"utf-8\"/>\n",
      "<meta content=\"width=device-width, initial-scale=1\" name=\"viewport\"/>\n",
      "<meta content=\"noindex\" name=\"robots\"/>\n",
      "<meta content=\"news,articles,news\" name=\"keywords\"/>\n",
      "<meta content=\"Breaking News | International Headlines\" property=\"og:title\"/>\n",
      "<meta content=\"News Archive\" property=\"og:site_name\"/>\n",
      "<meta content=\"Latest news and more from the definitive brand of quality news.\" property=\"og:description\"/>\n",
      "<link href=\"css/bootstrap.min.css\" rel=\"stylesheet\"/>\n",
      "<script src=\"js/jquery-3.2.1.slim.min.js\"></script>\n",
      "<script src=\"js/popper.min.js\"></script>\n",
      "<script src=\"js/tether.min.js\"></script>\n",
      "<script src=\"js/jquery-3.2.1.slim.min.js\"></script>\n",
      "<script src=\"js/popper.min.js\"></script>\n",
      "<script src=\"js/tether.min.js\"></script>\n",
      "<script src=\"js/bootstrap.min.js\"></script>\n",
      "<style>\n",
      "\t  \t\t.main{ padding: 0; text-align: center;}\n",
      "\t  \t\t.footer{ padding: 6px;text-align: center; margin-top: 1em; }\n",
      "\n",
      "\t  \t\th1\n",
      "\t  \t\t{\n",
      "\t  \t\t\tfont-size: 180%;\n",
      "\t  \t\t\tmargin-top: 15px;\n",
      "\t  \t\t\tmargin-bottom: 15px;\n",
      "\t  \t\t}\n",
      "\t  \t\tul {list-style-type: none;}\n",
      "\t  \t\tli { margin-top: 5px; }\n",
      "\t  </style>\n",
      "</head>\n",
      "<body>\n",
      "<div class=\"container\" style=\"margin-top: 2em;\">\n",
      "<div class=\"main\">\n",
      "<img alt=\"banner\" src=\"images/banner.jpg\" width=\"500\"/>\n",
      "<h1>News Article Archive</h1>\n",
      "<p>Archive of all news headlines and stories, organised per month.</p>\n",
      "<ul>\n",
      "<li>Articles — <a href=\"month-jan-2017.html\">January</a> [118]</li>\n",
      "<li>Articles — <a href=\"month-feb-2017.html\">February</a> [124]</li>\n",
      "<li>Articles — <a href=\"month-mar-2017.html\">March</a> [116]</li>\n",
      "<li>Articles — <a href=\"month-apr-2017.html\">April</a> [118]</li>\n",
      "<li>Articles — <a href=\"month-may-2017.html\">May</a> [115]</li>\n",
      "<li>Articles — <a href=\"month-jun-2017.html\">June</a> [115]</li>\n",
      "<li>Articles — <a href=\"month-jul-2017.html\">July</a> [122]</li>\n",
      "<li>Articles — <a href=\"month-aug-2017.html\">August</a> [116]</li>\n",
      "<li>Articles — <a href=\"month-sep-2017.html\">September</a> [113]</li>\n",
      "<li>Articles — <a href=\"month-oct-2017.html\">October</a> [124]</li>\n",
      "<li>Articles — <a href=\"month-nov-2017.html\">November</a> [122]</li>\n",
      "<li>Articles — <a href=\"month-dec-2017.html\">December</a> [115]</li>\n",
      "</ul>\n",
      "</div>\n",
      "<div class=\"footer\">\n",
      "<span><a href=\"#\">Terms &amp; Conditions</a> | <a href=\"#\">Privacy Policy</a> | <a href=\"#\">Cookie Information</a> </span><br/>\n",
      "<span>© <span class=\"thisyear\">2019-2020</span> — Original rights holders</span>\n",
      "</div>\n",
      "</div>\n",
      "</body>\n",
      "</html>\n",
      "\n"
     ]
    }
   ],
   "source": [
    "html_page = bs4.BeautifulSoup(response.content, 'lxml')\n",
    "print(html_page)"
   ]
  },
  {
   "cell_type": "code",
   "execution_count": 8,
   "metadata": {},
   "outputs": [
    {
     "name": "stdout",
     "output_type": "stream",
     "text": [
      "<class 'bs4.BeautifulSoup'>\n"
     ]
    }
   ],
   "source": [
    "print(type(html_page))"
   ]
  },
  {
   "cell_type": "markdown",
   "metadata": {},
   "source": [
    "http://www.it.kmitl.ac.th/~teerapong/news_archive/"
   ]
  },
  {
   "cell_type": "markdown",
   "metadata": {
    "colab_type": "text",
    "id": "G265jeC6w2IE"
   },
   "source": [
    "# วิธีดึงข้อมูล"
   ]
  },
  {
   "cell_type": "code",
   "execution_count": 9,
   "metadata": {},
   "outputs": [
    {
     "name": "stdout",
     "output_type": "stream",
     "text": [
      "<class 'bs4.element.ResultSet'>\n"
     ]
    }
   ],
   "source": [
    "selector = 'li> a'\n",
    "# select return เป็น list ของ tag\n",
    "tags = html_page.select(selector)\n",
    "print(type(tags))"
   ]
  },
  {
   "cell_type": "code",
   "execution_count": 10,
   "metadata": {},
   "outputs": [
    {
     "data": {
      "text/plain": [
       "12"
      ]
     },
     "execution_count": 10,
     "metadata": {},
     "output_type": "execute_result"
    }
   ],
   "source": [
    "len(tags)"
   ]
  },
  {
   "cell_type": "code",
   "execution_count": 11,
   "metadata": {},
   "outputs": [
    {
     "data": {
      "text/plain": [
       "[<a href=\"month-jan-2017.html\">January</a>,\n",
       " <a href=\"month-feb-2017.html\">February</a>,\n",
       " <a href=\"month-mar-2017.html\">March</a>,\n",
       " <a href=\"month-apr-2017.html\">April</a>,\n",
       " <a href=\"month-may-2017.html\">May</a>,\n",
       " <a href=\"month-jun-2017.html\">June</a>,\n",
       " <a href=\"month-jul-2017.html\">July</a>,\n",
       " <a href=\"month-aug-2017.html\">August</a>,\n",
       " <a href=\"month-sep-2017.html\">September</a>,\n",
       " <a href=\"month-oct-2017.html\">October</a>,\n",
       " <a href=\"month-nov-2017.html\">November</a>,\n",
       " <a href=\"month-dec-2017.html\">December</a>]"
      ]
     },
     "execution_count": 11,
     "metadata": {},
     "output_type": "execute_result"
    }
   ],
   "source": [
    "tags"
   ]
  },
  {
   "cell_type": "code",
   "execution_count": 12,
   "metadata": {},
   "outputs": [
    {
     "data": {
      "text/plain": [
       "<a href=\"month-jan-2017.html\">January</a>"
      ]
     },
     "execution_count": 12,
     "metadata": {},
     "output_type": "execute_result"
    }
   ],
   "source": [
    "tags[0]"
   ]
  },
  {
   "cell_type": "code",
   "execution_count": 13,
   "metadata": {
    "scrolled": true
   },
   "outputs": [
    {
     "data": {
      "text/plain": [
       "['http://www.it.kmitl.ac.th/~teerapong/news_archive/month-jan-2017.html',\n",
       " 'http://www.it.kmitl.ac.th/~teerapong/news_archive/month-feb-2017.html',\n",
       " 'http://www.it.kmitl.ac.th/~teerapong/news_archive/month-mar-2017.html',\n",
       " 'http://www.it.kmitl.ac.th/~teerapong/news_archive/month-apr-2017.html',\n",
       " 'http://www.it.kmitl.ac.th/~teerapong/news_archive/month-may-2017.html',\n",
       " 'http://www.it.kmitl.ac.th/~teerapong/news_archive/month-jun-2017.html',\n",
       " 'http://www.it.kmitl.ac.th/~teerapong/news_archive/month-jul-2017.html',\n",
       " 'http://www.it.kmitl.ac.th/~teerapong/news_archive/month-aug-2017.html',\n",
       " 'http://www.it.kmitl.ac.th/~teerapong/news_archive/month-sep-2017.html',\n",
       " 'http://www.it.kmitl.ac.th/~teerapong/news_archive/month-oct-2017.html',\n",
       " 'http://www.it.kmitl.ac.th/~teerapong/news_archive/month-nov-2017.html',\n",
       " 'http://www.it.kmitl.ac.th/~teerapong/news_archive/month-dec-2017.html']"
      ]
     },
     "execution_count": 13,
     "metadata": {},
     "output_type": "execute_result"
    }
   ],
   "source": [
    "list_month = []\n",
    "for i in range(len(tags)):\n",
    "    list_month.append('http://www.it.kmitl.ac.th/~teerapong/news_archive/'+tags[i]['href'])\n",
    "list_month"
   ]
  },
  {
   "cell_type": "markdown",
   "metadata": {},
   "source": [
    "# ดึง target"
   ]
  },
  {
   "cell_type": "code",
   "execution_count": 14,
   "metadata": {},
   "outputs": [
    {
     "name": "stdout",
     "output_type": "stream",
     "text": [
      "<Response [200]>\n"
     ]
    }
   ],
   "source": [
    "response = requests.get('http://www.it.kmitl.ac.th/~teerapong/news_archive/month-jan-2017.html')\n",
    "print(response)"
   ]
  },
  {
   "cell_type": "code",
   "execution_count": 15,
   "metadata": {},
   "outputs": [
    {
     "name": "stdout",
     "output_type": "stream",
     "text": [
      "<!DOCTYPE html>\n",
      "<html lang=\"en\">\n",
      "<head>\n",
      "<title>Online News Archive - January</title>\n",
      "<meta charset=\"utf-8\"/>\n",
      "<meta content=\"width=device-width, initial-scale=1\" name=\"viewport\"/>\n",
      "<meta content=\"news,articles,news\" name=\"keywords\"/>\n",
      "<meta content=\"noindex\" name=\"robots\"/>\n",
      "<link href=\"../../../../www.insight-centre.org/sites/all/themes/bootstrap_insight/favicon.ico\" rel=\"shortcut icon\" type=\"image/vnd.microsoft.icon\"/>\n",
      "<meta content=\"News | International Headlines\" property=\"og:title\"/>\n",
      "<meta content=\"News Archive\" property=\"og:site_name\"/>\n",
      "<meta content=\"Latest news and more from the definitive brand of quality news.\" property=\"og:description\"/>\n",
      "<link href=\"css/bootstrap.min.css\" rel=\"stylesheet\"/>\n",
      "<script src=\"js/jquery-3.2.1.slim.min.js\"></script>\n",
      "<script src=\"js/popper.min.js\"></script>\n",
      "<script src=\"js/tether.min.js\"></script>\n",
      "<script src=\"js/bootstrap.min.js\"></script>\n",
      "<style>\n",
      "\t  \t\t.main{ padding: 0; text-align: center;}\n",
      "\t  \t\t.footer{ padding: 6px;text-align: center; margin-top: 1em; }\n",
      "\t  \t\t.content { text-align: left; }\n",
      "\t  \t\th1\n",
      "\t  \t\t{\n",
      "\t  \t\t\tfont-size: 180%;\n",
      "\t  \t\t\tmargin-top: 15px;\n",
      "\t  \t\t\tmargin-bottom: 15px;\n",
      "\t  \t\t}\n",
      "\t  \t\tli { margin-top: 5px; }\n",
      "\t  </style>\n",
      "</head>\n",
      "<body>\n",
      "<div class=\"container\" style=\"margin-top: 2em;\">\n",
      "<div class=\"main\">\n",
      "<img alt=\"banner\" src=\"images/banner.jpg\" width=\"500\"/>\n",
      "<h1>News Archive - Articles for January</h1>\n",
      "<p>Archive of all news stories for January, sorted by title:</p>\n",
      "<table class=\"table table-condensed table-striped\" width=\"90%\">\n",
      "<thead><tr><td align=\"left\"> Article Category</td><td align=\"left\" width=\"80%\"> Article Title</td></tr></thead>\n",
      "<tbody>\n",
      "<tr><td align=\"left\" class=\"category\"> technology</td><td align=\"left\" class=\"title\"> <a href=\"article-jan-0418.html\">21st-Century Sports: How Digital Technology Is Changing the Face Of The Sporting Industry</a></td></tr>\n",
      "<tr><td align=\"left\" class=\"category\"> business</td><td align=\"left\" class=\"title\"> <a href=\"article-jan-0027.html\">Asian quake hits European shares</a></td></tr>\n",
      "<tr><td align=\"left\" class=\"category\"> technology</td><td align=\"left\" class=\"title\"> <a href=\"article-jan-0631.html\">BT offers free net phone calls</a></td></tr>\n",
      "<tr><td align=\"left\" class=\"category\"> business</td><td align=\"left\" class=\"title\"> <a href=\"article-jan-2105.html\">Barclays shares up on merger talk</a></td></tr>\n",
      "<tr><td align=\"left\" class=\"category\"> sport</td><td align=\"left\" class=\"title\"> <a href=\"article-jan-3300.html\">Barkley fit for match in Ireland</a></td></tr>\n",
      "<tr><td align=\"left\" class=\"category\"> sport</td><td align=\"left\" class=\"title\"> <a href=\"article-jan-4187.html\">Bellamy under new fire</a></td></tr>\n",
      "<tr><td align=\"left\" class=\"category\"> sport</td><td align=\"left\" class=\"title\"> <a href=\"article-jan-1974.html\">Benitez 'to launch Morientes bid'</a></td></tr>\n",
      "<tr><td align=\"left\" class=\"category\"> sport</td><td align=\"left\" class=\"title\"> <a href=\"article-jan-3666.html\">Benitez delight after crucial win</a></td></tr>\n",
      "<tr><td align=\"left\" class=\"category\"> technology</td><td align=\"left\" class=\"title\"> <a href=\"article-jan-2629.html\">Big war games battle it out</a></td></tr>\n",
      "<tr><td align=\"left\" class=\"category\"> technology</td><td align=\"left\" class=\"title\"> <a href=\"article-jan-2415.html\">British Library gets wireless net</a></td></tr>\n",
      "<tr><td align=\"left\" class=\"category\"> sport</td><td align=\"left\" class=\"title\"> <a href=\"article-jan-4210.html\">Brizzel to run AAA's in Sheffield</a></td></tr>\n",
      "<tr><td align=\"left\" class=\"category\"> business</td><td align=\"left\" class=\"title\"> <a href=\"article-jan-4789.html\">Bush budget seeks deep cutbacks</a></td></tr>\n",
      "<tr><td align=\"left\" class=\"category\"> business</td><td align=\"left\" class=\"title\"> <a href=\"article-jan-3452.html\">Bush to get 'tough' on deficit</a></td></tr>\n",
      "<tr><td align=\"left\" class=\"category\"> technology</td><td align=\"left\" class=\"title\"> <a href=\"article-jan-2428.html\">Cable offers video-on-demand</a></td></tr>\n",
      "<tr><td align=\"left\" class=\"category\"> technology</td><td align=\"left\" class=\"title\"> <a href=\"article-jan-4766.html\">Cabs collect mountain of mobiles</a></td></tr>\n",
      "<tr><td align=\"left\" class=\"category\"> technology</td><td align=\"left\" class=\"title\"> <a href=\"article-jan-2595.html\">Camera phones are 'must-haves'</a></td></tr>\n",
      "<tr><td align=\"left\" class=\"category\"> business</td><td align=\"left\" class=\"title\"> <a href=\"article-jan-2935.html\">Card fraudsters 'targeting web'</a></td></tr>\n",
      "<tr><td align=\"left\" class=\"category\"> business</td><td align=\"left\" class=\"title\"> <a href=\"article-jan-0578.html\">Cash gives way to flexible friend</a></td></tr>\n",
      "<tr><td align=\"left\" class=\"category\"> technology</td><td align=\"left\" class=\"title\"> <a href=\"article-jan-3023.html\">Cebit opens to mobile music tune</a></td></tr>\n",
      "<tr><td align=\"left\" class=\"category\"> sport</td><td align=\"left\" class=\"title\"> <a href=\"article-jan-2356.html\">Charvis set to lose fitness bid</a></td></tr>\n",
      "<tr><td align=\"left\" class=\"category\"> sport</td><td align=\"left\" class=\"title\"> <a href=\"article-jan-1023.html\">Chelsea hold Arsenal</a></td></tr>\n",
      "<tr><td align=\"left\" class=\"category\"> business</td><td align=\"left\" class=\"title\"> <a href=\"article-jan-0641.html\">Christmas sales worst since 1981</a></td></tr>\n",
      "<tr><td align=\"left\" class=\"category\"> sport</td><td align=\"left\" class=\"title\"> <a href=\"article-jan-2461.html\">Clijsters set for February return</a></td></tr>\n",
      "<tr><td align=\"left\" class=\"category\"> sport</td><td align=\"left\" class=\"title\"> <a href=\"article-jan-4541.html\">Clyde 0-5 Celtic</a></td></tr>\n",
      "<tr><td align=\"left\" class=\"category\"> sport</td><td align=\"left\" class=\"title\"> <a href=\"article-jan-1259.html\">Coach Ranieri sacked by Valencia</a></td></tr>\n",
      "<tr><td align=\"left\" class=\"category\"> technology</td><td align=\"left\" class=\"title\"> <a href=\"article-jan-4007.html\">Confusion over high-definition TV</a></td></tr>\n",
      "<tr><td align=\"left\" class=\"category\"> business</td><td align=\"left\" class=\"title\"> <a href=\"article-jan-4171.html\">Cuba winds back economic clock</a></td></tr>\n",
      "<tr><td align=\"left\" class=\"category\"> technology</td><td align=\"left\" class=\"title\"> <a href=\"article-jan-0272.html\">DS aims to touch gamers</a></td></tr>\n",
      "<tr><td align=\"left\" class=\"category\"> sport</td><td align=\"left\" class=\"title\"> <a href=\"article-jan-4894.html\">Dawson set for new Wasps contract</a></td></tr>\n",
      "<tr><td align=\"left\" class=\"category\"> business</td><td align=\"left\" class=\"title\"> <a href=\"article-jan-4504.html\">Diageo to buy US wine firm</a></td></tr>\n",
      "<tr><td align=\"left\" class=\"category\"> technology</td><td align=\"left\" class=\"title\"> <a href=\"article-jan-1740.html\">Digital guru floats sub-$100 PC</a></td></tr>\n",
      "<tr><td align=\"left\" class=\"category\"> business</td><td align=\"left\" class=\"title\"> <a href=\"article-jan-2390.html\">EU aiming to fuel development aid</a></td></tr>\n",
      "<tr><td align=\"left\" class=\"category\"> N/A</td><td align=\"left\" class=\"title\"> <i>Article no longer available in archive</i></td></tr>\n",
      "<tr><td align=\"left\" class=\"category\"> sport</td><td align=\"left\" class=\"title\"> <a href=\"article-jan-4471.html\">England 17-18 France</a></td></tr>\n",
      "<tr><td align=\"left\" class=\"category\"> business</td><td align=\"left\" class=\"title\"> <a href=\"article-jan-3978.html\">Enron bosses in $168m payout</a></td></tr>\n",
      "<tr><td align=\"left\" class=\"category\"> business</td><td align=\"left\" class=\"title\"> <a href=\"article-jan-2209.html\">Euronext 'poised to make LSE bid'</a></td></tr>\n",
      "<tr><td align=\"left\" class=\"category\"> business</td><td align=\"left\" class=\"title\"> <a href=\"article-jan-0858.html\">Europe asks Asia for euro help</a></td></tr>\n",
      "<tr><td align=\"left\" class=\"category\"> business</td><td align=\"left\" class=\"title\"> <a href=\"article-jan-3187.html\">Europe blames US over weak dollar</a></td></tr>\n",
      "<tr><td align=\"left\" class=\"category\"> business</td><td align=\"left\" class=\"title\"> <a href=\"article-jan-1282.html\">Fannie Mae 'should restate books'</a></td></tr>\n",
      "<tr><td align=\"left\" class=\"category\"> technology</td><td align=\"left\" class=\"title\"> <a href=\"article-jan-3414.html\">Featured: 'Brainwave' cap controls computer</a></td></tr>\n",
      "<tr><td align=\"left\" class=\"category\"> technology</td><td align=\"left\" class=\"title\"> <a href=\"article-jan-2289.html\">Featured: 'Evil twin' fear for wireless net</a></td></tr>\n",
      "<tr><td align=\"left\" class=\"category\"> technology</td><td align=\"left\" class=\"title\"> <a href=\"article-jan-1899.html\">Featured: 'Friends fear' with lost mobiles</a></td></tr>\n",
      "<tr><td align=\"left\" class=\"category\"> N/A</td><td align=\"left\" class=\"title\"> <i>Article no longer available in archive</i></td></tr>\n",
      "<tr><td align=\"left\" class=\"category\"> business</td><td align=\"left\" class=\"title\"> <a href=\"article-jan-3686.html\">Featured: 'Post-Christmas lull' in lending</a></td></tr>\n",
      "<tr><td align=\"left\" class=\"category\"> business</td><td align=\"left\" class=\"title\"> <a href=\"article-jan-3679.html\">Fed warns of more US rate rises</a></td></tr>\n",
      "<tr><td align=\"left\" class=\"category\"> sport</td><td align=\"left\" class=\"title\"> <a href=\"article-jan-1469.html\">Federer forced to dig deep</a></td></tr>\n",
      "<tr><td align=\"left\" class=\"category\"> sport</td><td align=\"left\" class=\"title\"> <a href=\"article-jan-4815.html\">Ferguson puts faith in youngsters</a></td></tr>\n",
      "<tr><td align=\"left\" class=\"category\"> business</td><td align=\"left\" class=\"title\"> <a href=\"article-jan-1761.html\">GE sees 'excellent' world economy</a></td></tr>\n",
      "<tr><td align=\"left\" class=\"category\"> business</td><td align=\"left\" class=\"title\"> <a href=\"article-jan-4519.html\">GM issues 2005 profits warning</a></td></tr>\n",
      "<tr><td align=\"left\" class=\"category\"> technology</td><td align=\"left\" class=\"title\"> <a href=\"article-jan-0248.html\">Gangsters dominate gaming chart</a></td></tr>\n",
      "<tr><td align=\"left\" class=\"category\"> sport</td><td align=\"left\" class=\"title\"> <a href=\"article-jan-1280.html\">Gardener wins double in Glasgow</a></td></tr>\n",
      "<tr><td align=\"left\" class=\"category\"> N/A</td><td align=\"left\" class=\"title\"> <i>Article no longer available in archive</i></td></tr>\n",
      "<tr><td align=\"left\" class=\"category\"> business</td><td align=\"left\" class=\"title\"> <a href=\"article-jan-0154.html\">Gazprom 'in $36m back-tax claim'</a></td></tr>\n",
      "<tr><td align=\"left\" class=\"category\"> business</td><td align=\"left\" class=\"title\"> <a href=\"article-jan-4182.html\">German growth goes into reverse</a></td></tr>\n",
      "<tr><td align=\"left\" class=\"category\"> business</td><td align=\"left\" class=\"title\"> <a href=\"article-jan-3155.html\">Germany calls for EU reform</a></td></tr>\n",
      "<tr><td align=\"left\" class=\"category\"> technology</td><td align=\"left\" class=\"title\"> <a href=\"article-jan-0502.html\">Go-ahead for new internet names</a></td></tr>\n",
      "<tr><td align=\"left\" class=\"category\"> sport</td><td align=\"left\" class=\"title\"> <a href=\"article-jan-1027.html\">Greek duo cleared in doping case</a></td></tr>\n",
      "<tr><td align=\"left\" class=\"category\"> sport</td><td align=\"left\" class=\"title\"> <a href=\"article-jan-3810.html\">Hansen 'delays return until 2006'</a></td></tr>\n",
      "<tr><td align=\"left\" class=\"category\"> N/A</td><td align=\"left\" class=\"title\"> <i>Article no longer available in archive</i></td></tr>\n",
      "<tr><td align=\"left\" class=\"category\"> sport</td><td align=\"left\" class=\"title\"> <a href=\"article-jan-1481.html\">Henman &amp; Murray claim LTA awards</a></td></tr>\n",
      "<tr><td align=\"left\" class=\"category\"> sport</td><td align=\"left\" class=\"title\"> <a href=\"article-jan-2551.html\">Henman decides to quit Davis Cup</a></td></tr>\n",
      "<tr><td align=\"left\" class=\"category\"> technology</td><td align=\"left\" class=\"title\"> <a href=\"article-jan-0989.html\">Hi-tech posters guide commuters</a></td></tr>\n",
      "<tr><td align=\"left\" class=\"category\"> sport</td><td align=\"left\" class=\"title\"> <a href=\"article-jan-0633.html\">Hodgson shoulders England blame</a></td></tr>\n",
      "<tr><td align=\"left\" class=\"category\"> technology</td><td align=\"left\" class=\"title\"> <a href=\"article-jan-1566.html\">Hollywood to sue net film pirates</a></td></tr>\n",
      "<tr><td align=\"left\" class=\"category\"> sport</td><td align=\"left\" class=\"title\"> <a href=\"article-jan-0791.html\">Holmes secures comeback victory</a></td></tr>\n",
      "<tr><td align=\"left\" class=\"category\"> business</td><td align=\"left\" class=\"title\"> <a href=\"article-jan-2691.html\">House prices suffer festive fall</a></td></tr>\n",
      "<tr><td align=\"left\" class=\"category\"> sport</td><td align=\"left\" class=\"title\"> <a href=\"article-jan-3650.html\">IAAF launches fight against drugs</a></td></tr>\n",
      "<tr><td align=\"left\" class=\"category\"> business</td><td align=\"left\" class=\"title\"> <a href=\"article-jan-1867.html\">India-Pakistan peace boosts trade</a></td></tr>\n",
      "<tr><td align=\"left\" class=\"category\"> business</td><td align=\"left\" class=\"title\"> <a href=\"article-jan-2835.html\">Iraqi voters turn to economic issues</a></td></tr>\n",
      "<tr><td align=\"left\" class=\"category\"> sport</td><td align=\"left\" class=\"title\"> <a href=\"article-jan-1079.html\">Jansen suffers a further setback</a></td></tr>\n",
      "<tr><td align=\"left\" class=\"category\"> technology</td><td align=\"left\" class=\"title\"> <a href=\"article-jan-4592.html\">Latest Opera browser gets vocal</a></td></tr>\n",
      "<tr><td align=\"left\" class=\"category\"> business</td><td align=\"left\" class=\"title\"> <a href=\"article-jan-4111.html\">Laura Ashley chief stepping down</a></td></tr>\n",
      "<tr><td align=\"left\" class=\"category\"> technology</td><td align=\"left\" class=\"title\"> <a href=\"article-jan-0599.html\">Learning to love broadband</a></td></tr>\n",
      "<tr><td align=\"left\" class=\"category\"> technology</td><td align=\"left\" class=\"title\"> <a href=\"article-jan-0969.html\">Mac Mini heralds mini revolution</a></td></tr>\n",
      "<tr><td align=\"left\" class=\"category\"> business</td><td align=\"left\" class=\"title\"> <a href=\"article-jan-2042.html\">Macy's owner buys rival for $11bn</a></td></tr>\n",
      "<tr><td align=\"left\" class=\"category\"> business</td><td align=\"left\" class=\"title\"> <a href=\"article-jan-0050.html\">Madagascar completes currency switch</a></td></tr>\n",
      "<tr><td align=\"left\" class=\"category\"> sport</td><td align=\"left\" class=\"title\"> <a href=\"article-jan-4860.html\">McLeish ready for criticism</a></td></tr>\n",
      "<tr><td align=\"left\" class=\"category\"> technology</td><td align=\"left\" class=\"title\"> <a href=\"article-jan-0180.html\">Mobile games come of age</a></td></tr>\n",
      "<tr><td align=\"left\" class=\"category\"> technology</td><td align=\"left\" class=\"title\"> <a href=\"article-jan-1582.html\">More power to the people says HP</a></td></tr>\n",
      "<tr><td align=\"left\" class=\"category\"> sport</td><td align=\"left\" class=\"title\"> <a href=\"article-jan-4456.html\">Mourinho sends out warning shot</a></td></tr>\n",
      "<tr><td align=\"left\" class=\"category\"> sport</td><td align=\"left\" class=\"title\"> <a href=\"article-jan-3002.html\">Moya suffers shock loss</a></td></tr>\n",
      "<tr><td align=\"left\" class=\"category\"> sport</td><td align=\"left\" class=\"title\"> <a href=\"article-jan-2380.html\">Moyes U-turn on Beattie dismissal</a></td></tr>\n",
      "<tr><td align=\"left\" class=\"category\"> sport</td><td align=\"left\" class=\"title\"> <a href=\"article-jan-3243.html\">Murray returns to Scotland fold</a></td></tr>\n",
      "<tr><td align=\"left\" class=\"category\"> business</td><td align=\"left\" class=\"title\"> <a href=\"article-jan-3151.html\">Mystery surrounds new Yukos owner</a></td></tr>\n",
      "<tr><td align=\"left\" class=\"category\"> sport</td><td align=\"left\" class=\"title\"> <a href=\"article-jan-2619.html\">Off-colour Gardener storms to win</a></td></tr>\n",
      "<tr><td align=\"left\" class=\"category\"> business</td><td align=\"left\" class=\"title\"> <a href=\"article-jan-1811.html\">Oil companies get Russian setback</a></td></tr>\n",
      "<tr><td align=\"left\" class=\"category\"> sport</td><td align=\"left\" class=\"title\"> <a href=\"article-jan-3831.html\">Owen may have to return home</a></td></tr>\n",
      "<tr><td align=\"left\" class=\"category\"> sport</td><td align=\"left\" class=\"title\"> <a href=\"article-jan-4567.html\">Pearce keen on succeeding Keegan</a></td></tr>\n",
      "<tr><td align=\"left\" class=\"category\"> technology</td><td align=\"left\" class=\"title\"> <a href=\"article-jan-3938.html\">Poles play with GameBoy 'blip-pop'</a></td></tr>\n",
      "<tr><td align=\"left\" class=\"category\"> sport</td><td align=\"left\" class=\"title\"> <a href=\"article-jan-4175.html\">Premier League probes Cole claims</a></td></tr>\n",
      "<tr><td align=\"left\" class=\"category\"> sport</td><td align=\"left\" class=\"title\"> <a href=\"article-jan-0237.html\">Prodigy Monfils blows away Gaudio</a></td></tr>\n",
      "<tr><td align=\"left\" class=\"category\"> technology</td><td align=\"left\" class=\"title\"> <a href=\"article-jan-0924.html\">Remote control rifle range debuts</a></td></tr>\n",
      "<tr><td align=\"left\" class=\"category\"> sport</td><td align=\"left\" class=\"title\"> <a href=\"article-jan-1731.html\">Robinson ready for difficult task</a></td></tr>\n",
      "<tr><td align=\"left\" class=\"category\"> technology</td><td align=\"left\" class=\"title\"> <a href=\"article-jan-3981.html\">Row brewing over peer-to-peer ads</a></td></tr>\n",
      "<tr><td align=\"left\" class=\"category\"> sport</td><td align=\"left\" class=\"title\"> <a href=\"article-jan-2769.html\">Rusedski angry over supplements</a></td></tr>\n",
      "<tr><td align=\"left\" class=\"category\"> business</td><td align=\"left\" class=\"title\"> <a href=\"article-jan-2140.html\">S Korean lender faces liquidation</a></td></tr>\n",
      "<tr><td align=\"left\" class=\"category\"> sport</td><td align=\"left\" class=\"title\"> <a href=\"article-jan-3329.html\">SFA awaits report over Mikoliunas</a></td></tr>\n",
      "<tr><td align=\"left\" class=\"category\"> sport</td><td align=\"left\" class=\"title\"> <a href=\"article-jan-1087.html\">Safin cool on Wimbledon</a></td></tr>\n",
      "<tr><td align=\"left\" class=\"category\"> sport</td><td align=\"left\" class=\"title\"> <a href=\"article-jan-0480.html\">Safin plays down Wimbledon hopes</a></td></tr>\n",
      "<tr><td align=\"left\" class=\"category\"> technology</td><td align=\"left\" class=\"title\"> <a href=\"article-jan-2591.html\">Satellite mapping aids Darfur relief</a></td></tr>\n",
      "<tr><td align=\"left\" class=\"category\"> technology</td><td align=\"left\" class=\"title\"> <a href=\"article-jan-2407.html\">Search sites get closer to users</a></td></tr>\n",
      "<tr><td align=\"left\" class=\"category\"> technology</td><td align=\"left\" class=\"title\"> <a href=\"article-jan-1520.html\">Security scares spark browser fix</a></td></tr>\n",
      "<tr><td align=\"left\" class=\"category\"> business</td><td align=\"left\" class=\"title\"> <a href=\"article-jan-3036.html\">Senior Fannie Mae bosses resign</a></td></tr>\n",
      "<tr><td align=\"left\" class=\"category\"> technology</td><td align=\"left\" class=\"title\"> <a href=\"article-jan-1051.html\">Solutions to net security fears</a></td></tr>\n",
      "<tr><td align=\"left\" class=\"category\"> business</td><td align=\"left\" class=\"title\"> <a href=\"article-jan-2864.html\">Split-caps pay £194m compensation</a></td></tr>\n",
      "<tr><td align=\"left\" class=\"category\"> sport</td><td align=\"left\" class=\"title\"> <a href=\"article-jan-4078.html\">Sports Stock Tips</a></td></tr>\n",
      "<tr><td align=\"left\" class=\"category\"> business</td><td align=\"left\" class=\"title\"> <a href=\"article-jan-0269.html\">Strong quarterly growth for Nike</a></td></tr>\n",
      "<tr><td align=\"left\" class=\"category\"> technology</td><td align=\"left\" class=\"title\"> <a href=\"article-jan-1728.html\">T-Mobile bets on 'pocket office'</a></td></tr>\n",
      "<tr><td align=\"left\" class=\"category\"> sport</td><td align=\"left\" class=\"title\"> <a href=\"article-jan-0976.html\">Thanou desperate to make return</a></td></tr>\n",
      "<tr><td align=\"left\" class=\"category\"> sport</td><td align=\"left\" class=\"title\"> <a href=\"article-jan-3315.html\">Thompson says Gerrard should stay</a></td></tr>\n",
      "<tr><td align=\"left\" class=\"category\"> sport</td><td align=\"left\" class=\"title\"> <a href=\"article-jan-3425.html\">Time to get tough on friendlies?</a></td></tr>\n",
      "<tr><td align=\"left\" class=\"category\"> technology</td><td align=\"left\" class=\"title\"> <a href=\"article-jan-1296.html\">US peer-to-peer pirates convicted</a></td></tr>\n",
      "<tr><td align=\"left\" class=\"category\"> technology</td><td align=\"left\" class=\"title\"> <a href=\"article-jan-4675.html\">US top of supercomputing charts</a></td></tr>\n",
      "<tr><td align=\"left\" class=\"category\"> business</td><td align=\"left\" class=\"title\"> <a href=\"article-jan-3694.html\">Venezuela and China sign oil deal</a></td></tr>\n",
      "<tr><td align=\"left\" class=\"category\"> business</td><td align=\"left\" class=\"title\"> <a href=\"article-jan-1550.html\">Weak end-of-year sales hit Next</a></td></tr>\n",
      "<tr><td align=\"left\" class=\"category\"> sport</td><td align=\"left\" class=\"title\"> <a href=\"article-jan-1587.html\">Williams says he will never quit</a></td></tr>\n",
      "<tr><td align=\"left\" class=\"category\"> business</td><td align=\"left\" class=\"title\"> <a href=\"article-jan-0587.html\">Winemaker rejects Foster's offer</a></td></tr>\n",
      "<tr><td align=\"left\" class=\"category\"> business</td><td align=\"left\" class=\"title\"> <a href=\"article-jan-1650.html\">Worldcom boss 'left books alone'</a></td></tr>\n",
      "<tr><td align=\"left\" class=\"category\"> technology</td><td align=\"left\" class=\"title\"> <a href=\"article-jan-0867.html\">Xbox 2 may be unveiled in summer</a></td></tr>\n",
      "<tr><td align=\"left\" class=\"category\"> technology</td><td align=\"left\" class=\"title\"> <a href=\"article-jan-0457.html\">Xbox power cable 'fire fear'</a></td></tr>\n",
      "<tr><td align=\"left\" class=\"category\"> business</td><td align=\"left\" class=\"title\"> <a href=\"article-jan-2075.html\">Yangtze Electric's profits double</a></td></tr>\n",
      "<tr><td align=\"left\" class=\"category\"> business</td><td align=\"left\" class=\"title\"> <a href=\"article-jan-3244.html\">Yukos loses US bankruptcy battle</a></td></tr>\n",
      "</tbody>\n",
      "</table>\n",
      "</div>\n",
      "<div class=\"footer\">\n",
      "<hr/>\n",
      "<span><a href=\"index.html\">Home</a> | <a href=\"#\">Terms &amp; Conditions</a> | <a href=\"#\">Privacy Policy</a> | <a href=\"#\">Cookie Information</a> </span><br/>\n",
      "<span>© <span class=\"thisyear\">2017</span> — Original rights holders</span>\n",
      "</div>\n",
      "</div>\n",
      "</body>\n",
      "</html>\n",
      "\n"
     ]
    }
   ],
   "source": [
    "html_page = bs4.BeautifulSoup(response.content, 'lxml')\n",
    "print(html_page)"
   ]
  },
  {
   "cell_type": "code",
   "execution_count": 16,
   "metadata": {},
   "outputs": [
    {
     "name": "stdout",
     "output_type": "stream",
     "text": [
      "<class 'bs4.element.ResultSet'>\n"
     ]
    }
   ],
   "source": [
    "selector_ = 'tbody > tr > td '\n",
    "# select return เป็น list ของ tag\n",
    "tags_ = html_page.select(selector_)\n",
    "print(type(tags))"
   ]
  },
  {
   "cell_type": "code",
   "execution_count": 17,
   "metadata": {},
   "outputs": [
    {
     "data": {
      "text/plain": [
       "[<td align=\"left\" class=\"category\"> technology</td>,\n",
       " <td align=\"left\" class=\"title\"> <a href=\"article-jan-0418.html\">21st-Century Sports: How Digital Technology Is Changing the Face Of The Sporting Industry</a></td>,\n",
       " <td align=\"left\" class=\"category\"> business</td>,\n",
       " <td align=\"left\" class=\"title\"> <a href=\"article-jan-0027.html\">Asian quake hits European shares</a></td>,\n",
       " <td align=\"left\" class=\"category\"> technology</td>,\n",
       " <td align=\"left\" class=\"title\"> <a href=\"article-jan-0631.html\">BT offers free net phone calls</a></td>,\n",
       " <td align=\"left\" class=\"category\"> business</td>,\n",
       " <td align=\"left\" class=\"title\"> <a href=\"article-jan-2105.html\">Barclays shares up on merger talk</a></td>,\n",
       " <td align=\"left\" class=\"category\"> sport</td>,\n",
       " <td align=\"left\" class=\"title\"> <a href=\"article-jan-3300.html\">Barkley fit for match in Ireland</a></td>,\n",
       " <td align=\"left\" class=\"category\"> sport</td>,\n",
       " <td align=\"left\" class=\"title\"> <a href=\"article-jan-4187.html\">Bellamy under new fire</a></td>,\n",
       " <td align=\"left\" class=\"category\"> sport</td>,\n",
       " <td align=\"left\" class=\"title\"> <a href=\"article-jan-1974.html\">Benitez 'to launch Morientes bid'</a></td>,\n",
       " <td align=\"left\" class=\"category\"> sport</td>,\n",
       " <td align=\"left\" class=\"title\"> <a href=\"article-jan-3666.html\">Benitez delight after crucial win</a></td>,\n",
       " <td align=\"left\" class=\"category\"> technology</td>,\n",
       " <td align=\"left\" class=\"title\"> <a href=\"article-jan-2629.html\">Big war games battle it out</a></td>,\n",
       " <td align=\"left\" class=\"category\"> technology</td>,\n",
       " <td align=\"left\" class=\"title\"> <a href=\"article-jan-2415.html\">British Library gets wireless net</a></td>,\n",
       " <td align=\"left\" class=\"category\"> sport</td>,\n",
       " <td align=\"left\" class=\"title\"> <a href=\"article-jan-4210.html\">Brizzel to run AAA's in Sheffield</a></td>,\n",
       " <td align=\"left\" class=\"category\"> business</td>,\n",
       " <td align=\"left\" class=\"title\"> <a href=\"article-jan-4789.html\">Bush budget seeks deep cutbacks</a></td>,\n",
       " <td align=\"left\" class=\"category\"> business</td>,\n",
       " <td align=\"left\" class=\"title\"> <a href=\"article-jan-3452.html\">Bush to get 'tough' on deficit</a></td>,\n",
       " <td align=\"left\" class=\"category\"> technology</td>,\n",
       " <td align=\"left\" class=\"title\"> <a href=\"article-jan-2428.html\">Cable offers video-on-demand</a></td>,\n",
       " <td align=\"left\" class=\"category\"> technology</td>,\n",
       " <td align=\"left\" class=\"title\"> <a href=\"article-jan-4766.html\">Cabs collect mountain of mobiles</a></td>,\n",
       " <td align=\"left\" class=\"category\"> technology</td>,\n",
       " <td align=\"left\" class=\"title\"> <a href=\"article-jan-2595.html\">Camera phones are 'must-haves'</a></td>,\n",
       " <td align=\"left\" class=\"category\"> business</td>,\n",
       " <td align=\"left\" class=\"title\"> <a href=\"article-jan-2935.html\">Card fraudsters 'targeting web'</a></td>,\n",
       " <td align=\"left\" class=\"category\"> business</td>,\n",
       " <td align=\"left\" class=\"title\"> <a href=\"article-jan-0578.html\">Cash gives way to flexible friend</a></td>,\n",
       " <td align=\"left\" class=\"category\"> technology</td>,\n",
       " <td align=\"left\" class=\"title\"> <a href=\"article-jan-3023.html\">Cebit opens to mobile music tune</a></td>,\n",
       " <td align=\"left\" class=\"category\"> sport</td>,\n",
       " <td align=\"left\" class=\"title\"> <a href=\"article-jan-2356.html\">Charvis set to lose fitness bid</a></td>,\n",
       " <td align=\"left\" class=\"category\"> sport</td>,\n",
       " <td align=\"left\" class=\"title\"> <a href=\"article-jan-1023.html\">Chelsea hold Arsenal</a></td>,\n",
       " <td align=\"left\" class=\"category\"> business</td>,\n",
       " <td align=\"left\" class=\"title\"> <a href=\"article-jan-0641.html\">Christmas sales worst since 1981</a></td>,\n",
       " <td align=\"left\" class=\"category\"> sport</td>,\n",
       " <td align=\"left\" class=\"title\"> <a href=\"article-jan-2461.html\">Clijsters set for February return</a></td>,\n",
       " <td align=\"left\" class=\"category\"> sport</td>,\n",
       " <td align=\"left\" class=\"title\"> <a href=\"article-jan-4541.html\">Clyde 0-5 Celtic</a></td>,\n",
       " <td align=\"left\" class=\"category\"> sport</td>,\n",
       " <td align=\"left\" class=\"title\"> <a href=\"article-jan-1259.html\">Coach Ranieri sacked by Valencia</a></td>,\n",
       " <td align=\"left\" class=\"category\"> technology</td>,\n",
       " <td align=\"left\" class=\"title\"> <a href=\"article-jan-4007.html\">Confusion over high-definition TV</a></td>,\n",
       " <td align=\"left\" class=\"category\"> business</td>,\n",
       " <td align=\"left\" class=\"title\"> <a href=\"article-jan-4171.html\">Cuba winds back economic clock</a></td>,\n",
       " <td align=\"left\" class=\"category\"> technology</td>,\n",
       " <td align=\"left\" class=\"title\"> <a href=\"article-jan-0272.html\">DS aims to touch gamers</a></td>,\n",
       " <td align=\"left\" class=\"category\"> sport</td>,\n",
       " <td align=\"left\" class=\"title\"> <a href=\"article-jan-4894.html\">Dawson set for new Wasps contract</a></td>,\n",
       " <td align=\"left\" class=\"category\"> business</td>,\n",
       " <td align=\"left\" class=\"title\"> <a href=\"article-jan-4504.html\">Diageo to buy US wine firm</a></td>,\n",
       " <td align=\"left\" class=\"category\"> technology</td>,\n",
       " <td align=\"left\" class=\"title\"> <a href=\"article-jan-1740.html\">Digital guru floats sub-$100 PC</a></td>,\n",
       " <td align=\"left\" class=\"category\"> business</td>,\n",
       " <td align=\"left\" class=\"title\"> <a href=\"article-jan-2390.html\">EU aiming to fuel development aid</a></td>,\n",
       " <td align=\"left\" class=\"category\"> N/A</td>,\n",
       " <td align=\"left\" class=\"title\"> <i>Article no longer available in archive</i></td>,\n",
       " <td align=\"left\" class=\"category\"> sport</td>,\n",
       " <td align=\"left\" class=\"title\"> <a href=\"article-jan-4471.html\">England 17-18 France</a></td>,\n",
       " <td align=\"left\" class=\"category\"> business</td>,\n",
       " <td align=\"left\" class=\"title\"> <a href=\"article-jan-3978.html\">Enron bosses in $168m payout</a></td>,\n",
       " <td align=\"left\" class=\"category\"> business</td>,\n",
       " <td align=\"left\" class=\"title\"> <a href=\"article-jan-2209.html\">Euronext 'poised to make LSE bid'</a></td>,\n",
       " <td align=\"left\" class=\"category\"> business</td>,\n",
       " <td align=\"left\" class=\"title\"> <a href=\"article-jan-0858.html\">Europe asks Asia for euro help</a></td>,\n",
       " <td align=\"left\" class=\"category\"> business</td>,\n",
       " <td align=\"left\" class=\"title\"> <a href=\"article-jan-3187.html\">Europe blames US over weak dollar</a></td>,\n",
       " <td align=\"left\" class=\"category\"> business</td>,\n",
       " <td align=\"left\" class=\"title\"> <a href=\"article-jan-1282.html\">Fannie Mae 'should restate books'</a></td>,\n",
       " <td align=\"left\" class=\"category\"> technology</td>,\n",
       " <td align=\"left\" class=\"title\"> <a href=\"article-jan-3414.html\">Featured: 'Brainwave' cap controls computer</a></td>,\n",
       " <td align=\"left\" class=\"category\"> technology</td>,\n",
       " <td align=\"left\" class=\"title\"> <a href=\"article-jan-2289.html\">Featured: 'Evil twin' fear for wireless net</a></td>,\n",
       " <td align=\"left\" class=\"category\"> technology</td>,\n",
       " <td align=\"left\" class=\"title\"> <a href=\"article-jan-1899.html\">Featured: 'Friends fear' with lost mobiles</a></td>,\n",
       " <td align=\"left\" class=\"category\"> N/A</td>,\n",
       " <td align=\"left\" class=\"title\"> <i>Article no longer available in archive</i></td>,\n",
       " <td align=\"left\" class=\"category\"> business</td>,\n",
       " <td align=\"left\" class=\"title\"> <a href=\"article-jan-3686.html\">Featured: 'Post-Christmas lull' in lending</a></td>,\n",
       " <td align=\"left\" class=\"category\"> business</td>,\n",
       " <td align=\"left\" class=\"title\"> <a href=\"article-jan-3679.html\">Fed warns of more US rate rises</a></td>,\n",
       " <td align=\"left\" class=\"category\"> sport</td>,\n",
       " <td align=\"left\" class=\"title\"> <a href=\"article-jan-1469.html\">Federer forced to dig deep</a></td>,\n",
       " <td align=\"left\" class=\"category\"> sport</td>,\n",
       " <td align=\"left\" class=\"title\"> <a href=\"article-jan-4815.html\">Ferguson puts faith in youngsters</a></td>,\n",
       " <td align=\"left\" class=\"category\"> business</td>,\n",
       " <td align=\"left\" class=\"title\"> <a href=\"article-jan-1761.html\">GE sees 'excellent' world economy</a></td>,\n",
       " <td align=\"left\" class=\"category\"> business</td>,\n",
       " <td align=\"left\" class=\"title\"> <a href=\"article-jan-4519.html\">GM issues 2005 profits warning</a></td>,\n",
       " <td align=\"left\" class=\"category\"> technology</td>,\n",
       " <td align=\"left\" class=\"title\"> <a href=\"article-jan-0248.html\">Gangsters dominate gaming chart</a></td>,\n",
       " <td align=\"left\" class=\"category\"> sport</td>,\n",
       " <td align=\"left\" class=\"title\"> <a href=\"article-jan-1280.html\">Gardener wins double in Glasgow</a></td>,\n",
       " <td align=\"left\" class=\"category\"> N/A</td>,\n",
       " <td align=\"left\" class=\"title\"> <i>Article no longer available in archive</i></td>,\n",
       " <td align=\"left\" class=\"category\"> business</td>,\n",
       " <td align=\"left\" class=\"title\"> <a href=\"article-jan-0154.html\">Gazprom 'in $36m back-tax claim'</a></td>,\n",
       " <td align=\"left\" class=\"category\"> business</td>,\n",
       " <td align=\"left\" class=\"title\"> <a href=\"article-jan-4182.html\">German growth goes into reverse</a></td>,\n",
       " <td align=\"left\" class=\"category\"> business</td>,\n",
       " <td align=\"left\" class=\"title\"> <a href=\"article-jan-3155.html\">Germany calls for EU reform</a></td>,\n",
       " <td align=\"left\" class=\"category\"> technology</td>,\n",
       " <td align=\"left\" class=\"title\"> <a href=\"article-jan-0502.html\">Go-ahead for new internet names</a></td>,\n",
       " <td align=\"left\" class=\"category\"> sport</td>,\n",
       " <td align=\"left\" class=\"title\"> <a href=\"article-jan-1027.html\">Greek duo cleared in doping case</a></td>,\n",
       " <td align=\"left\" class=\"category\"> sport</td>,\n",
       " <td align=\"left\" class=\"title\"> <a href=\"article-jan-3810.html\">Hansen 'delays return until 2006'</a></td>,\n",
       " <td align=\"left\" class=\"category\"> N/A</td>,\n",
       " <td align=\"left\" class=\"title\"> <i>Article no longer available in archive</i></td>,\n",
       " <td align=\"left\" class=\"category\"> sport</td>,\n",
       " <td align=\"left\" class=\"title\"> <a href=\"article-jan-1481.html\">Henman &amp; Murray claim LTA awards</a></td>,\n",
       " <td align=\"left\" class=\"category\"> sport</td>,\n",
       " <td align=\"left\" class=\"title\"> <a href=\"article-jan-2551.html\">Henman decides to quit Davis Cup</a></td>,\n",
       " <td align=\"left\" class=\"category\"> technology</td>,\n",
       " <td align=\"left\" class=\"title\"> <a href=\"article-jan-0989.html\">Hi-tech posters guide commuters</a></td>,\n",
       " <td align=\"left\" class=\"category\"> sport</td>,\n",
       " <td align=\"left\" class=\"title\"> <a href=\"article-jan-0633.html\">Hodgson shoulders England blame</a></td>,\n",
       " <td align=\"left\" class=\"category\"> technology</td>,\n",
       " <td align=\"left\" class=\"title\"> <a href=\"article-jan-1566.html\">Hollywood to sue net film pirates</a></td>,\n",
       " <td align=\"left\" class=\"category\"> sport</td>,\n",
       " <td align=\"left\" class=\"title\"> <a href=\"article-jan-0791.html\">Holmes secures comeback victory</a></td>,\n",
       " <td align=\"left\" class=\"category\"> business</td>,\n",
       " <td align=\"left\" class=\"title\"> <a href=\"article-jan-2691.html\">House prices suffer festive fall</a></td>,\n",
       " <td align=\"left\" class=\"category\"> sport</td>,\n",
       " <td align=\"left\" class=\"title\"> <a href=\"article-jan-3650.html\">IAAF launches fight against drugs</a></td>,\n",
       " <td align=\"left\" class=\"category\"> business</td>,\n",
       " <td align=\"left\" class=\"title\"> <a href=\"article-jan-1867.html\">India-Pakistan peace boosts trade</a></td>,\n",
       " <td align=\"left\" class=\"category\"> business</td>,\n",
       " <td align=\"left\" class=\"title\"> <a href=\"article-jan-2835.html\">Iraqi voters turn to economic issues</a></td>,\n",
       " <td align=\"left\" class=\"category\"> sport</td>,\n",
       " <td align=\"left\" class=\"title\"> <a href=\"article-jan-1079.html\">Jansen suffers a further setback</a></td>,\n",
       " <td align=\"left\" class=\"category\"> technology</td>,\n",
       " <td align=\"left\" class=\"title\"> <a href=\"article-jan-4592.html\">Latest Opera browser gets vocal</a></td>,\n",
       " <td align=\"left\" class=\"category\"> business</td>,\n",
       " <td align=\"left\" class=\"title\"> <a href=\"article-jan-4111.html\">Laura Ashley chief stepping down</a></td>,\n",
       " <td align=\"left\" class=\"category\"> technology</td>,\n",
       " <td align=\"left\" class=\"title\"> <a href=\"article-jan-0599.html\">Learning to love broadband</a></td>,\n",
       " <td align=\"left\" class=\"category\"> technology</td>,\n",
       " <td align=\"left\" class=\"title\"> <a href=\"article-jan-0969.html\">Mac Mini heralds mini revolution</a></td>,\n",
       " <td align=\"left\" class=\"category\"> business</td>,\n",
       " <td align=\"left\" class=\"title\"> <a href=\"article-jan-2042.html\">Macy's owner buys rival for $11bn</a></td>,\n",
       " <td align=\"left\" class=\"category\"> business</td>,\n",
       " <td align=\"left\" class=\"title\"> <a href=\"article-jan-0050.html\">Madagascar completes currency switch</a></td>,\n",
       " <td align=\"left\" class=\"category\"> sport</td>,\n",
       " <td align=\"left\" class=\"title\"> <a href=\"article-jan-4860.html\">McLeish ready for criticism</a></td>,\n",
       " <td align=\"left\" class=\"category\"> technology</td>,\n",
       " <td align=\"left\" class=\"title\"> <a href=\"article-jan-0180.html\">Mobile games come of age</a></td>,\n",
       " <td align=\"left\" class=\"category\"> technology</td>,\n",
       " <td align=\"left\" class=\"title\"> <a href=\"article-jan-1582.html\">More power to the people says HP</a></td>,\n",
       " <td align=\"left\" class=\"category\"> sport</td>,\n",
       " <td align=\"left\" class=\"title\"> <a href=\"article-jan-4456.html\">Mourinho sends out warning shot</a></td>,\n",
       " <td align=\"left\" class=\"category\"> sport</td>,\n",
       " <td align=\"left\" class=\"title\"> <a href=\"article-jan-3002.html\">Moya suffers shock loss</a></td>,\n",
       " <td align=\"left\" class=\"category\"> sport</td>,\n",
       " <td align=\"left\" class=\"title\"> <a href=\"article-jan-2380.html\">Moyes U-turn on Beattie dismissal</a></td>,\n",
       " <td align=\"left\" class=\"category\"> sport</td>,\n",
       " <td align=\"left\" class=\"title\"> <a href=\"article-jan-3243.html\">Murray returns to Scotland fold</a></td>,\n",
       " <td align=\"left\" class=\"category\"> business</td>,\n",
       " <td align=\"left\" class=\"title\"> <a href=\"article-jan-3151.html\">Mystery surrounds new Yukos owner</a></td>,\n",
       " <td align=\"left\" class=\"category\"> sport</td>,\n",
       " <td align=\"left\" class=\"title\"> <a href=\"article-jan-2619.html\">Off-colour Gardener storms to win</a></td>,\n",
       " <td align=\"left\" class=\"category\"> business</td>,\n",
       " <td align=\"left\" class=\"title\"> <a href=\"article-jan-1811.html\">Oil companies get Russian setback</a></td>,\n",
       " <td align=\"left\" class=\"category\"> sport</td>,\n",
       " <td align=\"left\" class=\"title\"> <a href=\"article-jan-3831.html\">Owen may have to return home</a></td>,\n",
       " <td align=\"left\" class=\"category\"> sport</td>,\n",
       " <td align=\"left\" class=\"title\"> <a href=\"article-jan-4567.html\">Pearce keen on succeeding Keegan</a></td>,\n",
       " <td align=\"left\" class=\"category\"> technology</td>,\n",
       " <td align=\"left\" class=\"title\"> <a href=\"article-jan-3938.html\">Poles play with GameBoy 'blip-pop'</a></td>,\n",
       " <td align=\"left\" class=\"category\"> sport</td>,\n",
       " <td align=\"left\" class=\"title\"> <a href=\"article-jan-4175.html\">Premier League probes Cole claims</a></td>,\n",
       " <td align=\"left\" class=\"category\"> sport</td>,\n",
       " <td align=\"left\" class=\"title\"> <a href=\"article-jan-0237.html\">Prodigy Monfils blows away Gaudio</a></td>,\n",
       " <td align=\"left\" class=\"category\"> technology</td>,\n",
       " <td align=\"left\" class=\"title\"> <a href=\"article-jan-0924.html\">Remote control rifle range debuts</a></td>,\n",
       " <td align=\"left\" class=\"category\"> sport</td>,\n",
       " <td align=\"left\" class=\"title\"> <a href=\"article-jan-1731.html\">Robinson ready for difficult task</a></td>,\n",
       " <td align=\"left\" class=\"category\"> technology</td>,\n",
       " <td align=\"left\" class=\"title\"> <a href=\"article-jan-3981.html\">Row brewing over peer-to-peer ads</a></td>,\n",
       " <td align=\"left\" class=\"category\"> sport</td>,\n",
       " <td align=\"left\" class=\"title\"> <a href=\"article-jan-2769.html\">Rusedski angry over supplements</a></td>,\n",
       " <td align=\"left\" class=\"category\"> business</td>,\n",
       " <td align=\"left\" class=\"title\"> <a href=\"article-jan-2140.html\">S Korean lender faces liquidation</a></td>,\n",
       " <td align=\"left\" class=\"category\"> sport</td>,\n",
       " <td align=\"left\" class=\"title\"> <a href=\"article-jan-3329.html\">SFA awaits report over Mikoliunas</a></td>,\n",
       " <td align=\"left\" class=\"category\"> sport</td>,\n",
       " <td align=\"left\" class=\"title\"> <a href=\"article-jan-1087.html\">Safin cool on Wimbledon</a></td>,\n",
       " <td align=\"left\" class=\"category\"> sport</td>,\n",
       " <td align=\"left\" class=\"title\"> <a href=\"article-jan-0480.html\">Safin plays down Wimbledon hopes</a></td>,\n",
       " <td align=\"left\" class=\"category\"> technology</td>,\n",
       " <td align=\"left\" class=\"title\"> <a href=\"article-jan-2591.html\">Satellite mapping aids Darfur relief</a></td>,\n",
       " <td align=\"left\" class=\"category\"> technology</td>,\n",
       " <td align=\"left\" class=\"title\"> <a href=\"article-jan-2407.html\">Search sites get closer to users</a></td>,\n",
       " <td align=\"left\" class=\"category\"> technology</td>,\n",
       " <td align=\"left\" class=\"title\"> <a href=\"article-jan-1520.html\">Security scares spark browser fix</a></td>,\n",
       " <td align=\"left\" class=\"category\"> business</td>,\n",
       " <td align=\"left\" class=\"title\"> <a href=\"article-jan-3036.html\">Senior Fannie Mae bosses resign</a></td>,\n",
       " <td align=\"left\" class=\"category\"> technology</td>,\n",
       " <td align=\"left\" class=\"title\"> <a href=\"article-jan-1051.html\">Solutions to net security fears</a></td>,\n",
       " <td align=\"left\" class=\"category\"> business</td>,\n",
       " <td align=\"left\" class=\"title\"> <a href=\"article-jan-2864.html\">Split-caps pay £194m compensation</a></td>,\n",
       " <td align=\"left\" class=\"category\"> sport</td>,\n",
       " <td align=\"left\" class=\"title\"> <a href=\"article-jan-4078.html\">Sports Stock Tips</a></td>,\n",
       " <td align=\"left\" class=\"category\"> business</td>,\n",
       " <td align=\"left\" class=\"title\"> <a href=\"article-jan-0269.html\">Strong quarterly growth for Nike</a></td>,\n",
       " <td align=\"left\" class=\"category\"> technology</td>,\n",
       " <td align=\"left\" class=\"title\"> <a href=\"article-jan-1728.html\">T-Mobile bets on 'pocket office'</a></td>,\n",
       " <td align=\"left\" class=\"category\"> sport</td>,\n",
       " <td align=\"left\" class=\"title\"> <a href=\"article-jan-0976.html\">Thanou desperate to make return</a></td>,\n",
       " <td align=\"left\" class=\"category\"> sport</td>,\n",
       " <td align=\"left\" class=\"title\"> <a href=\"article-jan-3315.html\">Thompson says Gerrard should stay</a></td>,\n",
       " <td align=\"left\" class=\"category\"> sport</td>,\n",
       " <td align=\"left\" class=\"title\"> <a href=\"article-jan-3425.html\">Time to get tough on friendlies?</a></td>,\n",
       " <td align=\"left\" class=\"category\"> technology</td>,\n",
       " <td align=\"left\" class=\"title\"> <a href=\"article-jan-1296.html\">US peer-to-peer pirates convicted</a></td>,\n",
       " <td align=\"left\" class=\"category\"> technology</td>,\n",
       " <td align=\"left\" class=\"title\"> <a href=\"article-jan-4675.html\">US top of supercomputing charts</a></td>,\n",
       " <td align=\"left\" class=\"category\"> business</td>,\n",
       " <td align=\"left\" class=\"title\"> <a href=\"article-jan-3694.html\">Venezuela and China sign oil deal</a></td>,\n",
       " <td align=\"left\" class=\"category\"> business</td>,\n",
       " <td align=\"left\" class=\"title\"> <a href=\"article-jan-1550.html\">Weak end-of-year sales hit Next</a></td>,\n",
       " <td align=\"left\" class=\"category\"> sport</td>,\n",
       " <td align=\"left\" class=\"title\"> <a href=\"article-jan-1587.html\">Williams says he will never quit</a></td>,\n",
       " <td align=\"left\" class=\"category\"> business</td>,\n",
       " <td align=\"left\" class=\"title\"> <a href=\"article-jan-0587.html\">Winemaker rejects Foster's offer</a></td>,\n",
       " <td align=\"left\" class=\"category\"> business</td>,\n",
       " <td align=\"left\" class=\"title\"> <a href=\"article-jan-1650.html\">Worldcom boss 'left books alone'</a></td>,\n",
       " <td align=\"left\" class=\"category\"> technology</td>,\n",
       " <td align=\"left\" class=\"title\"> <a href=\"article-jan-0867.html\">Xbox 2 may be unveiled in summer</a></td>,\n",
       " <td align=\"left\" class=\"category\"> technology</td>,\n",
       " <td align=\"left\" class=\"title\"> <a href=\"article-jan-0457.html\">Xbox power cable 'fire fear'</a></td>,\n",
       " <td align=\"left\" class=\"category\"> business</td>,\n",
       " <td align=\"left\" class=\"title\"> <a href=\"article-jan-2075.html\">Yangtze Electric's profits double</a></td>,\n",
       " <td align=\"left\" class=\"category\"> business</td>,\n",
       " <td align=\"left\" class=\"title\"> <a href=\"article-jan-3244.html\">Yukos loses US bankruptcy battle</a></td>]"
      ]
     },
     "execution_count": 17,
     "metadata": {},
     "output_type": "execute_result"
    }
   ],
   "source": [
    "tags_"
   ]
  },
  {
   "cell_type": "code",
   "execution_count": 18,
   "metadata": {},
   "outputs": [
    {
     "data": {
      "text/plain": [
       "'\\xa021st-Century Sports: How Digital Technology Is Changing the Face Of The Sporting Industry'"
      ]
     },
     "execution_count": 18,
     "metadata": {},
     "output_type": "execute_result"
    }
   ],
   "source": [
    "tags_[1].text"
   ]
  },
  {
   "cell_type": "code",
   "execution_count": 19,
   "metadata": {},
   "outputs": [
    {
     "name": "stdout",
     "output_type": "stream",
     "text": [
      " technology\n",
      " business\n",
      " technology\n",
      " business\n",
      " sport\n",
      " sport\n",
      " sport\n",
      " sport\n",
      " technology\n",
      " technology\n",
      " sport\n",
      " business\n",
      " business\n",
      " technology\n",
      " technology\n",
      " technology\n",
      " business\n",
      " business\n",
      " technology\n",
      " sport\n",
      " sport\n",
      " business\n",
      " sport\n",
      " sport\n",
      " sport\n",
      " technology\n",
      " business\n",
      " technology\n",
      " sport\n",
      " business\n",
      " technology\n",
      " business\n",
      " N/A\n",
      " sport\n",
      " business\n",
      " business\n",
      " business\n",
      " business\n",
      " business\n",
      " technology\n",
      " technology\n",
      " technology\n",
      " N/A\n",
      " business\n",
      " business\n",
      " sport\n",
      " sport\n",
      " business\n",
      " business\n",
      " technology\n",
      " sport\n",
      " N/A\n",
      " business\n",
      " business\n",
      " business\n",
      " technology\n",
      " sport\n",
      " sport\n",
      " N/A\n",
      " sport\n",
      " sport\n",
      " technology\n",
      " sport\n",
      " technology\n",
      " sport\n",
      " business\n",
      " sport\n",
      " business\n",
      " business\n",
      " sport\n",
      " technology\n",
      " business\n",
      " technology\n",
      " technology\n",
      " business\n",
      " business\n",
      " sport\n",
      " technology\n",
      " technology\n",
      " sport\n",
      " sport\n",
      " sport\n",
      " sport\n",
      " business\n",
      " sport\n",
      " business\n",
      " sport\n",
      " sport\n",
      " technology\n",
      " sport\n",
      " sport\n",
      " technology\n",
      " sport\n",
      " technology\n",
      " sport\n",
      " business\n",
      " sport\n",
      " sport\n",
      " sport\n",
      " technology\n",
      " technology\n",
      " technology\n",
      " business\n",
      " technology\n",
      " business\n",
      " sport\n",
      " business\n",
      " technology\n",
      " sport\n",
      " sport\n",
      " sport\n",
      " technology\n",
      " technology\n",
      " business\n",
      " business\n",
      " sport\n",
      " business\n",
      " business\n",
      " technology\n",
      " technology\n",
      " business\n",
      " business\n"
     ]
    }
   ],
   "source": [
    "for i in range(0,len(tags_)):\n",
    "    if  (i  % 2  == 0):\n",
    "        print(tags_[i].text)"
   ]
  },
  {
   "cell_type": "markdown",
   "metadata": {},
   "source": [
    "# ดึง text\n",
    "http://www.it.kmitl.ac.th/~teerapong/news_archive/"
   ]
  },
  {
   "cell_type": "code",
   "execution_count": 20,
   "metadata": {},
   "outputs": [
    {
     "name": "stdout",
     "output_type": "stream",
     "text": [
      "<class 'bs4.element.ResultSet'>\n"
     ]
    }
   ],
   "source": [
    "selector_text = 'tbody > tr > td > a '\n",
    "# select return เป็น list ของ tag\n",
    "tags_text = html_page.select(selector_text)\n",
    "print(type(tags))"
   ]
  },
  {
   "cell_type": "code",
   "execution_count": 21,
   "metadata": {},
   "outputs": [
    {
     "data": {
      "text/plain": [
       "[<a href=\"article-jan-0418.html\">21st-Century Sports: How Digital Technology Is Changing the Face Of The Sporting Industry</a>,\n",
       " <a href=\"article-jan-0027.html\">Asian quake hits European shares</a>,\n",
       " <a href=\"article-jan-0631.html\">BT offers free net phone calls</a>,\n",
       " <a href=\"article-jan-2105.html\">Barclays shares up on merger talk</a>,\n",
       " <a href=\"article-jan-3300.html\">Barkley fit for match in Ireland</a>,\n",
       " <a href=\"article-jan-4187.html\">Bellamy under new fire</a>,\n",
       " <a href=\"article-jan-1974.html\">Benitez 'to launch Morientes bid'</a>,\n",
       " <a href=\"article-jan-3666.html\">Benitez delight after crucial win</a>,\n",
       " <a href=\"article-jan-2629.html\">Big war games battle it out</a>,\n",
       " <a href=\"article-jan-2415.html\">British Library gets wireless net</a>,\n",
       " <a href=\"article-jan-4210.html\">Brizzel to run AAA's in Sheffield</a>,\n",
       " <a href=\"article-jan-4789.html\">Bush budget seeks deep cutbacks</a>,\n",
       " <a href=\"article-jan-3452.html\">Bush to get 'tough' on deficit</a>,\n",
       " <a href=\"article-jan-2428.html\">Cable offers video-on-demand</a>,\n",
       " <a href=\"article-jan-4766.html\">Cabs collect mountain of mobiles</a>,\n",
       " <a href=\"article-jan-2595.html\">Camera phones are 'must-haves'</a>,\n",
       " <a href=\"article-jan-2935.html\">Card fraudsters 'targeting web'</a>,\n",
       " <a href=\"article-jan-0578.html\">Cash gives way to flexible friend</a>,\n",
       " <a href=\"article-jan-3023.html\">Cebit opens to mobile music tune</a>,\n",
       " <a href=\"article-jan-2356.html\">Charvis set to lose fitness bid</a>,\n",
       " <a href=\"article-jan-1023.html\">Chelsea hold Arsenal</a>,\n",
       " <a href=\"article-jan-0641.html\">Christmas sales worst since 1981</a>,\n",
       " <a href=\"article-jan-2461.html\">Clijsters set for February return</a>,\n",
       " <a href=\"article-jan-4541.html\">Clyde 0-5 Celtic</a>,\n",
       " <a href=\"article-jan-1259.html\">Coach Ranieri sacked by Valencia</a>,\n",
       " <a href=\"article-jan-4007.html\">Confusion over high-definition TV</a>,\n",
       " <a href=\"article-jan-4171.html\">Cuba winds back economic clock</a>,\n",
       " <a href=\"article-jan-0272.html\">DS aims to touch gamers</a>,\n",
       " <a href=\"article-jan-4894.html\">Dawson set for new Wasps contract</a>,\n",
       " <a href=\"article-jan-4504.html\">Diageo to buy US wine firm</a>,\n",
       " <a href=\"article-jan-1740.html\">Digital guru floats sub-$100 PC</a>,\n",
       " <a href=\"article-jan-2390.html\">EU aiming to fuel development aid</a>,\n",
       " <a href=\"article-jan-4471.html\">England 17-18 France</a>,\n",
       " <a href=\"article-jan-3978.html\">Enron bosses in $168m payout</a>,\n",
       " <a href=\"article-jan-2209.html\">Euronext 'poised to make LSE bid'</a>,\n",
       " <a href=\"article-jan-0858.html\">Europe asks Asia for euro help</a>,\n",
       " <a href=\"article-jan-3187.html\">Europe blames US over weak dollar</a>,\n",
       " <a href=\"article-jan-1282.html\">Fannie Mae 'should restate books'</a>,\n",
       " <a href=\"article-jan-3414.html\">Featured: 'Brainwave' cap controls computer</a>,\n",
       " <a href=\"article-jan-2289.html\">Featured: 'Evil twin' fear for wireless net</a>,\n",
       " <a href=\"article-jan-1899.html\">Featured: 'Friends fear' with lost mobiles</a>,\n",
       " <a href=\"article-jan-3686.html\">Featured: 'Post-Christmas lull' in lending</a>,\n",
       " <a href=\"article-jan-3679.html\">Fed warns of more US rate rises</a>,\n",
       " <a href=\"article-jan-1469.html\">Federer forced to dig deep</a>,\n",
       " <a href=\"article-jan-4815.html\">Ferguson puts faith in youngsters</a>,\n",
       " <a href=\"article-jan-1761.html\">GE sees 'excellent' world economy</a>,\n",
       " <a href=\"article-jan-4519.html\">GM issues 2005 profits warning</a>,\n",
       " <a href=\"article-jan-0248.html\">Gangsters dominate gaming chart</a>,\n",
       " <a href=\"article-jan-1280.html\">Gardener wins double in Glasgow</a>,\n",
       " <a href=\"article-jan-0154.html\">Gazprom 'in $36m back-tax claim'</a>,\n",
       " <a href=\"article-jan-4182.html\">German growth goes into reverse</a>,\n",
       " <a href=\"article-jan-3155.html\">Germany calls for EU reform</a>,\n",
       " <a href=\"article-jan-0502.html\">Go-ahead for new internet names</a>,\n",
       " <a href=\"article-jan-1027.html\">Greek duo cleared in doping case</a>,\n",
       " <a href=\"article-jan-3810.html\">Hansen 'delays return until 2006'</a>,\n",
       " <a href=\"article-jan-1481.html\">Henman &amp; Murray claim LTA awards</a>,\n",
       " <a href=\"article-jan-2551.html\">Henman decides to quit Davis Cup</a>,\n",
       " <a href=\"article-jan-0989.html\">Hi-tech posters guide commuters</a>,\n",
       " <a href=\"article-jan-0633.html\">Hodgson shoulders England blame</a>,\n",
       " <a href=\"article-jan-1566.html\">Hollywood to sue net film pirates</a>,\n",
       " <a href=\"article-jan-0791.html\">Holmes secures comeback victory</a>,\n",
       " <a href=\"article-jan-2691.html\">House prices suffer festive fall</a>,\n",
       " <a href=\"article-jan-3650.html\">IAAF launches fight against drugs</a>,\n",
       " <a href=\"article-jan-1867.html\">India-Pakistan peace boosts trade</a>,\n",
       " <a href=\"article-jan-2835.html\">Iraqi voters turn to economic issues</a>,\n",
       " <a href=\"article-jan-1079.html\">Jansen suffers a further setback</a>,\n",
       " <a href=\"article-jan-4592.html\">Latest Opera browser gets vocal</a>,\n",
       " <a href=\"article-jan-4111.html\">Laura Ashley chief stepping down</a>,\n",
       " <a href=\"article-jan-0599.html\">Learning to love broadband</a>,\n",
       " <a href=\"article-jan-0969.html\">Mac Mini heralds mini revolution</a>,\n",
       " <a href=\"article-jan-2042.html\">Macy's owner buys rival for $11bn</a>,\n",
       " <a href=\"article-jan-0050.html\">Madagascar completes currency switch</a>,\n",
       " <a href=\"article-jan-4860.html\">McLeish ready for criticism</a>,\n",
       " <a href=\"article-jan-0180.html\">Mobile games come of age</a>,\n",
       " <a href=\"article-jan-1582.html\">More power to the people says HP</a>,\n",
       " <a href=\"article-jan-4456.html\">Mourinho sends out warning shot</a>,\n",
       " <a href=\"article-jan-3002.html\">Moya suffers shock loss</a>,\n",
       " <a href=\"article-jan-2380.html\">Moyes U-turn on Beattie dismissal</a>,\n",
       " <a href=\"article-jan-3243.html\">Murray returns to Scotland fold</a>,\n",
       " <a href=\"article-jan-3151.html\">Mystery surrounds new Yukos owner</a>,\n",
       " <a href=\"article-jan-2619.html\">Off-colour Gardener storms to win</a>,\n",
       " <a href=\"article-jan-1811.html\">Oil companies get Russian setback</a>,\n",
       " <a href=\"article-jan-3831.html\">Owen may have to return home</a>,\n",
       " <a href=\"article-jan-4567.html\">Pearce keen on succeeding Keegan</a>,\n",
       " <a href=\"article-jan-3938.html\">Poles play with GameBoy 'blip-pop'</a>,\n",
       " <a href=\"article-jan-4175.html\">Premier League probes Cole claims</a>,\n",
       " <a href=\"article-jan-0237.html\">Prodigy Monfils blows away Gaudio</a>,\n",
       " <a href=\"article-jan-0924.html\">Remote control rifle range debuts</a>,\n",
       " <a href=\"article-jan-1731.html\">Robinson ready for difficult task</a>,\n",
       " <a href=\"article-jan-3981.html\">Row brewing over peer-to-peer ads</a>,\n",
       " <a href=\"article-jan-2769.html\">Rusedski angry over supplements</a>,\n",
       " <a href=\"article-jan-2140.html\">S Korean lender faces liquidation</a>,\n",
       " <a href=\"article-jan-3329.html\">SFA awaits report over Mikoliunas</a>,\n",
       " <a href=\"article-jan-1087.html\">Safin cool on Wimbledon</a>,\n",
       " <a href=\"article-jan-0480.html\">Safin plays down Wimbledon hopes</a>,\n",
       " <a href=\"article-jan-2591.html\">Satellite mapping aids Darfur relief</a>,\n",
       " <a href=\"article-jan-2407.html\">Search sites get closer to users</a>,\n",
       " <a href=\"article-jan-1520.html\">Security scares spark browser fix</a>,\n",
       " <a href=\"article-jan-3036.html\">Senior Fannie Mae bosses resign</a>,\n",
       " <a href=\"article-jan-1051.html\">Solutions to net security fears</a>,\n",
       " <a href=\"article-jan-2864.html\">Split-caps pay £194m compensation</a>,\n",
       " <a href=\"article-jan-4078.html\">Sports Stock Tips</a>,\n",
       " <a href=\"article-jan-0269.html\">Strong quarterly growth for Nike</a>,\n",
       " <a href=\"article-jan-1728.html\">T-Mobile bets on 'pocket office'</a>,\n",
       " <a href=\"article-jan-0976.html\">Thanou desperate to make return</a>,\n",
       " <a href=\"article-jan-3315.html\">Thompson says Gerrard should stay</a>,\n",
       " <a href=\"article-jan-3425.html\">Time to get tough on friendlies?</a>,\n",
       " <a href=\"article-jan-1296.html\">US peer-to-peer pirates convicted</a>,\n",
       " <a href=\"article-jan-4675.html\">US top of supercomputing charts</a>,\n",
       " <a href=\"article-jan-3694.html\">Venezuela and China sign oil deal</a>,\n",
       " <a href=\"article-jan-1550.html\">Weak end-of-year sales hit Next</a>,\n",
       " <a href=\"article-jan-1587.html\">Williams says he will never quit</a>,\n",
       " <a href=\"article-jan-0587.html\">Winemaker rejects Foster's offer</a>,\n",
       " <a href=\"article-jan-1650.html\">Worldcom boss 'left books alone'</a>,\n",
       " <a href=\"article-jan-0867.html\">Xbox 2 may be unveiled in summer</a>,\n",
       " <a href=\"article-jan-0457.html\">Xbox power cable 'fire fear'</a>,\n",
       " <a href=\"article-jan-2075.html\">Yangtze Electric's profits double</a>,\n",
       " <a href=\"article-jan-3244.html\">Yukos loses US bankruptcy battle</a>]"
      ]
     },
     "execution_count": 21,
     "metadata": {},
     "output_type": "execute_result"
    }
   ],
   "source": [
    "tags_text"
   ]
  },
  {
   "cell_type": "code",
   "execution_count": 22,
   "metadata": {},
   "outputs": [
    {
     "name": "stdout",
     "output_type": "stream",
     "text": [
      "http://www.it.kmitl.ac.th/~teerapong/news_archive/article-jan-0418.html\n",
      "http://www.it.kmitl.ac.th/~teerapong/news_archive/article-jan-0027.html\n",
      "http://www.it.kmitl.ac.th/~teerapong/news_archive/article-jan-0631.html\n",
      "http://www.it.kmitl.ac.th/~teerapong/news_archive/article-jan-2105.html\n",
      "http://www.it.kmitl.ac.th/~teerapong/news_archive/article-jan-3300.html\n",
      "http://www.it.kmitl.ac.th/~teerapong/news_archive/article-jan-4187.html\n",
      "http://www.it.kmitl.ac.th/~teerapong/news_archive/article-jan-1974.html\n",
      "http://www.it.kmitl.ac.th/~teerapong/news_archive/article-jan-3666.html\n",
      "http://www.it.kmitl.ac.th/~teerapong/news_archive/article-jan-2629.html\n",
      "http://www.it.kmitl.ac.th/~teerapong/news_archive/article-jan-2415.html\n",
      "http://www.it.kmitl.ac.th/~teerapong/news_archive/article-jan-4210.html\n",
      "http://www.it.kmitl.ac.th/~teerapong/news_archive/article-jan-4789.html\n",
      "http://www.it.kmitl.ac.th/~teerapong/news_archive/article-jan-3452.html\n",
      "http://www.it.kmitl.ac.th/~teerapong/news_archive/article-jan-2428.html\n",
      "http://www.it.kmitl.ac.th/~teerapong/news_archive/article-jan-4766.html\n",
      "http://www.it.kmitl.ac.th/~teerapong/news_archive/article-jan-2595.html\n",
      "http://www.it.kmitl.ac.th/~teerapong/news_archive/article-jan-2935.html\n",
      "http://www.it.kmitl.ac.th/~teerapong/news_archive/article-jan-0578.html\n",
      "http://www.it.kmitl.ac.th/~teerapong/news_archive/article-jan-3023.html\n",
      "http://www.it.kmitl.ac.th/~teerapong/news_archive/article-jan-2356.html\n",
      "http://www.it.kmitl.ac.th/~teerapong/news_archive/article-jan-1023.html\n",
      "http://www.it.kmitl.ac.th/~teerapong/news_archive/article-jan-0641.html\n",
      "http://www.it.kmitl.ac.th/~teerapong/news_archive/article-jan-2461.html\n",
      "http://www.it.kmitl.ac.th/~teerapong/news_archive/article-jan-4541.html\n",
      "http://www.it.kmitl.ac.th/~teerapong/news_archive/article-jan-1259.html\n",
      "http://www.it.kmitl.ac.th/~teerapong/news_archive/article-jan-4007.html\n",
      "http://www.it.kmitl.ac.th/~teerapong/news_archive/article-jan-4171.html\n",
      "http://www.it.kmitl.ac.th/~teerapong/news_archive/article-jan-0272.html\n",
      "http://www.it.kmitl.ac.th/~teerapong/news_archive/article-jan-4894.html\n",
      "http://www.it.kmitl.ac.th/~teerapong/news_archive/article-jan-4504.html\n",
      "http://www.it.kmitl.ac.th/~teerapong/news_archive/article-jan-1740.html\n",
      "http://www.it.kmitl.ac.th/~teerapong/news_archive/article-jan-2390.html\n",
      "http://www.it.kmitl.ac.th/~teerapong/news_archive/article-jan-4471.html\n",
      "http://www.it.kmitl.ac.th/~teerapong/news_archive/article-jan-3978.html\n",
      "http://www.it.kmitl.ac.th/~teerapong/news_archive/article-jan-2209.html\n",
      "http://www.it.kmitl.ac.th/~teerapong/news_archive/article-jan-0858.html\n",
      "http://www.it.kmitl.ac.th/~teerapong/news_archive/article-jan-3187.html\n",
      "http://www.it.kmitl.ac.th/~teerapong/news_archive/article-jan-1282.html\n",
      "http://www.it.kmitl.ac.th/~teerapong/news_archive/article-jan-3414.html\n",
      "http://www.it.kmitl.ac.th/~teerapong/news_archive/article-jan-2289.html\n",
      "http://www.it.kmitl.ac.th/~teerapong/news_archive/article-jan-1899.html\n",
      "http://www.it.kmitl.ac.th/~teerapong/news_archive/article-jan-3686.html\n",
      "http://www.it.kmitl.ac.th/~teerapong/news_archive/article-jan-3679.html\n",
      "http://www.it.kmitl.ac.th/~teerapong/news_archive/article-jan-1469.html\n",
      "http://www.it.kmitl.ac.th/~teerapong/news_archive/article-jan-4815.html\n",
      "http://www.it.kmitl.ac.th/~teerapong/news_archive/article-jan-1761.html\n",
      "http://www.it.kmitl.ac.th/~teerapong/news_archive/article-jan-4519.html\n",
      "http://www.it.kmitl.ac.th/~teerapong/news_archive/article-jan-0248.html\n",
      "http://www.it.kmitl.ac.th/~teerapong/news_archive/article-jan-1280.html\n",
      "http://www.it.kmitl.ac.th/~teerapong/news_archive/article-jan-0154.html\n",
      "http://www.it.kmitl.ac.th/~teerapong/news_archive/article-jan-4182.html\n",
      "http://www.it.kmitl.ac.th/~teerapong/news_archive/article-jan-3155.html\n",
      "http://www.it.kmitl.ac.th/~teerapong/news_archive/article-jan-0502.html\n",
      "http://www.it.kmitl.ac.th/~teerapong/news_archive/article-jan-1027.html\n",
      "http://www.it.kmitl.ac.th/~teerapong/news_archive/article-jan-3810.html\n",
      "http://www.it.kmitl.ac.th/~teerapong/news_archive/article-jan-1481.html\n",
      "http://www.it.kmitl.ac.th/~teerapong/news_archive/article-jan-2551.html\n",
      "http://www.it.kmitl.ac.th/~teerapong/news_archive/article-jan-0989.html\n",
      "http://www.it.kmitl.ac.th/~teerapong/news_archive/article-jan-0633.html\n",
      "http://www.it.kmitl.ac.th/~teerapong/news_archive/article-jan-1566.html\n",
      "http://www.it.kmitl.ac.th/~teerapong/news_archive/article-jan-0791.html\n",
      "http://www.it.kmitl.ac.th/~teerapong/news_archive/article-jan-2691.html\n",
      "http://www.it.kmitl.ac.th/~teerapong/news_archive/article-jan-3650.html\n",
      "http://www.it.kmitl.ac.th/~teerapong/news_archive/article-jan-1867.html\n",
      "http://www.it.kmitl.ac.th/~teerapong/news_archive/article-jan-2835.html\n",
      "http://www.it.kmitl.ac.th/~teerapong/news_archive/article-jan-1079.html\n",
      "http://www.it.kmitl.ac.th/~teerapong/news_archive/article-jan-4592.html\n",
      "http://www.it.kmitl.ac.th/~teerapong/news_archive/article-jan-4111.html\n",
      "http://www.it.kmitl.ac.th/~teerapong/news_archive/article-jan-0599.html\n",
      "http://www.it.kmitl.ac.th/~teerapong/news_archive/article-jan-0969.html\n",
      "http://www.it.kmitl.ac.th/~teerapong/news_archive/article-jan-2042.html\n",
      "http://www.it.kmitl.ac.th/~teerapong/news_archive/article-jan-0050.html\n",
      "http://www.it.kmitl.ac.th/~teerapong/news_archive/article-jan-4860.html\n",
      "http://www.it.kmitl.ac.th/~teerapong/news_archive/article-jan-0180.html\n",
      "http://www.it.kmitl.ac.th/~teerapong/news_archive/article-jan-1582.html\n",
      "http://www.it.kmitl.ac.th/~teerapong/news_archive/article-jan-4456.html\n",
      "http://www.it.kmitl.ac.th/~teerapong/news_archive/article-jan-3002.html\n",
      "http://www.it.kmitl.ac.th/~teerapong/news_archive/article-jan-2380.html\n",
      "http://www.it.kmitl.ac.th/~teerapong/news_archive/article-jan-3243.html\n",
      "http://www.it.kmitl.ac.th/~teerapong/news_archive/article-jan-3151.html\n",
      "http://www.it.kmitl.ac.th/~teerapong/news_archive/article-jan-2619.html\n",
      "http://www.it.kmitl.ac.th/~teerapong/news_archive/article-jan-1811.html\n",
      "http://www.it.kmitl.ac.th/~teerapong/news_archive/article-jan-3831.html\n",
      "http://www.it.kmitl.ac.th/~teerapong/news_archive/article-jan-4567.html\n",
      "http://www.it.kmitl.ac.th/~teerapong/news_archive/article-jan-3938.html\n",
      "http://www.it.kmitl.ac.th/~teerapong/news_archive/article-jan-4175.html\n",
      "http://www.it.kmitl.ac.th/~teerapong/news_archive/article-jan-0237.html\n",
      "http://www.it.kmitl.ac.th/~teerapong/news_archive/article-jan-0924.html\n",
      "http://www.it.kmitl.ac.th/~teerapong/news_archive/article-jan-1731.html\n",
      "http://www.it.kmitl.ac.th/~teerapong/news_archive/article-jan-3981.html\n",
      "http://www.it.kmitl.ac.th/~teerapong/news_archive/article-jan-2769.html\n",
      "http://www.it.kmitl.ac.th/~teerapong/news_archive/article-jan-2140.html\n",
      "http://www.it.kmitl.ac.th/~teerapong/news_archive/article-jan-3329.html\n",
      "http://www.it.kmitl.ac.th/~teerapong/news_archive/article-jan-1087.html\n",
      "http://www.it.kmitl.ac.th/~teerapong/news_archive/article-jan-0480.html\n",
      "http://www.it.kmitl.ac.th/~teerapong/news_archive/article-jan-2591.html\n",
      "http://www.it.kmitl.ac.th/~teerapong/news_archive/article-jan-2407.html\n",
      "http://www.it.kmitl.ac.th/~teerapong/news_archive/article-jan-1520.html\n",
      "http://www.it.kmitl.ac.th/~teerapong/news_archive/article-jan-3036.html\n",
      "http://www.it.kmitl.ac.th/~teerapong/news_archive/article-jan-1051.html\n",
      "http://www.it.kmitl.ac.th/~teerapong/news_archive/article-jan-2864.html\n",
      "http://www.it.kmitl.ac.th/~teerapong/news_archive/article-jan-4078.html\n",
      "http://www.it.kmitl.ac.th/~teerapong/news_archive/article-jan-0269.html\n",
      "http://www.it.kmitl.ac.th/~teerapong/news_archive/article-jan-1728.html\n",
      "http://www.it.kmitl.ac.th/~teerapong/news_archive/article-jan-0976.html\n",
      "http://www.it.kmitl.ac.th/~teerapong/news_archive/article-jan-3315.html\n",
      "http://www.it.kmitl.ac.th/~teerapong/news_archive/article-jan-3425.html\n",
      "http://www.it.kmitl.ac.th/~teerapong/news_archive/article-jan-1296.html\n",
      "http://www.it.kmitl.ac.th/~teerapong/news_archive/article-jan-4675.html\n",
      "http://www.it.kmitl.ac.th/~teerapong/news_archive/article-jan-3694.html\n",
      "http://www.it.kmitl.ac.th/~teerapong/news_archive/article-jan-1550.html\n",
      "http://www.it.kmitl.ac.th/~teerapong/news_archive/article-jan-1587.html\n",
      "http://www.it.kmitl.ac.th/~teerapong/news_archive/article-jan-0587.html\n",
      "http://www.it.kmitl.ac.th/~teerapong/news_archive/article-jan-1650.html\n",
      "http://www.it.kmitl.ac.th/~teerapong/news_archive/article-jan-0867.html\n",
      "http://www.it.kmitl.ac.th/~teerapong/news_archive/article-jan-0457.html\n",
      "http://www.it.kmitl.ac.th/~teerapong/news_archive/article-jan-2075.html\n",
      "http://www.it.kmitl.ac.th/~teerapong/news_archive/article-jan-3244.html\n"
     ]
    }
   ],
   "source": [
    "for i in  range(len(tags_text)):\n",
    "        print('http://www.it.kmitl.ac.th/~teerapong/news_archive/'+tags_text[i]['href'])"
   ]
  },
  {
   "cell_type": "code",
   "execution_count": 23,
   "metadata": {},
   "outputs": [
    {
     "name": "stdout",
     "output_type": "stream",
     "text": [
      "<Response [200]>\n"
     ]
    }
   ],
   "source": [
    "response = requests.get('http://www.it.kmitl.ac.th/~teerapong/news_archive/article-jul-1717.html')\n",
    "print(response)"
   ]
  },
  {
   "cell_type": "code",
   "execution_count": 24,
   "metadata": {},
   "outputs": [
    {
     "name": "stdout",
     "output_type": "stream",
     "text": [
      "<!DOCTYPE html>\n",
      "<html lang=\"en\">\n",
      "<head>\n",
      "<title>Online News Archive - Article</title>\n",
      "<meta charset=\"utf-8\"/>\n",
      "<meta content=\"width=device-width, initial-scale=1\" name=\"viewport\"/>\n",
      "<meta content=\"noindex\" name=\"robots\"/>\n",
      "<meta content=\"news,articles,news,1717\" name=\"keywords\"/>\n",
      "<link href=\"../../../../www.insight-centre.org/sites/all/themes/bootstrap_insight/favicon.ico\" rel=\"shortcut icon\" type=\"image/vnd.microsoft.icon\"/>\n",
      "<meta content=\"News | International Headlines\" property=\"og:title\"/>\n",
      "<meta content=\"News Archive\" property=\"og:site_name\"/>\n",
      "<meta content=\"Latest news and more from the definitive brand of quality news.\" property=\"og:description\"/>\n",
      "<link href=\"css/bootstrap.min.css\" rel=\"stylesheet\"/>\n",
      "<script src=\"js/jquery-3.2.1.slim.min.js\"></script>\n",
      "<script src=\"js/popper.min.js\"></script>\n",
      "<script src=\"js/tether.min.js\"></script>\n",
      "<script src=\"js/bootstrap.min.js\"></script>\n",
      "<style>\n",
      "\t  \t\t.main{ padding: 0; text-align: left;}\n",
      "\t  \t\t.footer{ padding: 6px;text-align: center; margin-top: 1em; }\n",
      "\t  \t\t.content { text-align: left; }\n",
      "\t  \t\th2 { font-size: 140%; margin-top: 25px; margin-bottom: 15px; padding-bottom: 10px; border-bottom: 1px solid #222;  }\n",
      "\t  \t\tli { margin-top: 5px; }\n",
      "\t  \t\t.notice { margin-top: 10px; color: #777;  }\n",
      "\t  </style>\n",
      "</head>\n",
      "<body>\n",
      "<div class=\"container\" style=\"margin-top: 2em;\">\n",
      "<div class=\"main\">\n",
      "<div style=\"text-align: center;\"><img alt=\"banner\" src=\"images/banner.jpg\" width=\"500\"/></div>\n",
      "<h2>Tindall wants second opinion</h2>\n",
      "<b>Tindall wants second opinion</b><br/><br/>\n",
      "<span></span>\n",
      "<p></p>\n",
      "<p>England centre Mike Tindall is to seek a second opinion before having surgery on a foot injury that could force him to miss the entire Six Nations.</p>\n",
      "<p></p>\n",
      "<p>The Bath player was already out of the opener against <i>Wales</i> on 5 February because of a hand problem. \"Mike had a specialist review on a fracture in his right mid foot,\" said <i>England</i> doctor Simon Kemp. \"Before a final decision is made on surgery... medical teams have decided he should see a second specialist.\"</p>\n",
      "<p></p>\n",
      "<font></font> <p>England coach Andy Robinson is already without centre Will Greenwood and flanker Richard Hill while fly-half Jonny Wilkinson is certain to miss at least the first two games. Robinson is expected to announce his new-look <i>England</i> line-up on Monday for the match at the Millennium Stadium. And Newcastle's 18-year-old centre Mathew Tait is set to stand in for Tindall alongside club team-mate Jamie Noon.</p>\n",
      "<p></p>\n",
      "<font></font> <p>Meanwhile, Tindall is targeting a return to action before the end of the regular Zurich Premiership season on 30 April. He will also aim to be back to full fitness before the Lions tour to New Zealand this summer.</p>\n",
      "<p class=\"notice\">Comments are closed for this article.</p>\n",
      "</div>\n",
      "<div class=\"footer\">\n",
      "<hr/>\n",
      "<span><a href=\"index.html\">Home</a> | <a href=\"#\">Terms &amp; Conditions</a> | <a href=\"#\">Privacy Policy</a> | <a href=\"#\">Cookie Information</a> </span><br/>\n",
      "<span>© <span class=\"thisyear\">2017</span> — Original rights holders</span>\n",
      "</div>\n",
      "</div>\n",
      "</body>\n",
      "</html>\n",
      "\n"
     ]
    }
   ],
   "source": [
    "html_page = bs4.BeautifulSoup(response.content, 'lxml')\n",
    "print(html_page)"
   ]
  },
  {
   "cell_type": "code",
   "execution_count": 25,
   "metadata": {},
   "outputs": [
    {
     "name": "stdout",
     "output_type": "stream",
     "text": [
      "<class 'bs4.element.ResultSet'>\n"
     ]
    }
   ],
   "source": [
    "selector_body_text = 'p '\n",
    "# select return เป็น list ของ tag\n",
    "tags_body = html_page.select(selector_body_text)\n",
    "print(type(tags_body))"
   ]
  },
  {
   "cell_type": "code",
   "execution_count": 26,
   "metadata": {},
   "outputs": [
    {
     "data": {
      "text/plain": [
       "[<p></p>,\n",
       " <p>England centre Mike Tindall is to seek a second opinion before having surgery on a foot injury that could force him to miss the entire Six Nations.</p>,\n",
       " <p></p>,\n",
       " <p>The Bath player was already out of the opener against <i>Wales</i> on 5 February because of a hand problem. \"Mike had a specialist review on a fracture in his right mid foot,\" said <i>England</i> doctor Simon Kemp. \"Before a final decision is made on surgery... medical teams have decided he should see a second specialist.\"</p>,\n",
       " <p></p>,\n",
       " <p>England coach Andy Robinson is already without centre Will Greenwood and flanker Richard Hill while fly-half Jonny Wilkinson is certain to miss at least the first two games. Robinson is expected to announce his new-look <i>England</i> line-up on Monday for the match at the Millennium Stadium. And Newcastle's 18-year-old centre Mathew Tait is set to stand in for Tindall alongside club team-mate Jamie Noon.</p>,\n",
       " <p></p>,\n",
       " <p>Meanwhile, Tindall is targeting a return to action before the end of the regular Zurich Premiership season on 30 April. He will also aim to be back to full fitness before the Lions tour to New Zealand this summer.</p>,\n",
       " <p class=\"notice\">Comments are closed for this article.</p>]"
      ]
     },
     "execution_count": 26,
     "metadata": {},
     "output_type": "execute_result"
    }
   ],
   "source": [
    "tags_body"
   ]
  },
  {
   "cell_type": "code",
   "execution_count": 27,
   "metadata": {},
   "outputs": [
    {
     "data": {
      "text/plain": [
       "[<p></p>,\n",
       " <p>England centre Mike Tindall is to seek a second opinion before having surgery on a foot injury that could force him to miss the entire Six Nations.</p>,\n",
       " <p></p>,\n",
       " <p>The Bath player was already out of the opener against <i>Wales</i> on 5 February because of a hand problem. \"Mike had a specialist review on a fracture in his right mid foot,\" said <i>England</i> doctor Simon Kemp. \"Before a final decision is made on surgery... medical teams have decided he should see a second specialist.\"</p>,\n",
       " <p></p>,\n",
       " <p>England coach Andy Robinson is already without centre Will Greenwood and flanker Richard Hill while fly-half Jonny Wilkinson is certain to miss at least the first two games. Robinson is expected to announce his new-look <i>England</i> line-up on Monday for the match at the Millennium Stadium. And Newcastle's 18-year-old centre Mathew Tait is set to stand in for Tindall alongside club team-mate Jamie Noon.</p>,\n",
       " <p></p>,\n",
       " <p>Meanwhile, Tindall is targeting a return to action before the end of the regular Zurich Premiership season on 30 April. He will also aim to be back to full fitness before the Lions tour to New Zealand this summer.</p>,\n",
       " <p class=\"notice\">Comments are closed for this article.</p>]"
      ]
     },
     "execution_count": 27,
     "metadata": {},
     "output_type": "execute_result"
    }
   ],
   "source": [
    "tags_body = tags_body\n",
    "tags_body"
   ]
  },
  {
   "cell_type": "code",
   "execution_count": 28,
   "metadata": {
    "scrolled": true
   },
   "outputs": [],
   "source": [
    "text = ''\n",
    "for i in tags_body:\n",
    "    if ('Return to article search results'  in str(i)) == False:\n",
    "        text += str(i)[3:-4]"
   ]
  },
  {
   "cell_type": "code",
   "execution_count": 29,
   "metadata": {},
   "outputs": [
    {
     "data": {
      "text/plain": [
       "'England centre Mike Tindall is to seek a second opinion before having surgery on a foot injury that could force him to miss the entire Six Nations.The Bath player was already out of the opener against <i>Wales</i> on 5 February because of a hand problem. \"Mike had a specialist review on a fracture in his right mid foot,\" said <i>England</i> doctor Simon Kemp. \"Before a final decision is made on surgery... medical teams have decided he should see a second specialist.\"England coach Andy Robinson is already without centre Will Greenwood and flanker Richard Hill while fly-half Jonny Wilkinson is certain to miss at least the first two games. Robinson is expected to announce his new-look <i>England</i> line-up on Monday for the match at the Millennium Stadium. And Newcastle\\'s 18-year-old centre Mathew Tait is set to stand in for Tindall alongside club team-mate Jamie Noon.Meanwhile, Tindall is targeting a return to action before the end of the regular Zurich Premiership season on 30 April. He will also aim to be back to full fitness before the Lions tour to New Zealand this summer.class=\"notice\">Comments are closed for this article.'"
      ]
     },
     "execution_count": 29,
     "metadata": {},
     "output_type": "execute_result"
    }
   ],
   "source": [
    "text"
   ]
  },
  {
   "cell_type": "code",
   "execution_count": null,
   "metadata": {},
   "outputs": [],
   "source": []
  },
  {
   "cell_type": "code",
   "execution_count": null,
   "metadata": {},
   "outputs": [],
   "source": []
  },
  {
   "cell_type": "code",
   "execution_count": 305,
   "metadata": {},
   "outputs": [
    {
     "data": {
      "text/plain": [
       "False"
      ]
     },
     "execution_count": 305,
     "metadata": {},
     "output_type": "execute_result"
    }
   ],
   "source": []
  },
  {
   "cell_type": "code",
   "execution_count": null,
   "metadata": {},
   "outputs": [],
   "source": []
  }
 ],
 "metadata": {
  "kernelspec": {
   "display_name": "Python 3",
   "language": "python",
   "name": "python3"
  },
  "language_info": {
   "codemirror_mode": {
    "name": "ipython",
    "version": 3
   },
   "file_extension": ".py",
   "mimetype": "text/x-python",
   "name": "python",
   "nbconvert_exporter": "python",
   "pygments_lexer": "ipython3",
   "version": "3.8.3"
  }
 },
 "nbformat": 4,
 "nbformat_minor": 4
}
