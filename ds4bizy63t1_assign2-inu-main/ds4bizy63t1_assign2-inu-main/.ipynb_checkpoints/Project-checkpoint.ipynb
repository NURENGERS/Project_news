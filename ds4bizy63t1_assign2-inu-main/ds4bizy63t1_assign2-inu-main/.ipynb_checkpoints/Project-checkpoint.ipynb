{
 "cells": [
  {
   "cell_type": "code",
   "execution_count": 1,
   "metadata": {},
   "outputs": [],
   "source": [
    "import requests\n",
    "import bs4\n",
    "from pprint import pprint"
   ]
  },
  {
   "cell_type": "code",
   "execution_count": 4,
   "metadata": {},
   "outputs": [],
   "source": [
    "def request_month(): # ฟังชั่นเรียก ลิ้งข้อมูลของแต่ละเดือน\n",
    "    response = requests.get('http://www.it.kmitl.ac.th/~teerapong/news_archive/index.html')\n",
    "    html_page = bs4.BeautifulSoup(response.content, 'lxml')\n",
    "    selector = 'li > a'\n",
    "    tags_month = html_page.select(selector)\n",
    "    list_tag = []\n",
    "    for tag in tags_month:\n",
    "        list_tag.append('http://www.it.kmitl.ac.th/~teerapong/news_archive/'+tag['href'])\n",
    "    return list_tag\n",
    "\n",
    "def category_three(web_month): # ฟังชั่น เก็บข้อมูลประเภทของข่าว\n",
    "    category_list = []\n",
    "    for web in request_month():   \n",
    "        count = 0\n",
    "        response = requests.get(str(web))\n",
    "        html_page = bs4.BeautifulSoup(response.content, 'lxml')\n",
    "        selector_ = 'tbody > tr > td'\n",
    "        tags_category = html_page.select(selector_)\n",
    "        for tag in tags_category:\n",
    "            if (count % 2 == 0) and (str(tag.text[1:]) != 'N/A'):\n",
    "                category_list.append(tag.text[1:])\n",
    "            count += 1\n",
    "    return category_list\n",
    "\n",
    "\n",
    "def path_text(web_month): # ฟั่งชั่นเก็บที่อยู่ลิ้งของแต่ละข่าว\n",
    "    list_path = []\n",
    "    for  web in request_month():\n",
    "        response = requests.get(str(web))\n",
    "        html_page = bs4.BeautifulSoup(response.content, 'lxml')\n",
    "        selector_text = 'tbody > tr > td > a '\n",
    "        tags_text = html_page.select(selector_text)\n",
    "        for path in tags_text:\n",
    "            list_path.append('http://www.it.kmitl.ac.th/~teerapong/news_archive/'+ str(path['href']))\n",
    "    return list_path\n",
    "\n",
    "\n",
    "def extract_text(web_month): #ฟังชั่นเก็บเนื้อหาข่าว\n",
    "    long_text = []\n",
    "    list_head = []\n",
    "    for web in path_text(request_month()):\n",
    "        text_box = ''\n",
    "        response = requests.get(web)\n",
    "        html_page = bs4.BeautifulSoup(response.content, 'lxml')\n",
    "        selector_head = 'h2'\n",
    "        selector_text = 'p '\n",
    "        tags_body = html_page.select(selector_text)\n",
    "        tags_head = html_page.select(selector_head)\n",
    "        for  head in tags_head:\n",
    "            list_head.append(head.text)\n",
    "        for text in tags_body:\n",
    "            if (text.text in list_head):\n",
    "                pass\n",
    "            elif (('class='  in str(text)) == False):\n",
    "                text_box += str(text.text)\n",
    "        text_box = text_box.replace(\"\\\"\",\"\")\n",
    "        long_text.append(text_box)\n",
    "    return long_text\n",
    "\n",
    "def create_file_category (category): # ฟังชั่นบันทึก categoryเป็นไฟล์ text\n",
    "    out_file = open(\"Data/categorty.txt\", \"w\")\n",
    "    for target in category_three(request_month()):\n",
    "        out_file.write(target+\"\\n\")\n",
    "    out_file.close()\n",
    "    \n",
    "def create_file_text (text): # ฟั่งชั่นบันทึกเนื้อหาข่าวเป็น Text\n",
    "    out_file = open(\"Data/text.txt\", \"w\",encoding=\"utf-8\")\n",
    "    for sentence in extract_text(path_text(request_month())):\n",
    "        out_file.write(sentence + '\\n')\n",
    "    out_file.close()"
   ]
  },
  {
   "cell_type": "markdown",
   "metadata": {},
   "source": [
    "# Parse the collected data, and store it in an appropriate file format"
   ]
  },
  {
   "cell_type": "code",
   "execution_count": 3,
   "metadata": {
    "scrolled": true
   },
   "outputs": [],
   "source": [
    "create_file_category(category_three(request_month())) # save category into textfile\n",
    "create_file_text (extract_text(path_text(request_month()))) # save text into textfile"
   ]
  },
  {
   "cell_type": "code",
   "execution_count": 190,
   "metadata": {
    "scrolled": true
   },
   "outputs": [],
   "source": [
    "#extract_text(path_text(request_month()))"
   ]
  },
  {
   "cell_type": "code",
   "execution_count": null,
   "metadata": {},
   "outputs": [],
   "source": []
  },
  {
   "cell_type": "code",
   "execution_count": null,
   "metadata": {},
   "outputs": [],
   "source": []
  }
 ],
 "metadata": {
  "kernelspec": {
   "display_name": "Python 3",
   "language": "python",
   "name": "python3"
  },
  "language_info": {
   "codemirror_mode": {
    "name": "ipython",
    "version": 3
   },
   "file_extension": ".py",
   "mimetype": "text/x-python",
   "name": "python",
   "nbconvert_exporter": "python",
   "pygments_lexer": "ipython3",
   "version": "3.8.3"
  }
 },
 "nbformat": 4,
 "nbformat_minor": 4
}
