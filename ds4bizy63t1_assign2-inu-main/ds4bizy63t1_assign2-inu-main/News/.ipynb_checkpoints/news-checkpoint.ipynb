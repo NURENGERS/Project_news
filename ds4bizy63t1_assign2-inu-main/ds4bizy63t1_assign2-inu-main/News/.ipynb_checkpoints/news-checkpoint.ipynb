{
 "cells": [
  {
   "cell_type": "markdown",
   "metadata": {},
   "source": [
    "# Assignment 2 - DS4Biz Y63"
   ]
  },
  {
   "cell_type": "markdown",
   "metadata": {},
   "source": [
    "## TextScraping_Classification"
   ]
  },
  {
   "cell_type": "markdown",
   "metadata": {},
   "source": [
    "### Team Detail\n",
    "#### Team Name: INu\n"
   ]
  },
  {
   "cell_type": "markdown",
   "metadata": {},
   "source": [
    "### Student 1"
   ]
  },
  {
   "cell_type": "markdown",
   "metadata": {},
   "source": [
    "<b>Student ID:</b> 61070285<br>\n",
    "<b>Student Full Name:</b> นายชยพล วนานิยกุล"
   ]
  },
  {
   "cell_type": "markdown",
   "metadata": {},
   "source": [
    "### Student 2"
   ]
  },
  {
   "cell_type": "markdown",
   "metadata": {},
   "source": [
    "<b>Student ID:</b> 61070327<br>\n",
    "<b>Student Full Name:</b>นายอนุ ม่วงคำ"
   ]
  },
  {
   "cell_type": "code",
   "execution_count": 1,
   "metadata": {},
   "outputs": [],
   "source": [
    "import requests\n",
    "import bs4\n",
    "import pandas as pd\n",
    "import numpy as np\n",
    "import sys\n",
    "import warnings\n",
    "from sklearn.feature_extraction.text import CountVectorizer\n",
    "import operator\n",
    "from nltk.stem.porter import PorterStemmer\n",
    "import nltk\n",
    "from sklearn.feature_extraction.text import TfidfVectorizer\n",
    "from sklearn.model_selection import train_test_split\n",
    "from sklearn.feature_extraction import text\n",
    "from sklearn.preprocessing import StandardScaler\n",
    "from sklearn.metrics import accuracy_score, confusion_matrix, roc_curve, roc_auc_score, classification_report, \\\n",
    "precision_recall_curve, average_precision_score \n",
    "from sklearn.metrics import confusion_matrix\n",
    "from sklearn.metrics import recall_score, precision_score,f1_score\n",
    "from sklearn.linear_model import LogisticRegression\n",
    "from sklearn import svm\n",
    "from sklearn.naive_bayes import BernoulliNB\n",
    "from sklearn.naive_bayes import ComplementNB\n",
    "from sklearn.naive_bayes import MultinomialNB\n",
    "import matplotlib.pyplot as plt\n",
    "from sklearn.model_selection import cross_val_score\n",
    "from sklearn.model_selection import GridSearchCV\n",
    "from sklearn.metrics import multilabel_confusion_matrix\n",
    "from sklearn.model_selection import KFold\n",
    "from sklearn.ensemble import RandomForestClassifier\n",
    "import seaborn as sns\n",
    "\n",
    "if not sys.warnoptions:\n",
    "    warnings.simplefilter(\"ignore\")"
   ]
  },
  {
   "cell_type": "markdown",
   "metadata": {},
   "source": [
    "# Function Scraping\n",
    "เป็นขั้นตอนการดึงข้อมูลจากเว็บ และบันทึกลงไฟล์ text โดยจะแบ่งออกเป็น 6 ฟังชั่นดังนี้\n",
    "1.  <b>request_month()</b>  เป็นฟังชั่นที่ใช้ในการดึงลิ้งข่าวของแต่ละเดือน มาเก็บไว้ใน list \n",
    "\n",
    "\n",
    "2.  <b>category_three(web_month)</b> ทำหน้าในการดึงข้อมูล Category ของข่าวมาเก็บไว้ใน list\n",
    "\n",
    "\n",
    "3.  <b>path_text(web_month)</b> เป็นฟังชั่นที่่ใช้ในการเก็บลิ้งเนื้อหาข่าวทั้งหมด ที่อยู่บน website มาเก็บไว้ใน list\n",
    "\n",
    "\n",
    "4.  <b>extract_text(web_month)</b> เป็นฟังชั่นในการเก็บเนื้อหาข่าวทั้งหมด\n",
    "\n",
    "\n",
    "5.  <b>create_file_category(category)</b> ฟังชั่นบันทึก categoryเป็นไฟล์ txt.\n",
    "\n",
    "\n",
    "6.  <b>create_file_text (text) </b> ฟั่งชั่นบันทึกเนื้อหาข่าวเป็นไฟล์ Txt."
   ]
  },
  {
   "cell_type": "code",
   "execution_count": 2,
   "metadata": {},
   "outputs": [],
   "source": [
    "#parameter web_month ที่อยู่ในฟังชั่นนั้น เวลาเรียกใช้งานฟังชั่นต้องใส่ฟังชั่น request_month() เข้าไปแทน เช่น  category_three(request_month())เป็นต้น.\n",
    "\n",
    "def request_month(): # ฟังชั่นดึง ลิ้งข้อมูลของแต่ละเดือน\n",
    "    response = requests.get('http://www.it.kmitl.ac.th/~teerapong/news_archive/index.html') #กำหนดหน้าลิ้งหลัก\n",
    "    html_page = bs4.BeautifulSoup(response.content, 'lxml')\n",
    "    selector = 'li > a'         # กำหนดการเข้าถึง tags  เนื่องจากเราต้องการเข้า tag ที่เก็บลิ้งของแต่ละเดือนจึงเข้าไปที่ tag a\n",
    "    tags_month = html_page.select(selector)  #กำหนดให้ beautifulsoup ไปดึงข้อมูลจาก tags ที่อยู่ในตัวแปร selector\n",
    "    list_tag = []\n",
    "                           # เนื่องจาก่สิ่งที่ได้จาก tag month เป็นเพียง path ของ link \n",
    "    for tag in tags_month: # จึงทำการวนลูป tags_month เพื่อเชื่อมให้ path กับ link เข้าด้วยกัน และเก็บเป็น list ที่มีลิ้งข่าวของแต่ละเดือน\n",
    "        list_tag.append('http://www.it.kmitl.ac.th/~teerapong/news_archive/'+tag['href']) #และเก็บไว้ใน list\n",
    "    return list_tag         #โดยผลลัพธ์จะเป็นลิ้งเดือนทั้งหมด\n",
    "\n",
    "def category_three(web_month): # ฟังชั่น เก็บข้อมูลประเภทของข่าว   \n",
    "    category_list = []\n",
    "    for web in request_month(): #โดยขั้นตอนนี้จะทำการวนลูปลิ้งข่าวแต่ละเดือน ซึ่งจะเริ่มตั้งแต่เดือน 1 ถึง 12 \n",
    "        count = 0\n",
    "        response = requests.get(str(web))     #กำหนดหน้าลิ้งข่าวที่จะดึง\n",
    "        html_page = bs4.BeautifulSoup(response.content, 'lxml')\n",
    "        selector_ = 'tbody > tr > td'          #กำหนดการเข้าถึง tag   เนื่องจาก category ของข่าวถูกเก็บไว้ใน tbody และเก็บในส่วนของ td \n",
    "        tags_category = html_page.select(selector_)     #กำหนดให้ beautifulsoup ไปดึงข้อมูลจาก tags ที่อยู่ในตัวแปร selector_\n",
    "        \n",
    "        for tag in tags_category: #หลังจากนั้นทำการวนลูปเพื่อดึง category ทั้งหมดของเดือนดังกล่าว มาเก็บไว้ใน list\n",
    "                                                # เนื่องจากตอนดึง html_page.select จะดึงข้อมูลออกมาเป็นคู่ ซึ่ง 1เรือง จะมี 2 tag คู่กันเสมอ\n",
    "                                                # คือ tag category และ tag หัวข้อเรื่อง ซึ่งเราสนใจแค่ tag category\n",
    "            if (count % 2 == 0) and (str(tag.text[1:]) != 'N/A'): #จึงทำการกำหนดเงื่อนไขให้เก็บเฉพาะ tag ตัวแรกของแต่ละข่าว ซึ่งก็คือ\n",
    "                                                       # tag category โดยกำหนด count % 2 == 0 และทำการดักข่าวที่ไม่มี category\n",
    "                                                       # โดย ดัก category นั้นว่าต้อง != N/A\n",
    "                category_list.append(tag.text[1:])    #หลังจากนั้นนำ category มาเก็บไว้ใน list\n",
    "            count += 1\n",
    "    return category_list #โดยผลลัพธ์จะเป็น category ของข่าวทั้งหมดที่มีอยู่ใน web\n",
    "\n",
    "\n",
    "def path_text(web_month):    # ฟั่งชั่นเก็บลิ้งเนื้อหาของข่าวทั้งหมด\n",
    "    list_path = []\n",
    "    for  web in request_month():     #จะทำการวนลูปลิ้งข่าวของแต่ละเดือน  ซึ่งจะเริ่มตั้งแต่เดือน 1 ถึง 12\n",
    "        response = requests.get(str(web)) #กำหนดหน้าลิ้งข่าวที่จะดึง\n",
    "        html_page = bs4.BeautifulSoup(response.content, 'lxml')\n",
    "        selector_text = 'tbody > tr > td > a ' #กำหนดการเข้าถึง tag โดยจะมุ่งไปที่ข่าวที่อยู่ในเดือนนั้น ๆ  \n",
    "        tags_text = html_page.select(selector_text) #กำหนดให้ beautifulsoup ไปดึงข้อมูลจาก tags ที่อยู่ในตัวแปร selector_text\n",
    "                                                    #โดยผลลัพธ์จะเป็น path ของ ข่าวแต่ละข่าว ที่อยู่ในเดือนนั้นๆ \n",
    "        for path in tags_text:        #จากนั้นทำการวนลูป path ของข่าวทั้งหมดที่อยู่ในเดือนนั้น เพื่อรวม link เข้ากับ path ของข่าว\n",
    "            list_path.append('http://www.it.kmitl.ac.th/~teerapong/news_archive/'+ str(path['href'])) #และเก็บไว้ใน list\n",
    "    return list_path #โดยผลลัพธ์จะเป็นลิ้งข่าวทั้งหมดที่มีอยู่ใน web\n",
    "\n",
    "\n",
    "def extract_text(web_month): #ฟังชั่นเก็บเนื้อหาข่าว\n",
    "    long_text = []\n",
    "    list_head = []\n",
    "    for web in path_text(request_month()): #โดยจะเป็นการวนลูปลิ้งเนื้อหาของข่าวทั้งหมด \n",
    "        text_box = ''\n",
    "        response = requests.get(web)  #กำหนดลิ้งข่าว\n",
    "        html_page = bs4.BeautifulSoup(response.content, 'lxml')\n",
    "        selector_head = 'h2' #ในขั้นตอนการกำหนดการเข้าถึง tag เราจะทำการกำหนด 2 ตัว คือ selector_head ไว้ใช้ดึงหัวข้อข่าว\n",
    "        selector_text = 'p ' #และ  selector_text ไว้ใช้ดึงเนื้อหาข่าว\n",
    "        tags_body = html_page.select(selector_text) #กำหนดให้ beautifulsoup ไปดึงข้อมูลจาก tags ที่อยู่ในตัวแปร selector_text\n",
    "        tags_head = html_page.select(selector_head) #กำหนดให้ beautifulsoup ไปดึงข้อมูลจาก tags ที่อยู่ในตัวแปร selector_head\n",
    "        for  head in tags_head: #เนื่องจากผลลัพธ์ของ tags_head จะเป็นข้อมูลหัวเรื่องของแต่ละข่าว จึงวนลูปเพื่อมาเก็บไว้ใน list\n",
    "            list_head.append(head.text)\n",
    "        for text in tags_body:    #เนื่องจากในเนื้อหาข่าว    ส่วนของ htmlข้อมูลจะเป็นลักษณะ pharagrap โดย 1 ข่าวจะมีหลาย pharagrap \n",
    "                                  # จึงทำการวนลูปเพื่อดึงเนื้อหาข่าวจากทุก ๆ pharagrap\n",
    "            if (text.text in list_head): # และทำการดักเนื้อหาข่าวกรณี หัวข้อข่าวเป็น tag p และนำมารวมกับเนื้อหา \n",
    "                pass                     # โดยถ้า text นั้นอยู่ใน list หัวข้อข่าว ให้ข้ามไป\n",
    "            elif (('class='  in str(text)) == False): #และทำการดัก text   ที่เป็น tag ปุ่มกลับ เช่น Return to article search results\n",
    "                                                      #โดยเช็คว่าใน text นั้นมีคำclass= อยู่รึป่าว ? \n",
    "                text_box += str(text.text)            #โดยถ้า text ไม่มี claas อยู่ข้างในให้เพิ่ม ไปใน string text_box \n",
    "                                                      # เพื่อรวมหลายๆ pharagrap ไว้ด้วยกัน จนกลายเป็น 1 ข่าว \n",
    "        text_box = text_box.replace(\"\\\"\",\"\")          # เนื่องจากในแต่ละข่าว \\ อยู่ จึงทำการ replace ให้เป็น \"\"\n",
    "        long_text.append(text_box)                    # จากนั้นให้นำข่าวที่เป็น sting มาเก็บไว้ใน list \n",
    "    return long_text #โดยผลลัพธ์จะเป็น list ของเนื้อหาข่าวทั้งหมด\n",
    "\n",
    "def create_file_category (category): # ฟังชั่นบันทึก categoryเป็นไฟล์ text\n",
    "    out_file = open(\"target/category.txt\", \"w\") #โดยใช้คำสั่ง open เพื่อเปิดไฟล์ กรณีไม่มีจะทำการสร้างขึ้นมาเอง\n",
    "    for target in category_three(request_month()): #จากนั้นทำการวนลูปไปใน list ของ category\n",
    "        out_file.write(target+\"\\n\")                #และเขียนแต่ละ category ลงไฟล์ ละเพิ่ม '\\n' เพื่อให้ 1 category = 1 บรรทัด\n",
    "    out_file.close()                               #สุดท้ายคือการใช้คำสั่งเซฟไฟล์\n",
    "    \n",
    "def create_file_text (text): # ฟั่งชั่นบันทึกเนื้อหาข่าวเป็น Text\n",
    "    out_file = open(\"datastore/news_text.txt\", \"w\",encoding=\"utf-8\") #โดยใช้คำสั่ง open เพื่อเปิดไฟล์ กรณีไม่มีจะทำการสร้างขึ้นมาเอง\n",
    "    for sentence in extract_text(path_text(request_month())):         #จากนั้นทำการวนลูปไปใน list ของเนื้อหาข่าว \n",
    "        out_file.write(sentence + '\\n')                            #และเขียนแต่ละข่าวลงไฟล์ ละเพิ่ม '\\n' เพื่อให้ 1 ข่าว = 1 บรรทัด\n",
    "    out_file.close()                                               #สุดท้ายคือการใช้คำสั่งเซฟไฟล์"
   ]
  },
  {
   "cell_type": "markdown",
   "metadata": {},
   "source": [
    "# Parse the collected data, and store it in an appropriate file format\n",
    "ขั้นตอนการบันทึกข้อมูลลงไฟล์ .txt ใช้ 2 กระบวนการ\n",
    "1. <b>create_file_category(category_three(request_month()))</b>  โดยจะใช้ฟังชั่น request_month เพื่อข้อมูลของแต่ละเดือนออกมา จากนั้นใช้ฟังชั่น category_three เพื่อเข้าถึงข้อมูลแต่ละเดือนและทำการสกัดเอา category ของแต่ละข่าวออกมา หลังจากนั้นใช้ create_file_category เพื่อบันทึกเป็นไฟล์ Category.txt\n",
    "\n",
    "\n",
    "2. <b>create_file_text (extract_text(path_text(request_month())))</b> #จะเริ่มจากใช้ฟังชั่น request_month เพื่อข้อมูลของแต่ละเดือนออกมา จากนั้นใช้ฟังชั่น path_text เพื่อสกัดเอาลิ้งข่าวของแต่ละเดือนออกมา หลังจากนั้นใช้ฟังชั่น extract_text เพื่อสกัดเอาเนื้อข่าวของแต่ละข่าว และสุดท้ายใช้ฟังชั่น create_file_text เพื่อบันทึกเป็นไฟล์ News.txt"
   ]
  },
  {
   "cell_type": "code",
   "execution_count": 3,
   "metadata": {
    "scrolled": true
   },
   "outputs": [],
   "source": [
    "#create_file_category(category_three(request_month())) # save category into textfile\n",
    "\n",
    "#create_file_text (extract_text(path_text(request_month()))) # save text into textfile"
   ]
  },
  {
   "cell_type": "markdown",
   "metadata": {
    "scrolled": true
   },
   "source": [
    "# Load Dataset\n",
    "ขั้นตอนโหลดข้อมูลขึ้นมาบน workflow และทำการสร้างเป็น DataFrame โดยจะแบ่งออกเป็น 2 ไฟล์ \n",
    " 1. ไฟล์เนื้อหาข่าว (Text)\n",
    " 2. ไฟล์หมวดหมู่ข่าว (category)"
   ]
  },
  {
   "cell_type": "code",
   "execution_count": 4,
   "metadata": {},
   "outputs": [
    {
     "data": {
      "text/html": [
       "<div>\n",
       "<style scoped>\n",
       "    .dataframe tbody tr th:only-of-type {\n",
       "        vertical-align: middle;\n",
       "    }\n",
       "\n",
       "    .dataframe tbody tr th {\n",
       "        vertical-align: top;\n",
       "    }\n",
       "\n",
       "    .dataframe thead th {\n",
       "        text-align: right;\n",
       "    }\n",
       "</style>\n",
       "<table border=\"1\" class=\"dataframe\">\n",
       "  <thead>\n",
       "    <tr style=\"text-align: right;\">\n",
       "      <th></th>\n",
       "      <th>Text_body</th>\n",
       "    </tr>\n",
       "  </thead>\n",
       "  <tbody>\n",
       "    <tr>\n",
       "      <th>0</th>\n",
       "      <td>The sporting industry has come a long way sinc...</td>\n",
       "    </tr>\n",
       "    <tr>\n",
       "      <th>1</th>\n",
       "      <td>Shares in Europe's leading reinsurers and trav...</td>\n",
       "    </tr>\n",
       "    <tr>\n",
       "      <th>2</th>\n",
       "      <td>BT is offering customers free internet telepho...</td>\n",
       "    </tr>\n",
       "    <tr>\n",
       "      <th>3</th>\n",
       "      <td>Shares in UK banking group Barclays have risen...</td>\n",
       "    </tr>\n",
       "    <tr>\n",
       "      <th>4</th>\n",
       "      <td>England centre Olly Barkley has been passed fi...</td>\n",
       "    </tr>\n",
       "    <tr>\n",
       "      <th>...</th>\n",
       "      <td>...</td>\n",
       "    </tr>\n",
       "    <tr>\n",
       "      <th>1403</th>\n",
       "      <td>Toulouse's former Irish international Trevor B...</td>\n",
       "    </tr>\n",
       "    <tr>\n",
       "      <th>1404</th>\n",
       "      <td>The trial of Bernie Ebbers, former chief execu...</td>\n",
       "    </tr>\n",
       "    <tr>\n",
       "      <th>1405</th>\n",
       "      <td>Russian oil firm Yukos lied to a US court in a...</td>\n",
       "    </tr>\n",
       "    <tr>\n",
       "      <th>1406</th>\n",
       "      <td>Russian oil company Yukos has dropped the thre...</td>\n",
       "    </tr>\n",
       "    <tr>\n",
       "      <th>1407</th>\n",
       "      <td>Zambia's technical director, Kalusha Bwalya is...</td>\n",
       "    </tr>\n",
       "  </tbody>\n",
       "</table>\n",
       "<p>1408 rows × 1 columns</p>\n",
       "</div>"
      ],
      "text/plain": [
       "                                              Text_body\n",
       "0     The sporting industry has come a long way sinc...\n",
       "1     Shares in Europe's leading reinsurers and trav...\n",
       "2     BT is offering customers free internet telepho...\n",
       "3     Shares in UK banking group Barclays have risen...\n",
       "4     England centre Olly Barkley has been passed fi...\n",
       "...                                                 ...\n",
       "1403  Toulouse's former Irish international Trevor B...\n",
       "1404  The trial of Bernie Ebbers, former chief execu...\n",
       "1405  Russian oil firm Yukos lied to a US court in a...\n",
       "1406  Russian oil company Yukos has dropped the thre...\n",
       "1407  Zambia's technical director, Kalusha Bwalya is...\n",
       "\n",
       "[1408 rows x 1 columns]"
      ]
     },
     "execution_count": 4,
     "metadata": {},
     "output_type": "execute_result"
    }
   ],
   "source": [
    "text_body= pd.read_csv('datastore/news_text.txt', header= None , encoding=\"utf-8\", sep='delimiter') #โหลดข้อมูลเนื้อหาข่าว\n",
    "text_body.columns = ['Text_body']# กำหนดชื่อคอลัมน์ ให้ Dataframe\n",
    "text_body"
   ]
  },
  {
   "cell_type": "code",
   "execution_count": 5,
   "metadata": {},
   "outputs": [
    {
     "data": {
      "text/html": [
       "<div>\n",
       "<style scoped>\n",
       "    .dataframe tbody tr th:only-of-type {\n",
       "        vertical-align: middle;\n",
       "    }\n",
       "\n",
       "    .dataframe tbody tr th {\n",
       "        vertical-align: top;\n",
       "    }\n",
       "\n",
       "    .dataframe thead th {\n",
       "        text-align: right;\n",
       "    }\n",
       "</style>\n",
       "<table border=\"1\" class=\"dataframe\">\n",
       "  <thead>\n",
       "    <tr style=\"text-align: right;\">\n",
       "      <th></th>\n",
       "      <th>Category</th>\n",
       "    </tr>\n",
       "  </thead>\n",
       "  <tbody>\n",
       "    <tr>\n",
       "      <th>0</th>\n",
       "      <td>technology</td>\n",
       "    </tr>\n",
       "    <tr>\n",
       "      <th>1</th>\n",
       "      <td>business</td>\n",
       "    </tr>\n",
       "    <tr>\n",
       "      <th>2</th>\n",
       "      <td>technology</td>\n",
       "    </tr>\n",
       "    <tr>\n",
       "      <th>3</th>\n",
       "      <td>business</td>\n",
       "    </tr>\n",
       "    <tr>\n",
       "      <th>4</th>\n",
       "      <td>sport</td>\n",
       "    </tr>\n",
       "    <tr>\n",
       "      <th>...</th>\n",
       "      <td>...</td>\n",
       "    </tr>\n",
       "    <tr>\n",
       "      <th>1403</th>\n",
       "      <td>sport</td>\n",
       "    </tr>\n",
       "    <tr>\n",
       "      <th>1404</th>\n",
       "      <td>business</td>\n",
       "    </tr>\n",
       "    <tr>\n",
       "      <th>1405</th>\n",
       "      <td>business</td>\n",
       "    </tr>\n",
       "    <tr>\n",
       "      <th>1406</th>\n",
       "      <td>business</td>\n",
       "    </tr>\n",
       "    <tr>\n",
       "      <th>1407</th>\n",
       "      <td>sport</td>\n",
       "    </tr>\n",
       "  </tbody>\n",
       "</table>\n",
       "<p>1408 rows × 1 columns</p>\n",
       "</div>"
      ],
      "text/plain": [
       "        Category\n",
       "0     technology\n",
       "1       business\n",
       "2     technology\n",
       "3       business\n",
       "4          sport\n",
       "...          ...\n",
       "1403       sport\n",
       "1404    business\n",
       "1405    business\n",
       "1406    business\n",
       "1407       sport\n",
       "\n",
       "[1408 rows x 1 columns]"
      ]
     },
     "execution_count": 5,
     "metadata": {},
     "output_type": "execute_result"
    }
   ],
   "source": [
    "category = pd.read_csv('target/category.txt',header= None , encoding=\"utf-8\", sep='delimiter')#โหลดข้อมูลหมวดหมู่ข่าว\n",
    "category.columns = ['Category']# กำหนดชื่อคอลัมน์ ให้ Dataframe\n",
    "category"
   ]
  },
  {
   "cell_type": "code",
   "execution_count": 6,
   "metadata": {},
   "outputs": [
    {
     "data": {
      "text/html": [
       "<div>\n",
       "<style scoped>\n",
       "    .dataframe tbody tr th:only-of-type {\n",
       "        vertical-align: middle;\n",
       "    }\n",
       "\n",
       "    .dataframe tbody tr th {\n",
       "        vertical-align: top;\n",
       "    }\n",
       "\n",
       "    .dataframe thead th {\n",
       "        text-align: right;\n",
       "    }\n",
       "</style>\n",
       "<table border=\"1\" class=\"dataframe\">\n",
       "  <thead>\n",
       "    <tr style=\"text-align: right;\">\n",
       "      <th></th>\n",
       "      <th>Text_body</th>\n",
       "      <th>Category</th>\n",
       "    </tr>\n",
       "  </thead>\n",
       "  <tbody>\n",
       "    <tr>\n",
       "      <th>0</th>\n",
       "      <td>The sporting industry has come a long way sinc...</td>\n",
       "      <td>technology</td>\n",
       "    </tr>\n",
       "    <tr>\n",
       "      <th>1</th>\n",
       "      <td>Shares in Europe's leading reinsurers and trav...</td>\n",
       "      <td>business</td>\n",
       "    </tr>\n",
       "    <tr>\n",
       "      <th>2</th>\n",
       "      <td>BT is offering customers free internet telepho...</td>\n",
       "      <td>technology</td>\n",
       "    </tr>\n",
       "    <tr>\n",
       "      <th>3</th>\n",
       "      <td>Shares in UK banking group Barclays have risen...</td>\n",
       "      <td>business</td>\n",
       "    </tr>\n",
       "    <tr>\n",
       "      <th>4</th>\n",
       "      <td>England centre Olly Barkley has been passed fi...</td>\n",
       "      <td>sport</td>\n",
       "    </tr>\n",
       "    <tr>\n",
       "      <th>...</th>\n",
       "      <td>...</td>\n",
       "      <td>...</td>\n",
       "    </tr>\n",
       "    <tr>\n",
       "      <th>1403</th>\n",
       "      <td>Toulouse's former Irish international Trevor B...</td>\n",
       "      <td>sport</td>\n",
       "    </tr>\n",
       "    <tr>\n",
       "      <th>1404</th>\n",
       "      <td>The trial of Bernie Ebbers, former chief execu...</td>\n",
       "      <td>business</td>\n",
       "    </tr>\n",
       "    <tr>\n",
       "      <th>1405</th>\n",
       "      <td>Russian oil firm Yukos lied to a US court in a...</td>\n",
       "      <td>business</td>\n",
       "    </tr>\n",
       "    <tr>\n",
       "      <th>1406</th>\n",
       "      <td>Russian oil company Yukos has dropped the thre...</td>\n",
       "      <td>business</td>\n",
       "    </tr>\n",
       "    <tr>\n",
       "      <th>1407</th>\n",
       "      <td>Zambia's technical director, Kalusha Bwalya is...</td>\n",
       "      <td>sport</td>\n",
       "    </tr>\n",
       "  </tbody>\n",
       "</table>\n",
       "<p>1408 rows × 2 columns</p>\n",
       "</div>"
      ],
      "text/plain": [
       "                                              Text_body    Category\n",
       "0     The sporting industry has come a long way sinc...  technology\n",
       "1     Shares in Europe's leading reinsurers and trav...    business\n",
       "2     BT is offering customers free internet telepho...  technology\n",
       "3     Shares in UK banking group Barclays have risen...    business\n",
       "4     England centre Olly Barkley has been passed fi...       sport\n",
       "...                                                 ...         ...\n",
       "1403  Toulouse's former Irish international Trevor B...       sport\n",
       "1404  The trial of Bernie Ebbers, former chief execu...    business\n",
       "1405  Russian oil firm Yukos lied to a US court in a...    business\n",
       "1406  Russian oil company Yukos has dropped the thre...    business\n",
       "1407  Zambia's technical director, Kalusha Bwalya is...       sport\n",
       "\n",
       "[1408 rows x 2 columns]"
      ]
     },
     "execution_count": 6,
     "metadata": {},
     "output_type": "execute_result"
    }
   ],
   "source": [
    "data = pd.concat([text_body,category],axis = 1) # เป็นขั้นตอนการรวม dataframe ทั้ง 2 ไว้ด้วยกัน\n",
    "data"
   ]
  },
  {
   "cell_type": "markdown",
   "metadata": {},
   "source": [
    "## Data Understanding\n",
    "เป็นขั้นตอนการทำความเข้าใจข้อมูล และศึกษาลักษณะของข้อมูล เพื่อนำไปใช้ในการวิเคราะห์โมเดลในขั้นตอนต่อไป"
   ]
  },
  {
   "cell_type": "markdown",
   "metadata": {},
   "source": [
    "### Tokenizing Text\n",
    "เป็นขั้นตอนการแบ่งคำศัพท์จากประโยค  เพื่อใช้สำหรับการนับคำศัพท์ในขั้นตอนต่อไป"
   ]
  },
  {
   "cell_type": "code",
   "execution_count": 7,
   "metadata": {},
   "outputs": [],
   "source": [
    "text_body = data['Text_body'] # สร้าง dataframeขึ้นมาใหม่เลือกเฉพาะเนื้อหาข่าว เพื่อใช้ในการวิเคราหะ์ข้อมูลข่าว"
   ]
  },
  {
   "cell_type": "code",
   "execution_count": 8,
   "metadata": {},
   "outputs": [],
   "source": [
    "# ขั้นตอนนี้จะการทำ แบ่งประโยคเป็นคำ \n",
    "word_split = []\n",
    "for sentence in range(len(text_body)): # โดยเริ่มจากวนลูป แต่ของแต่ละข่าว\n",
    "    tokenize = CountVectorizer().build_tokenizer() #จากนั้นเรียกใช้คำสั่งการแบ่งคำ build_tokenizer() เก็บไว้ในตัวแปร tokenize\n",
    "    tokens1 = tokenize(text_body[sentence].lower()) #หลังจากนั้น นำประโยคข่าวแต่ละประโยคมาทำให้เป็นตัวพิมพ์เล็ก  และเรียกใช้งานคำสั่งแบ่งคำ\n",
    "    word_split.append(tokens1)  #เมื่อแบ่งคำเสร็จแล้วจะได้ list ของคำออกมา นำมาเก็บไว้ใน list word_split\n",
    "    \n"
   ]
  },
  {
   "cell_type": "code",
   "execution_count": 9,
   "metadata": {},
   "outputs": [
    {
     "data": {
      "text/plain": [
       "['the', 'sporting', 'industry', 'has', 'come', 'long', 'way', 'since', 'the']"
      ]
     },
     "execution_count": 9,
     "metadata": {},
     "output_type": "execute_result"
    }
   ],
   "source": [
    "word_split[0][0:9] #ตัวอย่างการแสดงผลของการแบ่งคำของข่าวที่ 1 "
   ]
  },
  {
   "cell_type": "markdown",
   "metadata": {},
   "source": [
    "### Cleaning words\n",
    "เป็นการตัดคำที่อยู่ใน list ENGLISH_STOP_WORDS ซึ่งเป็นคำที่ใช้ทั่วไป เช่น a , an"
   ]
  },
  {
   "cell_type": "code",
   "execution_count": 10,
   "metadata": {},
   "outputs": [],
   "source": [
    "stopwords = text.ENGLISH_STOP_WORDS # lits ของคำศัพท์ที่ไม่มีความหมาย เช่น a , an"
   ]
  },
  {
   "cell_type": "code",
   "execution_count": 11,
   "metadata": {},
   "outputs": [],
   "source": [
    "#ขั้นตอนการนำคำศัพท์มาลบ คำที่ไม่มีความหมายออก \n",
    "filter_words = []\n",
    "for sentence_ in word_split: #โดยเริ่มจากการวนลูปข่าวของแต่ละข่าว\n",
    "    original_sen = []\n",
    "    for token in sentence_: #จากนั้นทำการวนลูปเข้าไปยังคำศัพท์ในข่าวนั้น\n",
    "        if token not in stopwords: #และเช็คเงื่อนไขว่า ถ้าศัพท์นั้นไม่ได้อยู่ใน list คำศัพท์ที่ไม่มีความหมาย ให้เก็บใว้ใน Original_sen\n",
    "            original_sen.append(token)\n",
    "    filter_words.append(original_sen) #หลังจากตรวจคำศัพท์ครบ 1 ข่าว ให้นำศัพท์ของข่าวนั้นมาเก็บไว้ใน list filter_words"
   ]
  },
  {
   "cell_type": "code",
   "execution_count": 12,
   "metadata": {},
   "outputs": [
    {
     "data": {
      "text/plain": [
       "194"
      ]
     },
     "execution_count": 12,
     "metadata": {},
     "output_type": "execute_result"
    }
   ],
   "source": [
    "len(word_split[0]) # จำนวนคำศัพท์ในข่าวที่ 1 "
   ]
  },
  {
   "cell_type": "code",
   "execution_count": 13,
   "metadata": {},
   "outputs": [
    {
     "data": {
      "text/plain": [
       "101"
      ]
     },
     "execution_count": 13,
     "metadata": {},
     "output_type": "execute_result"
    }
   ],
   "source": [
    "len(filter_words[0]) # จำนวนคำศัพท์ในข่าวที่ 1  หลังจากกรองคำศัพท์"
   ]
  },
  {
   "cell_type": "markdown",
   "metadata": {},
   "source": [
    "### Counting Tokens\n",
    "เป็นขั้นตอนการนับคำใน Corpus ว่าทั้งหมดกี่คำที่ไม่ซ้ำกัน และนับความถี่ของคำๆ นั้น "
   ]
  },
  {
   "cell_type": "code",
   "execution_count": 14,
   "metadata": {},
   "outputs": [
    {
     "name": "stdout",
     "output_type": "stream",
     "text": [
      "Found 22634 unique terms in this corpus\n"
     ]
    }
   ],
   "source": [
    "#ขั้นตอนนี้จะเป็นการ นับคำศัพท์ที่ไม่ซ้ำกันทั้งหมดใน corpus\n",
    "# filter_words คือคำศัพท์ที่ผ่านการกรองแล้ว\n",
    "# senten จะได้ list ของคำศัพท์แต่ละข่าว\n",
    "# token  จะได้คำศัพท์ ที่อยู่ในข่าว\n",
    "freque_word  = {}\n",
    "for  senten in filter_words: #โดยเริ่มจากการวนลูปเข้าไปยังข่าวของแต่ละข่าว\n",
    "    for token in senten: #หลังจากนั้นจะวนลูปเพื่อเข้าถึงคำศัพท์ในแต่ละข่าว\n",
    "        if token in freque_word:  # และเช็คเงื่อนไขว่า ถ้าคำศัพท์อยู่ใน dict \n",
    "            freque_word[token] += 1 #ให้คำศัพท์นั้นบวกความถี่  เพิ่มขึ้น 1 \n",
    "        else:                       \n",
    "            freque_word[token] = 1  # ถ้าไม่ใช่ให้เพิ่มคำศัพท์นั้นลงไปใน dict และกำหนดค่าเท่ากับ 1 \n",
    "print(\"Found %d unique terms in this corpus\" % len(freque_word))"
   ]
  },
  {
   "cell_type": "code",
   "execution_count": 15,
   "metadata": {},
   "outputs": [
    {
     "data": {
      "text/plain": [
       "32"
      ]
     },
     "execution_count": 15,
     "metadata": {},
     "output_type": "execute_result"
    }
   ],
   "source": [
    "freque_word['sporting'] # ตัวอย่างการแสดงผลการนำความถี่ของคำศัพท์"
   ]
  },
  {
   "cell_type": "markdown",
   "metadata": {},
   "source": [
    "### Sort frequency\n",
    "เป็นขั้นตอนการเรียงลำดับคำที่มีการใช้มากที่สุด และทำการแบ่งกลุ่มความถี่ของคำ เพื่อศึกษาว่าใน Corpus ชุดนี้ ลักษณะของคำเป็นอย่างไร"
   ]
  },
  {
   "cell_type": "code",
   "execution_count": 16,
   "metadata": {},
   "outputs": [],
   "source": [
    "sorted_freque = sorted(freque_word.items(), key=operator.itemgetter(1), reverse=True) #ขั้นตอนการแปลง Dict ให้เป็น list \n",
    "#และหลังจากนั้นทำการเรียงลำดับ โดยใช้การ sorted()\n"
   ]
  },
  {
   "cell_type": "code",
   "execution_count": 17,
   "metadata": {
    "scrolled": true
   },
   "outputs": [
    {
     "data": {
      "text/plain": [
       "[('said', 4119),\n",
       " ('year', 1543),\n",
       " ('people', 1199),\n",
       " ('new', 1175),\n",
       " ('mr', 1092),\n",
       " ('world', 946),\n",
       " ('time', 925),\n",
       " ('game', 870),\n",
       " ('news', 756),\n",
       " ('online', 715)]"
      ]
     },
     "execution_count": 17,
     "metadata": {},
     "output_type": "execute_result"
    }
   ],
   "source": [
    "sorted_freque[0:10] # ตัวอย่าง dict ที่ถูกแปลงเป็น list"
   ]
  },
  {
   "cell_type": "code",
   "execution_count": 18,
   "metadata": {
    "scrolled": true
   },
   "outputs": [
    {
     "name": "stdout",
     "output_type": "stream",
     "text": [
      "1. said (count=4119)\n",
      "2. year (count=1543)\n",
      "3. people (count=1199)\n",
      "4. new (count=1175)\n",
      "5. mr (count=1092)\n",
      "6. world (count=946)\n",
      "7. time (count=925)\n",
      "8. game (count=870)\n",
      "9. news (count=756)\n",
      "10. online (count=715)\n"
     ]
    }
   ],
   "source": [
    "# แสดงผล 10 คำ ที่ถูกใช้มากทึ่สุดใน corpus\n",
    "for i in range(10):\n",
    "    term = sorted_freque[i][0]\n",
    "    count = sorted_freque[i][1]\n",
    "    print( str(i+1)+\". \"+\"%s (count=%d)\" % ( term, count ) )"
   ]
  },
  {
   "cell_type": "code",
   "execution_count": 19,
   "metadata": {},
   "outputs": [
    {
     "data": {
      "text/plain": [
       "Text(0.5, 1.0, 'Groups of Words')"
      ]
     },
     "execution_count": 19,
     "metadata": {},
     "output_type": "execute_result"
    },
    {
     "data": {
      "image/png": "[encoded data removed]",
      "text/plain": [
       "<Figure size 720x360 with 1 Axes>"
      ]
     },
     "metadata": {
      "needs_background": "light"
     },
     "output_type": "display_data"
    }
   ],
   "source": [
    "#ขั้นตอนนี่้จะเป็นการพรอทเพื่อดูลักษณะของคำ โดยทำการแบ่งกลุ่มออกเป็น 3 กลุ่ม คือ 1. over คือกลุ่มที่มีค่าความถี่สูง 2.normal กลุ่มที่มี่ความถี่คำปกติ\n",
    "# 3. less กลุ่มที่มีความถี่ต่ำ\n",
    "over = 0\n",
    "less = 0\n",
    "normal = 0\n",
    "\n",
    "for word_fre in range(len(sorted_freque)): #ทำการวนลูปลบคำศัพท์ทั้งหมด\n",
    "    if (int(sorted_freque[word_fre][1])  <= 10):#จากนั้นตั้งเงื่อนไขว่า ถ้าความถี่น้อยกว่าเท่ากับ 10 ให้ less + 1 \n",
    "        less += 1\n",
    "    elif (int(sorted_freque[word_fre][1]) > 1000):#หรือเงื่อนไขว่า ถ้ามากกว่า 1000 ให้ over + 1  \n",
    "        over += 1\n",
    "    else:                                         #ถ้าไม่ใช่ให้ normal + 1\n",
    "        normal += 1\n",
    "        \n",
    "size = [over , less ,normal]       #จากนั้นนำทั้ง 3 กลุ่มมาสร้างเป็น list เพื่อใช้สำหรับการ plot\n",
    "fig = plt.figure(figsize = (10, 5))  #กำหนดขนาดของ layout\n",
    "plt.bar(['over','less','normal'],size, color =['blue','green'],  # ใช้คำสั่ง bar เพื่อทำการ plot bar graph\n",
    "        width = 0.35)\n",
    "plt.xlabel(\"Groups Name\") \n",
    "plt.ylabel(\"Words\") \n",
    "plt.title(\"Groups of Words\") "
   ]
  },
  {
   "cell_type": "markdown",
   "metadata": {},
   "source": [
    "จากกราฟด้านบน ทำให้ทราบว่าข้อมูลชุดนี้ส่วนใหญ่ เป็นคำที่มีความถี่ในการใช้น้อยกว่า 10  ซึ่งจะนำผลการวิเคราะห์ความถี่ของคำไปใช้ในขั้นตอนการตัดคำต่อไป"
   ]
  },
  {
   "cell_type": "markdown",
   "metadata": {
    "collapsed": true
   },
   "source": [
    "## Text Preprocessing\n",
    "จากการวิเคราะห์ความถี่ของคำ ทำให้ทราบลักษณะของคำมากขึ้น ในขั้นตอนการตัดคำเราจะแบ่งเป็น 2 กรณี เพื่อศึกษาว่าการตัดคำที่เหลือจำนวนคำเยอะ กับ จำนวนคำน้อย มีผลต่อความแม่นยำหรือไม่ และแบบไหนที่ทำให้โมเดลมีความแม่นยำเพิ่มขึ้น โดยในการตัดคำจะเน้นไปที่การตัดของคำที่มีความถี่น้อยเนื่องจากข้อมูลนี้ส่วนใหญ่เป็นคำที่มีความถี่น้อย จะแบ่งเป็น 2 กลุ่มดังนี้\n",
    "    1. More_Words คือการตัดคำที่เหลือจำนวนคำเยอะ (min_df = 2)\n",
    "    2. Less_Words คือการตัดคำที่เหลือจำนวนคำน้อย (min_df = 10)\n",
    "โดยกระบวนการตัดคำจะแบ่งเป็น 3 รูปแบบดังนี้\n",
    "    1. stem_tokenizer  เป็นกระบวนตัดส่วนท้ายของคำ\n",
    "    2. lemma_tokenizer กระบวนการในการแปลง Word ด้วยรายการคำศัพท์ใน Dictionary \n",
    "    3. lemma_tokenizer_w_pos_tag เป็นกระบวนการในการระบุว่า คำไหน เป็นส่วนไหนของประโยค เช่น noun, pronoun, verb"
   ]
  },
  {
   "cell_type": "code",
   "execution_count": 20,
   "metadata": {},
   "outputs": [],
   "source": [
    "#เป็นกระบวนตัดส่วนท้ายของคำ\n",
    "def stem_tokenizer(text):\n",
    "    standard_tokenizer = CountVectorizer().build_tokenizer() #เรียกใช้ฟังชั่น CountVectorizer\n",
    "    tokens = standard_tokenizer(text)  #กำหนดตัวแปรไว้อ่านข้อมูล\n",
    "    stemmer = PorterStemmer()          #เรียกใช้ฟังชั่น PorterStemmer\n",
    "    stems = []\n",
    "    for token in tokens:               #ทำการวนลูปข้อมูล\n",
    "        stems.append( stemmer.stem(token.lower()) ) #แปลงข้อมูลเป็นตัวพิมเล็ก และตัดคำโดยใช้ stemmer  ตัดส่วนท้ายของคำ\n",
    "    return stems"
   ]
  },
  {
   "cell_type": "code",
   "execution_count": 21,
   "metadata": {},
   "outputs": [],
   "source": [
    "#กระบวนการในการแปลง Word ด้วยรายการคำศัพท์ใน Dictionary \n",
    "def lemma_tokenizer(text):\n",
    "    standard_tokenizer = CountVectorizer().build_tokenizer()#เรียกใช้ฟังชั่น CountVectorizer\n",
    "    tokens = standard_tokenizer(text)                      #กำหนดตัวแปรไว้อ่านข้อมูล\n",
    "    lemmatizer = nltk.stem.WordNetLemmatizer()             # เรียกใช้ฟังชั่น WordNetLemmatizer\n",
    "    lemma_tokens = []\n",
    "    for token in tokens:                                   # #ทำการวนลูปข้อมูล\n",
    "        lemma_tokens.append( lemmatizer.lemmatize(token))  #แปลงข้อมูลเป็นตัวพิมเล็ก และตัดคำโดยใช้ lemmatize \n",
    "    return lemma_tokens                                    # ในการแปลง Word ด้วยรายการคำศัพท์ใน Dictionary "
   ]
  },
  {
   "cell_type": "code",
   "execution_count": 22,
   "metadata": {},
   "outputs": [],
   "source": [
    "#เป็นกระบวนการในการระบุว่า คำไหน เป็นส่วนไหนของประโยค เช่น noun, pronoun, verb, adjective, adverb, preposition, conjunction\n",
    "def lemma_tokenizer_w_pos_tag(text):\n",
    "    def convert_tags(tag):                              #ทำการสร้างฟังชั่นที่ใช้สำหรับติด tag ข้อมูล ว่า เป็น verb หรือ noun\n",
    "        if tag == 'vbd' or tag == 'vbg' or tag == 'vbz':\n",
    "            return 'v'\n",
    "        else: \n",
    "            return 'n'\n",
    "    \n",
    "  \n",
    "    standard_tokenizer = CountVectorizer().build_tokenizer() #เรียกใช้ฟังชั่น CountVectorizer\n",
    "    tokens = standard_tokenizer(text)                        #กำหนดตัวแปรไว้อ่านข้อมูล\n",
    "    tokens_with_pos_tag = nltk.pos_tag(tokens)               # เรียกใช้ฟังชั่น pos_tag กับข้อมูล\n",
    "    lemmatizer = nltk.WordNetLemmatizer()                    #เรียกใช้ฟังชั่น WordNetLemmatizer\n",
    "    lemma_tokens = []\n",
    "    for token in tokens_with_pos_tag:                        # ทำการวนลูปไปยังข้อมูลที่ติด tag\n",
    "        new_tag = convert_tags(token[1].lower())             # ทำการแปลงข้อมูลเป็นตัวพิมเล็กและเรียกใช้งาน convert_tags \n",
    "        lemma_tokens.append(lemmatizer.lemmatize(token[0], new_tag))\n",
    "    \n",
    "    return lemma_tokens"
   ]
  },
  {
   "cell_type": "markdown",
   "metadata": {},
   "source": [
    "### Choose  Tokenizer Process\n",
    "ขั้นตอนนี้จะเป็นการเลือกวิธีการที่เหมาะสมสำหรับการตัดคำของแต่ละกลุ่ม โดยในการกำหนด min_df = 10 (Less_Words) มาจากขั้นตอนก่อนหน้าที่พบว่าคำส่วนใหญ่มีความถี่น้อยกว่า 10 จึงทดสอบลบทั้งหมด   อีกกรณีคือตัด min_df = 2 (More_Words) เกิดจากการคาดการว่าถ้าตัด 2 แสดงว่าเป็นคำที่ข่าวไม่ค่อยพูดหรือไม่ใช่ส่วนสำคัญของข่าว "
   ]
  },
  {
   "cell_type": "markdown",
   "metadata": {},
   "source": [
    "#### Less_Words"
   ]
  },
  {
   "cell_type": "code",
   "execution_count": 23,
   "metadata": {},
   "outputs": [
    {
     "name": "stdout",
     "output_type": "stream",
     "text": [
      "<function stem_tokenizer at 0x00000222A3501CA0>: (1408, 3166)\n",
      "<function lemma_tokenizer at 0x00000222A350F040>: (1408, 3664)\n",
      "<function lemma_tokenizer_w_pos_tag at 0x00000222A350F310>: (1408, 3485)\n"
     ]
    }
   ],
   "source": [
    "#ขั้นตอนนี้จะเป็นการวนลูปเพื่อหาวิธีการที่สามารถตัดคำให้เหลือน้อยที่สุดจาก 3 วิธีการ\n",
    "list_token = [stem_tokenizer,lemma_tokenizer,lemma_tokenizer_w_pos_tag] #ขั้นตอนแรกสร้าง list ของแต่ละวิธีการตัดคำ\n",
    "for i in list_token:                                                    #จากนั้นทำการวนลูปการทำงานของแต่ละวิธีการ\n",
    "    vectorizer = TfidfVectorizer(stop_words=\"english\",min_df = 10, tokenizer= i) #เรียกใช้คำสั่ง TfidfVectorizer เพื่อใช้ในการตัดคำโดย\n",
    "    X = vectorizer.fit_transform(text_body)                     #กำหนดเงือนไขว่าต้องตัดคำที่อยู่ใน list ที่ชื่อ english และตัดคำที่มี\n",
    "                                #ความถี่คำน้อยกว่า 10 และเรียกใช้ กระบวนการตัดคำตามลูป เช่น ลูปรอบที่ 1 ใช้วิธีการตัดแบบ stem_tokenizer                               \n",
    "    print(str(i)+': '+str(X.shape)) #แสดงวิธีการ จำนวนข้อมูลข่าว และจำนวนคำศัพท์"
   ]
  },
  {
   "cell_type": "markdown",
   "metadata": {},
   "source": [
    "ในส่วนของ Less_Words จะเลือกวิธีการที่สามารถทำให้คำเหลือน้อย จากข้อมูลด้านบน การตัดคำโดยใช้ stem_tokenizer นั้นจะทำให้มีจำนวนคำศัพท์เหลือน้อยที่สุด\n",
    "จึงเลือกใช้ stem_tokenizer สำหรับกลุ่ม Less_Words"
   ]
  },
  {
   "cell_type": "code",
   "execution_count": 24,
   "metadata": {},
   "outputs": [
    {
     "data": {
      "text/plain": [
       "(1408, 3166)"
      ]
     },
     "execution_count": 24,
     "metadata": {},
     "output_type": "execute_result"
    }
   ],
   "source": [
    "vectorizer = TfidfVectorizer(stop_words=\"english\",min_df = 10, tokenizer= stem_tokenizer) #เรียกใช้ TfidfVectorizer กับกระบวนการ\n",
    "weight_X = vectorizer.fit_transform(text_body)           #stem_tokenizer หลังจากนั้นใช้คำสั่ง fit เพื่อทำงานกับข้อมูล text_body \n",
    "weight_X.shape                                          # แสดงจำนวนข้อมูลข่าว และจำนวนคำศัพท์"
   ]
  },
  {
   "cell_type": "markdown",
   "metadata": {},
   "source": [
    "#### More_Words"
   ]
  },
  {
   "cell_type": "code",
   "execution_count": 25,
   "metadata": {},
   "outputs": [
    {
     "name": "stdout",
     "output_type": "stream",
     "text": [
      "<function stem_tokenizer at 0x00000222A3501CA0>: (1408, 9187)\n",
      "<function lemma_tokenizer at 0x00000222A350F040>: (1408, 11765)\n",
      "<function lemma_tokenizer_w_pos_tag at 0x00000222A350F310>: (1408, 11080)\n"
     ]
    }
   ],
   "source": [
    "#ขั้นตอนนี้จะเป็นการวนลูปเพื่อหาวิธีการที่สามารถตัดคำให้เหลือมากที่สุดจาก 3 วิธีการ\n",
    "list_token1 = [stem_tokenizer,lemma_tokenizer,lemma_tokenizer_w_pos_tag] #ขั้นตอนแรกสร้าง list ของแต่ละวิธีการตัดคำ\n",
    "for i in list_token1:                                                   #จากนั้นทำการวนลูปการทำงานของแต่ละวิธีการ\n",
    "    vectorizer = TfidfVectorizer(stop_words=\"english\",min_df = 2, tokenizer= i)#เรียกใช้คำสั่ง TfidfVectorizer เพื่อใช้ในการตัดคำโดย\n",
    "    X_1 = vectorizer.fit_transform(text_body)                    #กำหนดเงือนไขว่าต้องตัดคำที่อยู่ใน list ที่ชื่อ english และตัดคำที่มี\n",
    "                                     #ความถี่คำน้อยกว่า 5 และเรียกใช้ กระบวนการตัดคำตามลูป เช่น ลูปรอบที่ 1 ใช้วิธีการตัดแบบ stem_tokenizer\n",
    "    print(str(i)+': '+str(X_1.shape))  #แสดงจำนวนข้อมูลข่าว และจำนวนคำศัพท์"
   ]
  },
  {
   "cell_type": "markdown",
   "metadata": {},
   "source": [
    "ในส่วนของ More_Words จะเลือกวิธีการที่สามารถทำให้มีคำเหลือมากที่สุด จากข้อมูลด้านบนพบว่าการใช้ Lema_tokenizer จะทำให้มีจำนวนคำที่เยอะที่สุด จึงเลือกใช้ Lema_tokenizer สำหรับ More_Words"
   ]
  },
  {
   "cell_type": "code",
   "execution_count": 26,
   "metadata": {},
   "outputs": [
    {
     "data": {
      "text/plain": [
       "(1408, 11765)"
      ]
     },
     "execution_count": 26,
     "metadata": {},
     "output_type": "execute_result"
    }
   ],
   "source": [
    "vectorizer = TfidfVectorizer(stop_words=\"english\",min_df = 2, tokenizer=lemma_tokenizer)#เรียกใช้ TfidfVectorizer กับกระบวนการ\n",
    "weight_X1 = vectorizer.fit_transform(text_body)          #lemma_tokenizer หลังจากนั้นใช้คำสั่ง fit เพื่อทำง่านกับข้อมูล text_body \n",
    "weight_X1.shape                                          # แสดงจำนวนข้อมูลข่าว และจำนวนคำศัพท์"
   ]
  },
  {
   "cell_type": "markdown",
   "metadata": {},
   "source": [
    "# Algorithm - Comparison\n",
    "จะเป็นขั้นตอนการเปรียบเทียบอัลกอริทึมของทั้ง 2 กลุ่ม  เพื่อพิสูจน์ว่าอัลกอริทึมแบบที่เหมาะสมกับข้อมูลชุดนี้ โดยในการทดลองครั้งนี้จะใช้ K-Fold Cross-validation แบบ Inner ในการทดสอบกับโมเดล เนื่องจากการทำ K-Fold จะช่วยให้ข้อมูลในแต่ละ fold มีการกระจายตัวใกล้เคียงกันช่วยลด bias เวลาสร้างและทดสอบโมเดล อีกทั้งยังสามารถนำ K-Fold Cross-validation มาใช้ในการเปรียบเทียบอัลกอรึทึมเพื่้อหาอัลกอรึทึมที่ดีที่สุด"
   ]
  },
  {
   "cell_type": "markdown",
   "metadata": {},
   "source": [
    "### Feature and Target\n",
    "ขั้นตอนกำหนด feature และ target ของแต่ละกลุ่ม โดยมีทั้งหมด 2 กลุ่ม "
   ]
  },
  {
   "cell_type": "markdown",
   "metadata": {},
   "source": [
    "1. Less_Words"
   ]
  },
  {
   "cell_type": "code",
   "execution_count": 27,
   "metadata": {},
   "outputs": [],
   "source": [
    "feature = weight_X                                      #กำหนด feature เป็นข้อมูลที่ถ่วงน้ำหนักของกลุ่ม Less_Words\n",
    "target = data['Category'].replace({'business':0, 'technology':1 , 'sport':2}) #กำหนด target เป็นคอลัม category และทำการแปลง\n",
    "                                                                 # target string ให้เป็น integer "
   ]
  },
  {
   "cell_type": "markdown",
   "metadata": {},
   "source": [
    " 2. More_Words"
   ]
  },
  {
   "cell_type": "code",
   "execution_count": 28,
   "metadata": {},
   "outputs": [],
   "source": [
    "feature_1 = weight_X1                                                   # #กำหนด feature เป็นข้อมูลที่ถ่วงน้ำหนักของกลุ่ม More_Words\n",
    "target_1 = data['Category'].replace({'business':0, 'technology':1 , 'sport':2}) #กำหนด target เป็นคอลัม category และทำการแปลง\n",
    "                                                                         # target string ให้เป็น integer "
   ]
  },
  {
   "cell_type": "markdown",
   "metadata": {},
   "source": [
    "### Training and test sets\n",
    "ขั้นตอนการแบ่งข้อมูลเป็น 2 ส่วน คือ Train 70 % และ Test 30 %  และกำหนด random_state = 1 เพื่อให้ทุกครั้งที่สุ่มแบ่งข้อมูลจะได้ข้อมูลในลักษณะเดิม โดยในขั้นตอนนี้จะมีข้อมูลทั้งหมด 2 ชุด และทั้ง 2 ชุดจะถูกเซ็ทค่าต่างๆ เหมือนกัน เพื่อป้องกันความผิดพลาดในเรื่องความแตกต่างของชุดข้อมูล\n",
    "- ข้อมูลชุดที่ 1 เป็นของกลุ่ม Less_Words ใช้สำหรับทำการทดลอง\n",
    "- ข้อมูลชุดที่ 2 เป็นของกลุ่ม More_Words ใช้สำหรับทำการทดลอง"
   ]
  },
  {
   "cell_type": "code",
   "execution_count": 29,
   "metadata": {},
   "outputs": [],
   "source": [
    "X_train, X_test, y_train, y_test = train_test_split(feature, target, test_size=0.30 , random_state = 1) #Less_Words"
   ]
  },
  {
   "cell_type": "code",
   "execution_count": 30,
   "metadata": {},
   "outputs": [],
   "source": [
    "X_train1, X_test1, y_train1, y_test1 = train_test_split(feature_1, target_1, test_size=0.30 , random_state = 1) #More_words"
   ]
  },
  {
   "cell_type": "markdown",
   "metadata": {},
   "source": [
    "### Model\n",
    "ขั้นตอนนี้จะเป็นการเปรีบเทียบอัลกอรึทึมของแต่ละกลุ่ม เพื่อหาอัลกอรึทึมที่ดีที่สุดและรูปแบบการตัดคำที่สามารถให้ความแม่นยำสูงสุดไปใช้ในการสร้างโมเดล โดยอัลกอรึทึมที่ใช้ในการทดสอบครั้งนี้มีดังนี้\n",
    "    1. LogisticRegression                       \n",
    "    2. BernoulliNB\n",
    "    3. ComplementNB\n",
    "    4. MultinomialNB\n",
    "    5. Support vector machine\n",
    "    6. RandomForestClassifier\n",
    "และรูปแบบการตัดคำจะมี 2 กลุ่มดังนี้<br>\n",
    "    1. Less_Words คือกลุ่มที่ตัดคำให้เหลือคำน้อย\n",
    "    2. More_Words คือกลุ่มที่ตัดคำให้เหลือคำเยอะ"
   ]
  },
  {
   "cell_type": "code",
   "execution_count": 31,
   "metadata": {},
   "outputs": [],
   "source": [
    "models = [LogisticRegression() , BernoulliNB(),ComplementNB(), MultinomialNB()  , svm.SVC(),\\\n",
    "          RandomForestClassifier()] #สร้าง list ของ Model "
   ]
  },
  {
   "cell_type": "code",
   "execution_count": 32,
   "metadata": {},
   "outputs": [],
   "source": [
    "Listname_model = ['LogisticRegression','BernoulliNB','ComplementNB','MultinomialNB','SVM',\\\n",
    "                 'RandomForestClassifier']  #สร้าง list ของ ชื่อโมเดล"
   ]
  },
  {
   "cell_type": "code",
   "execution_count": 33,
   "metadata": {},
   "outputs": [],
   "source": [
    "parameter = [ {'penalty':('l1', 'l2', 'elasticnet', 'none'),              #สร้าง list parameter ของแต่ละโมเดลขึ้นมา      \n",
    "              'solver':('newton-cg', 'lbfgs', 'liblinear', 'sag', 'saga')},\n",
    "            {'alpha':[1.0 ,10.0]},\n",
    "            {'alpha':[1.0 ,10.0]},\n",
    "            {'alpha':[1.0 ,10.0]},\n",
    "            {'kernel':('linear', 'rbf'), 'C':[1, 10]},\n",
    "            {'max_features':('auto', 'sqrt', 'log2'),'criterion':('gini', 'entropy')}]"
   ]
  },
  {
   "cell_type": "code",
   "execution_count": 34,
   "metadata": {},
   "outputs": [],
   "source": [
    "kfold_inner = KFold(n_splits=15, random_state=1, shuffle=True)          #กำหนดค่าในการทำ k-foldแบบ inner ว่าแบ่งข้อมูลเป็น 15 ส่วน"
   ]
  },
  {
   "cell_type": "markdown",
   "metadata": {},
   "source": [
    "#### Less_Words"
   ]
  },
  {
   "cell_type": "code",
   "execution_count": 35,
   "metadata": {},
   "outputs": [
    {
     "name": "stdout",
     "output_type": "stream",
     "text": [
      "--------  Accuracy and Best_parameter (Less Words) ----------\n",
      "LogisticRegression:  \n",
      "Cross_validation :  0.987\n",
      "best_parameter:  {'penalty': 'none', 'solver': 'lbfgs'}\n",
      "\n",
      "BernoulliNB:  \n",
      "Cross_validation :  0.974\n",
      "best_parameter:  {'alpha': 1.0}\n",
      "\n",
      "ComplementNB:  \n",
      "Cross_validation :  0.978\n",
      "best_parameter:  {'alpha': 1.0}\n",
      "\n",
      "MultinomialNB:  \n",
      "Cross_validation :  0.981\n",
      "best_parameter:  {'alpha': 1.0}\n",
      "\n",
      "SVM:  \n",
      "Cross_validation :  0.986\n",
      "best_parameter:  {'C': 10, 'kernel': 'linear'}\n",
      "\n",
      "RandomForestClassifier:  \n",
      "Cross_validation :  0.976\n",
      "best_parameter:  {'criterion': 'gini', 'max_features': 'log2'}\n",
      "\n"
     ]
    }
   ],
   "source": [
    "count = 0\n",
    "Score_model_10 = dict()                                                 #สร้าง dict เพื่อไว้ใข้ในการเก็บค่าความแม่นยำของแต่ละอัลกอรึทึม\n",
    "print('--------  Accuracy and Best_parameter (Less Words) ----------')\n",
    "for model in models:                                                   #ทำการวนลูปเข้าแต่ละอัลกอรึทึม\n",
    "    bestmodel = GridSearchCV(model, parameter[count],return_train_score = True, cv= kfold_inner) #จากนั้นใช้ GridSeachCV เพื่อทำ \n",
    "    bestmodel.fit(X_train, y_train)                                # k-fold crossvalidation และ หา parameter ที่เหมาะกับอัลกอรึทึม\n",
    "    Score_model_10[Listname_model[count]] =  bestmodel.best_score_ #นำ accuracy ของแต่ละอัลกอรึทึมเก็บเข้า dict เพื่อใช้ในการ plot\n",
    "    print(Listname_model[count]+\":  \")\n",
    "    print('Cross_validation :  '+'%.3f' %(bestmodel.best_score_))\n",
    "    print('best_parameter:  '+str(bestmodel.best_params_))\n",
    "    print('')\n",
    "    count += 1\n"
   ]
  },
  {
   "cell_type": "markdown",
   "metadata": {},
   "source": [
    "#### More_Words"
   ]
  },
  {
   "cell_type": "code",
   "execution_count": 36,
   "metadata": {},
   "outputs": [
    {
     "name": "stdout",
     "output_type": "stream",
     "text": [
      "--------  Accuracy and Best_parameter (More words)----------\n",
      "LogisticRegression:  \n",
      "Cross_validation :  0.984\n",
      "best_parameter:  {'penalty': 'none', 'solver': 'sag'}\n",
      "\n",
      "BernoulliNB:  \n",
      "Cross_validation :  0.979\n",
      "best_parameter:  {'alpha': 1.0}\n",
      "\n",
      "ComplementNB:  \n",
      "Cross_validation :  0.979\n",
      "best_parameter:  {'alpha': 1.0}\n",
      "\n",
      "MultinomialNB:  \n",
      "Cross_validation :  0.977\n",
      "best_parameter:  {'alpha': 1.0}\n",
      "\n",
      "SVM:  \n",
      "Cross_validation :  0.983\n",
      "best_parameter:  {'C': 10, 'kernel': 'linear'}\n",
      "\n",
      "RandomForestClassifier:  \n",
      "Cross_validation :  0.974\n",
      "best_parameter:  {'criterion': 'gini', 'max_features': 'auto'}\n",
      "\n"
     ]
    }
   ],
   "source": [
    "count = 0\n",
    "Score_model_5 = dict()                                                #สร้าง dict เพื่อไว้ใข้ในการเก็บค่าความแม่นยำของแต่ละอัลกอรึทึม\n",
    "print('--------  Accuracy and Best_parameter (More words)----------')\n",
    "for model in models:                                                   #ทำการวนลูปเข้าแต่ละอัลกอรึทึม\n",
    "    bestmodel1 = GridSearchCV(model, parameter[count],return_train_score = True, cv= kfold_inner) #จากนั้นใช้ GridSeachCV เพื่อทำ \n",
    "    bestmodel1.fit(X_train1, y_train1)                               # k-fold crossvalidation และ หา parameter ที่เหมาะกับอัลกอรึทึม\n",
    "    Score_model_5[Listname_model[count]] = bestmodel1.best_score_    # #นำ accuracy ของแต่ละอัลกอรึทึมเก็บเข้า dict เพื่อใช้ในการ plot\n",
    "    print(Listname_model[count]+\":  \")\n",
    "    print('Cross_validation :  '+'%.3f' %(bestmodel1.best_score_))\n",
    "    print('best_parameter:  '+str(bestmodel1.best_params_))\n",
    "    print('')\n",
    "    count += 1"
   ]
  },
  {
   "cell_type": "code",
   "execution_count": 37,
   "metadata": {
    "scrolled": false
   },
   "outputs": [
    {
     "data": {
      "image/png": "[encoded data removed]",
      "text/plain": [
       "<Figure size 1080x576 with 1 Axes>"
      ]
     },
     "metadata": {
      "needs_background": "light"
     },
     "output_type": "display_data"
    }
   ],
   "source": [
    "data_score_less = pd.DataFrame.from_dict(Score_model_10,orient='index',columns=['Less_Words']) #สร้าง dataframe ข้อมูลความแม่นยำของกลุ่ม Less words\n",
    "data_score_more = pd.DataFrame.from_dict(Score_model_5,orient='index')  #สร้าง dataframe ข้อมูลความแม่นยำของกลุ่ม More words\n",
    "data_score_less['More_Words'] = data_score_more                        #จากนั้นนำ dataframe ทั้ง 2 มา join กัน \n",
    "data_score = data_score_less                                          # และตั้งชื่อว่า data_score\n",
    "\n",
    "bar_width = 0.25                                                     #กำหนดขนาดของแท่งกราฟ\n",
    "fig, ax = plt.subplots(figsize = (15,8))                             #กำหนดพื้นที่ layout\n",
    "plt.bar(np.arange(len(data_score)), data_score['Less_Words'], bar_width, label='Less_Words')  #ทำการแท่งกราฟของข้อมูล Less_Words\n",
    "plt.bar(np.arange(len(data_score))+bar_width, data_score['More_Words'],\\\n",
    "                bar_width ,label = 'More_Words')                    #ทำการแท่งกราฟของข้อมูล More_Words\n",
    "plt.ylim(0.965,0.990)\n",
    "plt.xticks((0.2,1.2,2.2,3.2,4.2,5.2),data_score.index)\n",
    "plt.title('Algorithm Comparison and Accuracy')\n",
    "plt.xlabel('Algorithm')\n",
    "plt.ylabel('Accuracy')\n",
    "plt.grid()\n",
    "plt.legend()\n",
    "plt.show()\n"
   ]
  },
  {
   "cell_type": "markdown",
   "metadata": {},
   "source": [
    "จากกราฟด้านบนแสดงให้เห็นว่า ในการตัดคำที่ทำให้เหลือคำเยอะหรือน้อยมีผลกับความแม่นยำของโมเดล แต่ไม่สามารถบอกได้ว่าการตัดคำแบบไหนที่สามารถทำให้ความแม่นยำของโมเดลเพิ่มขึ้น ทั้งนี้ขึ้นอยู่กับคุณลักษณะของแต่ละโมเดล  โดยอัลกอรึทึมทีดีที่สุดกับข้อมูลชุดนี้คือ LogisticRegression และใช้การตัดคำแบบ Less Words และจะนำไปใช้ในการสร้างโมเดลในขั้นตอนต่อไป"
   ]
  },
  {
   "cell_type": "markdown",
   "metadata": {},
   "source": [
    "# Choose The Best Model\n",
    "จะเป็นขั้นตอนการเลือกอัลกอรึทึมที่ดีที่สุดมาใช้ในการสร้างโมเดล โดยในขั้นตอนนี้เลือกใช้  LogisticRegression เนื่อกจากเป็นอัลกอรึทึมที่สามารถทำนายได้ความแม่นยำสูงสุด และ เลือกใช้กระบวนการตัดคำแบบ Less_Words"
   ]
  },
  {
   "cell_type": "code",
   "execution_count": 38,
   "metadata": {},
   "outputs": [
    {
     "data": {
      "text/plain": [
       "LogisticRegression(penalty='none')"
      ]
     },
     "execution_count": 38,
     "metadata": {},
     "output_type": "execute_result"
    }
   ],
   "source": [
    "LOG_Model = LogisticRegression(penalty= 'none', solver= 'lbfgs') #ให้เรียกใช้โมเดล Logistic พร้อมทั้งระบุ best parameter ลงโมเดล\n",
    "LOG_Model.fit(X_train, y_train)                                  #จากนั้นใช้คำสั้ง fit เพื่อให้โมเดลเรียนรู้ข้อมูล"
   ]
  },
  {
   "cell_type": "code",
   "execution_count": 39,
   "metadata": {
    "scrolled": true
   },
   "outputs": [
    {
     "data": {
      "text/plain": [
       "array([2, 1, 2, 2, 0, 0, 2, 1, 0, 0, 1, 0, 2, 2, 0, 1, 1, 0, 1, 2, 0, 0,\n",
       "       2, 2, 2, 2, 2, 2, 2, 2, 2, 0, 1, 1, 0, 2, 2, 1, 0, 2, 0, 1, 0, 1,\n",
       "       1, 2, 0, 0, 1, 2, 2, 1, 0, 0, 2, 1, 0, 1, 2, 1, 0, 2, 2, 1, 0, 1,\n",
       "       0, 1, 0, 2, 0, 2, 0, 2, 2, 2, 0, 2, 2, 1, 0, 2, 1, 2, 2, 2, 2, 2,\n",
       "       1, 1, 0, 1, 2, 1, 1, 0, 1, 0, 1, 0, 0, 2, 2, 0, 0, 0, 2, 2, 2, 0,\n",
       "       2, 0, 2, 1, 0, 2, 0, 2, 0, 1, 0, 0, 0, 2, 1, 2, 2, 2, 0, 2, 2, 0,\n",
       "       0, 1, 0, 1, 0, 2, 2, 2, 2, 0, 1, 2, 2, 2, 2, 1, 2, 0, 1, 1, 2, 1,\n",
       "       1, 0, 0, 0, 1, 0, 2, 2, 1, 1, 1, 0, 0, 1, 0, 2, 2, 0, 1, 2, 2, 1,\n",
       "       0, 1, 2, 2, 1, 0, 2, 0, 0, 1, 1, 0, 0, 2, 0, 2, 0, 0, 0, 1, 1, 0,\n",
       "       0, 0, 1, 1, 1, 1, 2, 0, 1, 2, 2, 2, 2, 1, 2, 2, 1, 0, 0, 1, 0, 0,\n",
       "       2, 1, 0, 0, 2, 1, 0, 0, 1, 1, 2, 2, 1, 0, 2, 2, 0, 1, 2, 1, 1, 2,\n",
       "       1, 0, 2, 2, 1, 0, 0, 2, 0, 1, 0, 2, 0, 1, 1, 1, 2, 0, 1, 1, 0, 2,\n",
       "       2, 2, 0, 0, 1, 1, 2, 0, 2, 2, 0, 2, 1, 2, 0, 1, 0, 2, 1, 1, 0, 2,\n",
       "       1, 1, 0, 0, 1, 2, 0, 0, 2, 0, 2, 2, 0, 0, 0, 0, 2, 1, 1, 2, 0, 0,\n",
       "       0, 2, 0, 2, 2, 1, 0, 1, 2, 0, 2, 0, 1, 0, 0, 0, 0, 1, 1, 1, 1, 1,\n",
       "       2, 1, 2, 1, 0, 2, 0, 0, 1, 2, 2, 2, 2, 2, 2, 0, 0, 1, 2, 1, 2, 0,\n",
       "       2, 0, 0, 0, 0, 0, 2, 2, 2, 2, 2, 1, 2, 0, 2, 0, 1, 1, 0, 0, 1, 1,\n",
       "       1, 1, 0, 2, 0, 1, 2, 0, 0, 2, 2, 2, 2, 0, 1, 1, 2, 1, 2, 2, 0, 0,\n",
       "       0, 2, 1, 0, 2, 0, 1, 0, 1, 0, 2, 0, 0, 0, 2, 2, 0, 2, 0, 1, 0, 1,\n",
       "       2, 2, 0, 0, 0], dtype=int64)"
      ]
     },
     "execution_count": 39,
     "metadata": {},
     "output_type": "execute_result"
    }
   ],
   "source": [
    "predict = LOG_Model.predict(X_test) #ทดลองทำนาย\n",
    "predict"
   ]
  },
  {
   "cell_type": "code",
   "execution_count": 40,
   "metadata": {},
   "outputs": [
    {
     "data": {
      "text/plain": [
       "0.9763593380614657"
      ]
     },
     "execution_count": 40,
     "metadata": {},
     "output_type": "execute_result"
    }
   ],
   "source": [
    "accuracy_SVM = accuracy_score(y_test, predict) #ตรวจสอบความแม่นยำของโมเดล\n",
    "accuracy_SVM"
   ]
  },
  {
   "cell_type": "code",
   "execution_count": 41,
   "metadata": {},
   "outputs": [
    {
     "data": {
      "text/plain": [
       "0.9763593380614657"
      ]
     },
     "execution_count": 41,
     "metadata": {},
     "output_type": "execute_result"
    }
   ],
   "source": [
    "precision_SVM = precision_score(y_test, predict ,  average= 'micro' ) #ตรวจสอบความแม่นยำของโมเดลในมุมของ precision\n",
    "precision_SVM"
   ]
  },
  {
   "cell_type": "code",
   "execution_count": 42,
   "metadata": {},
   "outputs": [
    {
     "data": {
      "text/plain": [
       "0.9763593380614657"
      ]
     },
     "execution_count": 42,
     "metadata": {},
     "output_type": "execute_result"
    }
   ],
   "source": [
    "recall_SVM =  recall_score(y_test, predict ,  average= 'micro' ) #ตรวจสอบความแม่นยำของโมเดลในมุมของ recall\n",
    "recall_SVM"
   ]
  },
  {
   "cell_type": "code",
   "execution_count": 43,
   "metadata": {},
   "outputs": [
    {
     "data": {
      "text/plain": [
       "array([[147,   1,   1],\n",
       "       [  4, 116,   2],\n",
       "       [  2,   0, 150]], dtype=int64)"
      ]
     },
     "execution_count": 43,
     "metadata": {},
     "output_type": "execute_result"
    }
   ],
   "source": [
    "conf_mtx_SVM = confusion_matrix(y_test, predict) #สร้างตารางการทำนาย\n",
    "conf_mtx_SVM"
   ]
  },
  {
   "cell_type": "markdown",
   "metadata": {},
   "source": [
    "ทดสอบการ Cross-validation กับข้อมูลทั้งหมดเพื่อศึกษาว่าข้อมูลชุดนี้มีความแม่นยำเท่าไหร่"
   ]
  },
  {
   "cell_type": "code",
   "execution_count": 44,
   "metadata": {},
   "outputs": [
    {
     "data": {
      "text/plain": [
       "0.9829482193243346"
      ]
     },
     "execution_count": 44,
     "metadata": {},
     "output_type": "execute_result"
    }
   ],
   "source": [
    "cross_val_score(LOG_Model,feature,target ,cv = kfold_inner, scoring='accuracy').mean()#เป็นการทดสอบว่าข้อมูลชุดนี้สามารถทำนายความแม่นยำได้เท่าไหร่ \n",
    "                                                          #โดยใช้โมเดล LogisticRegression"
   ]
  },
  {
   "cell_type": "markdown",
   "metadata": {},
   "source": [
    "# Summary"
   ]
  },
  {
   "cell_type": "markdown",
   "metadata": {},
   "source": [
    "จากการทดสอบข้อมูลข่าวชุดนี้ พบว่าคำศัพท์ในข่าวส่วนใหญ่เป็นคำที่มีความถี่น้อยกว่า 10 ครั้ง ซึ่งมีมากถึง 86 % โดยการที่ข่าวชุดนี้มีความถี่ของคำน้อยมีทั้งข้อดีและข้อเสียดังนี้ \n",
    "   * ข้อดี คือ คำศัพท์ที่มีความถี่น้อยแสดงให้เห็นถึงลักษณะการแบ่งแยกของเนื้อหาข่าวที่ชัดเจน เช่น ข่าวนี้พูดถึงชื่อนักแสดง ซึ่งชื่อนักแสดงมีความถี่ในการใช้น้อย ทำให้       สามารถระบุได้ง่ายว่าพูดถึงข่าวไหนใน Corpus นั้น\n",
    "   \n",
    "   * ข้อเสีย คือ คำศัพท์ที่มีความถี่น้อยอาจจะแสดงให้เห็นถึง คำๆ นั้นอาจถูกพูดถึงน้อย หรือใช่สาระสำคัญของข่าว\n",
    "   \n",
    "   \n",
    "จากข้อดีและข้อเสียดังกล่าว ทำให้เกิดการตั้งสมมุติฐานขึ้นมาว่า การตัดคำศัพท์ที่มีความถี่น้อยให้เหลือจำนวนคำมากใน Copus กับ ให้เหลือจำนวนคำน้อย แบบไหนดีกว่ากันและแบบไหนที่ทำให้โมเดลมีความแม่นยำเพิ่มขึ้น จึงทำการทดลองโดยสร้างรูปแบบการตัดคำมา 2 แบบ คือ \n",
    "    1. Less_Words คือการตัดคำให้จำนวนคำน้อย \n",
    "    2. More_Words คือการตัตคำให้เหลือจำนวนคำเยอะ\n",
    "  \n",
    "และทำการทดลองพบว่า ในการตัดคำที่ทำให้เหลือคำเยอะหรือน้อยมีผลกับความแม่นยำของโมเดล แต่ไม่สามารถบอกได้ว่าการตัดคำแบบไหนที่สามารถทำให้ความแม่นยำของโมเดลเพิ่มขึ้น ขึ้นอยู่กับคุณลักษณะการทำงานของแต่ละโมเดล ทั้งนี้เพราะว่าบางโมเดลความแม่นยำเพิ่มขึ้นแต่ในทางตรงกันข้าม    บางโมเดลกับมีความแม่นยำน้อยลงอย่างเห็นได้ชัด ในภาพรวมการตัดคำที่ทำให้เหลือคำน้อยค่อนข้างดีกว่าการตัดคำให้เหลือคำเยอะ \n",
    "โดยอัลกอรึทึมที่เหมาะสมกับการทดลองครั้งนี้คือ Logistic Regression   สำหรับข้อมูลชุดนี้สามารถทำให้โมเดลความแม่นยำได้ 98.29 % \n",
    " "
   ]
  }
 ],
 "metadata": {
  "kernelspec": {
   "display_name": "Python 3",
   "language": "python",
   "name": "python3"
  },
  "language_info": {
   "codemirror_mode": {
    "name": "ipython",
    "version": 3
   },
   "file_extension": ".py",
   "mimetype": "text/x-python",
   "name": "python",
   "nbconvert_exporter": "python",
   "pygments_lexer": "ipython3",
   "version": "3.8.3"
  }
 },
 "nbformat": 4,
 "nbformat_minor": 4
}
