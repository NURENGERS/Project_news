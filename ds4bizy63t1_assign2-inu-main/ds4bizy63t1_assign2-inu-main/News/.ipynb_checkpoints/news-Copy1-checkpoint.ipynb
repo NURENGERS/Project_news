{
 "cells": [
  {
   "cell_type": "code",
   "execution_count": 1162,
   "metadata": {},
   "outputs": [],
   "source": [
    "import requests\n",
    "import bs4\n",
    "import pandas as pd\n",
    "from pprint import pprint\n",
    "import numpy as np\n",
    "import sys\n",
    "import warnings\n",
    "from sklearn.feature_extraction.text import CountVectorizer\n",
    "import operator\n",
    "from nltk.stem.porter import PorterStemmer\n",
    "import nltk\n",
    "from sklearn.feature_extraction.text import TfidfVectorizer\n",
    "from sklearn.model_selection import train_test_split\n",
    "from sklearn.feature_extraction import text\n",
    "from sklearn.preprocessing import StandardScaler\n",
    "from sklearn.metrics import accuracy_score, confusion_matrix, roc_curve, roc_auc_score, classification_report, \\\n",
    "precision_recall_curve, average_precision_score \n",
    "from sklearn.metrics import confusion_matrix\n",
    "from sklearn.metrics import recall_score, precision_score,f1_score\n",
    "from sklearn.linear_model import LogisticRegression\n",
    "from sklearn import svm\n",
    "from sklearn.naive_bayes import BernoulliNB\n",
    "from sklearn.naive_bayes import ComplementNB\n",
    "from sklearn.naive_bayes import MultinomialNB\n",
    "import matplotlib.pyplot as plt\n",
    "from sklearn.model_selection import cross_val_score\n",
    "\n",
    "\n",
    "\n",
    "\n",
    "if not sys.warnoptions:\n",
    "    warnings.simplefilter(\"ignore\")"
   ]
  },
  {
   "cell_type": "code",
   "execution_count": 2,
   "metadata": {},
   "outputs": [],
   "source": [
    "def request_month(): # ฟังชั่นเรียก ลิ้งข้อมูลของแต่ละเดือน\n",
    "    response = requests.get('http://www.it.kmitl.ac.th/~teerapong/news_archive/index.html')\n",
    "    html_page = bs4.BeautifulSoup(response.content, 'lxml')\n",
    "    selector = 'li > a'\n",
    "    tags_month = html_page.select(selector)\n",
    "    list_tag = []\n",
    "    for tag in tags_month:\n",
    "        list_tag.append('http://www.it.kmitl.ac.th/~teerapong/news_archive/'+tag['href'])\n",
    "    return list_tag\n",
    "\n",
    "def category_three(web_month): # ฟังชั่น เก็บข้อมูลประเภทของข่าว\n",
    "    category_list = []\n",
    "    for web in request_month():   \n",
    "        count = 0\n",
    "        response = requests.get(str(web))\n",
    "        html_page = bs4.BeautifulSoup(response.content, 'lxml')\n",
    "        selector_ = 'tbody > tr > td'\n",
    "        tags_category = html_page.select(selector_)\n",
    "        for tag in tags_category:\n",
    "            if (count % 2 == 0) and (str(tag.text[1:]) != 'N/A'):\n",
    "                category_list.append(tag.text[1:])\n",
    "            count += 1\n",
    "    return category_list\n",
    "\n",
    "\n",
    "def path_text(web_month): # ฟั่งชั่นเก็บที่อยู่ลิ้งของแต่ละข่าว\n",
    "    list_path = []\n",
    "    for  web in request_month():\n",
    "        response = requests.get(str(web))\n",
    "        html_page = bs4.BeautifulSoup(response.content, 'lxml')\n",
    "        selector_text = 'tbody > tr > td > a '\n",
    "        tags_text = html_page.select(selector_text)\n",
    "        for path in tags_text:\n",
    "            list_path.append('http://www.it.kmitl.ac.th/~teerapong/news_archive/'+ str(path['href']))\n",
    "    return list_path\n",
    "\n",
    "\n",
    "def extract_text(web_month): #ฟังชั่นเก็บเนื้อหาข่าว\n",
    "    long_text = []\n",
    "    list_head = []\n",
    "    for web in path_text(request_month()):\n",
    "        text_box = ''\n",
    "        response = requests.get(web)\n",
    "        html_page = bs4.BeautifulSoup(response.content, 'lxml')\n",
    "        selector_head = 'h2'\n",
    "        selector_text = 'p '\n",
    "        tags_body = html_page.select(selector_text)\n",
    "        tags_head = html_page.select(selector_head)\n",
    "        for  head in tags_head:\n",
    "            list_head.append(head.text)\n",
    "        for text in tags_body:\n",
    "            if (text.text in list_head):\n",
    "                pass\n",
    "            elif (('class='  in str(text)) == False):\n",
    "                text_box += str(text.text)\n",
    "        text_box = text_box.replace(\"\\\"\",\"\")\n",
    "        long_text.append(text_box)\n",
    "    return long_text\n",
    "\n",
    "def create_file_category (category): # ฟังชั่นบันทึก categoryเป็นไฟล์ text\n",
    "    out_file = open(\"datastore/category.txt\", \"w\")\n",
    "    for target in category_three(request_month()):\n",
    "        out_file.write(target+\"\\n\")\n",
    "    out_file.close()\n",
    "    \n",
    "def create_file_text (text): # ฟั่งชั่นบันทึกเนื้อหาข่าวเป็น Text\n",
    "    out_file = open(\"datastore/news_text.txt\", \"w\",encoding=\"utf-8\")\n",
    "    for sentence in extract_text(path_text(request_month())):\n",
    "        out_file.write(sentence + '\\n')\n",
    "    out_file.close()"
   ]
  },
  {
   "cell_type": "markdown",
   "metadata": {},
   "source": [
    "# Parse the collected data, and store it in an appropriate file format"
   ]
  },
  {
   "cell_type": "code",
   "execution_count": 3,
   "metadata": {
    "scrolled": true
   },
   "outputs": [],
   "source": [
    "#create_file_category(category_three(request_month())) # save category into textfile\n",
    "#create_file_text (extract_text(path_text(request_month()))) # save text into textfile"
   ]
  },
  {
   "cell_type": "markdown",
   "metadata": {
    "scrolled": true
   },
   "source": [
    "# Load Dataset\n",
    "ขั้นตอนโหลดข้อมูลขึ้นมาบน workflow และทำการสร้างเป็น DataFrame โดยจะแบ่งออกเป็น 2 ไฟล์ \n",
    " 1. ไฟล์เนื้อหาข่าว (Text)\n",
    " 2. ไฟล์หมวดหมู่ข่าว (category)"
   ]
  },
  {
   "cell_type": "code",
   "execution_count": 4,
   "metadata": {},
   "outputs": [
    {
     "data": {
      "text/html": [
       "<div>\n",
       "<style scoped>\n",
       "    .dataframe tbody tr th:only-of-type {\n",
       "        vertical-align: middle;\n",
       "    }\n",
       "\n",
       "    .dataframe tbody tr th {\n",
       "        vertical-align: top;\n",
       "    }\n",
       "\n",
       "    .dataframe thead th {\n",
       "        text-align: right;\n",
       "    }\n",
       "</style>\n",
       "<table border=\"1\" class=\"dataframe\">\n",
       "  <thead>\n",
       "    <tr style=\"text-align: right;\">\n",
       "      <th></th>\n",
       "      <th>Text_body</th>\n",
       "    </tr>\n",
       "  </thead>\n",
       "  <tbody>\n",
       "    <tr>\n",
       "      <th>0</th>\n",
       "      <td>The sporting industry has come a long way sinc...</td>\n",
       "    </tr>\n",
       "    <tr>\n",
       "      <th>1</th>\n",
       "      <td>Shares in Europe's leading reinsurers and trav...</td>\n",
       "    </tr>\n",
       "    <tr>\n",
       "      <th>2</th>\n",
       "      <td>BT is offering customers free internet telepho...</td>\n",
       "    </tr>\n",
       "    <tr>\n",
       "      <th>3</th>\n",
       "      <td>Shares in UK banking group Barclays have risen...</td>\n",
       "    </tr>\n",
       "    <tr>\n",
       "      <th>4</th>\n",
       "      <td>England centre Olly Barkley has been passed fi...</td>\n",
       "    </tr>\n",
       "    <tr>\n",
       "      <th>...</th>\n",
       "      <td>...</td>\n",
       "    </tr>\n",
       "    <tr>\n",
       "      <th>1403</th>\n",
       "      <td>Toulouse's former Irish international Trevor B...</td>\n",
       "    </tr>\n",
       "    <tr>\n",
       "      <th>1404</th>\n",
       "      <td>The trial of Bernie Ebbers, former chief execu...</td>\n",
       "    </tr>\n",
       "    <tr>\n",
       "      <th>1405</th>\n",
       "      <td>Russian oil firm Yukos lied to a US court in a...</td>\n",
       "    </tr>\n",
       "    <tr>\n",
       "      <th>1406</th>\n",
       "      <td>Russian oil company Yukos has dropped the thre...</td>\n",
       "    </tr>\n",
       "    <tr>\n",
       "      <th>1407</th>\n",
       "      <td>Zambia's technical director, Kalusha Bwalya is...</td>\n",
       "    </tr>\n",
       "  </tbody>\n",
       "</table>\n",
       "<p>1408 rows × 1 columns</p>\n",
       "</div>"
      ],
      "text/plain": [
       "                                              Text_body\n",
       "0     The sporting industry has come a long way sinc...\n",
       "1     Shares in Europe's leading reinsurers and trav...\n",
       "2     BT is offering customers free internet telepho...\n",
       "3     Shares in UK banking group Barclays have risen...\n",
       "4     England centre Olly Barkley has been passed fi...\n",
       "...                                                 ...\n",
       "1403  Toulouse's former Irish international Trevor B...\n",
       "1404  The trial of Bernie Ebbers, former chief execu...\n",
       "1405  Russian oil firm Yukos lied to a US court in a...\n",
       "1406  Russian oil company Yukos has dropped the thre...\n",
       "1407  Zambia's technical director, Kalusha Bwalya is...\n",
       "\n",
       "[1408 rows x 1 columns]"
      ]
     },
     "execution_count": 4,
     "metadata": {},
     "output_type": "execute_result"
    }
   ],
   "source": [
    "text_body= pd.read_csv('datastore/news_text.txt', header= None , encoding=\"utf-8\", sep='delimiter') #โหลดข้อมูลเนื้อหาข่าว\n",
    "text_body.columns = ['Text_body']# กำหนดชื่อคอลัมน์ ให้ Dataframe\n",
    "text_body"
   ]
  },
  {
   "cell_type": "code",
   "execution_count": 5,
   "metadata": {},
   "outputs": [
    {
     "data": {
      "text/html": [
       "<div>\n",
       "<style scoped>\n",
       "    .dataframe tbody tr th:only-of-type {\n",
       "        vertical-align: middle;\n",
       "    }\n",
       "\n",
       "    .dataframe tbody tr th {\n",
       "        vertical-align: top;\n",
       "    }\n",
       "\n",
       "    .dataframe thead th {\n",
       "        text-align: right;\n",
       "    }\n",
       "</style>\n",
       "<table border=\"1\" class=\"dataframe\">\n",
       "  <thead>\n",
       "    <tr style=\"text-align: right;\">\n",
       "      <th></th>\n",
       "      <th>Category</th>\n",
       "    </tr>\n",
       "  </thead>\n",
       "  <tbody>\n",
       "    <tr>\n",
       "      <th>0</th>\n",
       "      <td>technology</td>\n",
       "    </tr>\n",
       "    <tr>\n",
       "      <th>1</th>\n",
       "      <td>business</td>\n",
       "    </tr>\n",
       "    <tr>\n",
       "      <th>2</th>\n",
       "      <td>technology</td>\n",
       "    </tr>\n",
       "    <tr>\n",
       "      <th>3</th>\n",
       "      <td>business</td>\n",
       "    </tr>\n",
       "    <tr>\n",
       "      <th>4</th>\n",
       "      <td>sport</td>\n",
       "    </tr>\n",
       "    <tr>\n",
       "      <th>...</th>\n",
       "      <td>...</td>\n",
       "    </tr>\n",
       "    <tr>\n",
       "      <th>1403</th>\n",
       "      <td>sport</td>\n",
       "    </tr>\n",
       "    <tr>\n",
       "      <th>1404</th>\n",
       "      <td>business</td>\n",
       "    </tr>\n",
       "    <tr>\n",
       "      <th>1405</th>\n",
       "      <td>business</td>\n",
       "    </tr>\n",
       "    <tr>\n",
       "      <th>1406</th>\n",
       "      <td>business</td>\n",
       "    </tr>\n",
       "    <tr>\n",
       "      <th>1407</th>\n",
       "      <td>sport</td>\n",
       "    </tr>\n",
       "  </tbody>\n",
       "</table>\n",
       "<p>1408 rows × 1 columns</p>\n",
       "</div>"
      ],
      "text/plain": [
       "        Category\n",
       "0     technology\n",
       "1       business\n",
       "2     technology\n",
       "3       business\n",
       "4          sport\n",
       "...          ...\n",
       "1403       sport\n",
       "1404    business\n",
       "1405    business\n",
       "1406    business\n",
       "1407       sport\n",
       "\n",
       "[1408 rows x 1 columns]"
      ]
     },
     "execution_count": 5,
     "metadata": {},
     "output_type": "execute_result"
    }
   ],
   "source": [
    "category = pd.read_csv('datastore/category.txt',header= None , encoding=\"utf-8\", sep='delimiter')#โหลดข้อมูลหมวดหมู่ข่าว\n",
    "category.columns = ['Category']# กำหนดชื่อคอลัมน์ ให้ Dataframe\n",
    "category"
   ]
  },
  {
   "cell_type": "code",
   "execution_count": 6,
   "metadata": {},
   "outputs": [
    {
     "data": {
      "text/html": [
       "<div>\n",
       "<style scoped>\n",
       "    .dataframe tbody tr th:only-of-type {\n",
       "        vertical-align: middle;\n",
       "    }\n",
       "\n",
       "    .dataframe tbody tr th {\n",
       "        vertical-align: top;\n",
       "    }\n",
       "\n",
       "    .dataframe thead th {\n",
       "        text-align: right;\n",
       "    }\n",
       "</style>\n",
       "<table border=\"1\" class=\"dataframe\">\n",
       "  <thead>\n",
       "    <tr style=\"text-align: right;\">\n",
       "      <th></th>\n",
       "      <th>Text_body</th>\n",
       "      <th>Category</th>\n",
       "    </tr>\n",
       "  </thead>\n",
       "  <tbody>\n",
       "    <tr>\n",
       "      <th>0</th>\n",
       "      <td>The sporting industry has come a long way sinc...</td>\n",
       "      <td>technology</td>\n",
       "    </tr>\n",
       "    <tr>\n",
       "      <th>1</th>\n",
       "      <td>Shares in Europe's leading reinsurers and trav...</td>\n",
       "      <td>business</td>\n",
       "    </tr>\n",
       "    <tr>\n",
       "      <th>2</th>\n",
       "      <td>BT is offering customers free internet telepho...</td>\n",
       "      <td>technology</td>\n",
       "    </tr>\n",
       "    <tr>\n",
       "      <th>3</th>\n",
       "      <td>Shares in UK banking group Barclays have risen...</td>\n",
       "      <td>business</td>\n",
       "    </tr>\n",
       "    <tr>\n",
       "      <th>4</th>\n",
       "      <td>England centre Olly Barkley has been passed fi...</td>\n",
       "      <td>sport</td>\n",
       "    </tr>\n",
       "    <tr>\n",
       "      <th>...</th>\n",
       "      <td>...</td>\n",
       "      <td>...</td>\n",
       "    </tr>\n",
       "    <tr>\n",
       "      <th>1403</th>\n",
       "      <td>Toulouse's former Irish international Trevor B...</td>\n",
       "      <td>sport</td>\n",
       "    </tr>\n",
       "    <tr>\n",
       "      <th>1404</th>\n",
       "      <td>The trial of Bernie Ebbers, former chief execu...</td>\n",
       "      <td>business</td>\n",
       "    </tr>\n",
       "    <tr>\n",
       "      <th>1405</th>\n",
       "      <td>Russian oil firm Yukos lied to a US court in a...</td>\n",
       "      <td>business</td>\n",
       "    </tr>\n",
       "    <tr>\n",
       "      <th>1406</th>\n",
       "      <td>Russian oil company Yukos has dropped the thre...</td>\n",
       "      <td>business</td>\n",
       "    </tr>\n",
       "    <tr>\n",
       "      <th>1407</th>\n",
       "      <td>Zambia's technical director, Kalusha Bwalya is...</td>\n",
       "      <td>sport</td>\n",
       "    </tr>\n",
       "  </tbody>\n",
       "</table>\n",
       "<p>1408 rows × 2 columns</p>\n",
       "</div>"
      ],
      "text/plain": [
       "                                              Text_body    Category\n",
       "0     The sporting industry has come a long way sinc...  technology\n",
       "1     Shares in Europe's leading reinsurers and trav...    business\n",
       "2     BT is offering customers free internet telepho...  technology\n",
       "3     Shares in UK banking group Barclays have risen...    business\n",
       "4     England centre Olly Barkley has been passed fi...       sport\n",
       "...                                                 ...         ...\n",
       "1403  Toulouse's former Irish international Trevor B...       sport\n",
       "1404  The trial of Bernie Ebbers, former chief execu...    business\n",
       "1405  Russian oil firm Yukos lied to a US court in a...    business\n",
       "1406  Russian oil company Yukos has dropped the thre...    business\n",
       "1407  Zambia's technical director, Kalusha Bwalya is...       sport\n",
       "\n",
       "[1408 rows x 2 columns]"
      ]
     },
     "execution_count": 6,
     "metadata": {},
     "output_type": "execute_result"
    }
   ],
   "source": [
    "data = pd.concat([text_body,category],axis = 1) # เป็นขั้นตอนการรวม dataframe ทั้ง 2 ไว้ด้วยกัน\n",
    "data"
   ]
  },
  {
   "cell_type": "markdown",
   "metadata": {},
   "source": [
    "### Tokenizing Text\n"
   ]
  },
  {
   "cell_type": "markdown",
   "metadata": {},
   "source": [
    "Split Words"
   ]
  },
  {
   "cell_type": "code",
   "execution_count": 7,
   "metadata": {},
   "outputs": [],
   "source": [
    "text_body = data['Text_body']"
   ]
  },
  {
   "cell_type": "code",
   "execution_count": 8,
   "metadata": {},
   "outputs": [],
   "source": [
    "# ขั้นตอนนี้จะการทำ แบ่งประโยคเป็นคำ \n",
    "word_split = []\n",
    "for sentence in range(len(text_body)): # โดยเริ่มจากวนลูป แต่ของแต่ละข่าว\n",
    "    tokenize = CountVectorizer().build_tokenizer() #จากนั้นเรียกใช้คำสั่งการแบ่งคำ build_tokenizer() เก็บไว้ในตัวแปร tokenize\n",
    "    tokens1 = tokenize(text_body[sentence].lower()) #หลังจากนั้น นำประโยคข่าวแต่ละประโยคมาทำให้เป็นตัวพิมพ์เล็ก  และเรียกใช้งานคำสั่งแบ่งคำ\n",
    "    word_split.append(tokens1)  #เมื่อแบ่งคำเสร็จแล้วจะได้ list ของคำออกมา นำมาเก็บไว้ใน list word_split\n",
    "    \n"
   ]
  },
  {
   "cell_type": "code",
   "execution_count": 9,
   "metadata": {},
   "outputs": [
    {
     "data": {
      "text/plain": [
       "['the', 'sporting', 'industry', 'has', 'come', 'long', 'way', 'since', 'the']"
      ]
     },
     "execution_count": 9,
     "metadata": {},
     "output_type": "execute_result"
    }
   ],
   "source": [
    "word_split[0][0:9] #ตัวอย่างการแสดงผลของการแบ่งคำของข่าวที่ 1 "
   ]
  },
  {
   "cell_type": "markdown",
   "metadata": {},
   "source": [
    "Cleaning words"
   ]
  },
  {
   "cell_type": "code",
   "execution_count": 10,
   "metadata": {},
   "outputs": [],
   "source": [
    "stopwords = text.ENGLISH_STOP_WORDS # lits ของคำศัพท์ที่ไม่มีความหมาย เช่น a , an"
   ]
  },
  {
   "cell_type": "code",
   "execution_count": 11,
   "metadata": {},
   "outputs": [],
   "source": [
    "#ขั้นตอนการนำคำศัพท์มาลบ คำที่ไม่มีความหมายออก \n",
    "filter_words = []\n",
    "for sentence_ in word_split: #โดยเริ่มจากการวนลูปข่าวของแต่ละข่าว\n",
    "    original_sen = []\n",
    "    for token in sentence_: #จากนั้นทำการวนลูปเข้าไปยังคำศัพท์ในข่าวนั้น\n",
    "        if token not in stopwords: #และเช็คเงื่อนไขว่า ถ้าศัพท์นั้นไม่ได้อยู่ใน list คำศัพท์ที่ไม่มีความหมาย ให้เก็บใว้ใน Original_sen\n",
    "            original_sen.append(token)\n",
    "    filter_words.append(original_sen) #หลังจากตรวจคำศัพท์ครบ 1 ข่าว ให้นำศัพท์ของข่าวนั้นมาเก็บไว้ใน list filter_words"
   ]
  },
  {
   "cell_type": "code",
   "execution_count": 12,
   "metadata": {},
   "outputs": [
    {
     "data": {
      "text/plain": [
       "194"
      ]
     },
     "execution_count": 12,
     "metadata": {},
     "output_type": "execute_result"
    }
   ],
   "source": [
    "len(word_split[0]) # จำนวนคำศัพท์ในข่าวที่ 1 "
   ]
  },
  {
   "cell_type": "code",
   "execution_count": 13,
   "metadata": {},
   "outputs": [
    {
     "data": {
      "text/plain": [
       "101"
      ]
     },
     "execution_count": 13,
     "metadata": {},
     "output_type": "execute_result"
    }
   ],
   "source": [
    "len(filter_words[0]) # จำนวนคำศัพท์ในข่าวที่ 1  หลังจากกรองคำศัพท์"
   ]
  },
  {
   "cell_type": "markdown",
   "metadata": {},
   "source": [
    "### Counting Tokens"
   ]
  },
  {
   "cell_type": "code",
   "execution_count": 14,
   "metadata": {},
   "outputs": [
    {
     "name": "stdout",
     "output_type": "stream",
     "text": [
      "Found 22634 unique terms in this corpus\n"
     ]
    }
   ],
   "source": [
    "#ขั้นตอนนี้จะเป็นการ นับคำศัพท์ที่ไม่ซ้ำกันทั้งหมดใน corpus\n",
    "# filter_words คือคำศัพท์ที่ผ่านการกรองแล้ว\n",
    "# senten จะได้ list ของคำศัพท์แต่ละข่าว\n",
    "# token  จะได้คำศัพท์ ที่อยู่ในข่าว\n",
    "freque_word  = {}\n",
    "for  senten in filter_words: #โดยเริ่มจากการวนลูปเข้าไปยังข่าวของแต่ละข่าว\n",
    "    for token in senten: #หลังจากนั้นจะวนลูปเพื่อเข้าถึงคำศัพท์ในแต่ละข่าว\n",
    "        if token in freque_word:  # และเช็คเงื่อนไขว่า ถ้าคำศัพท์อยู่ใน dict \n",
    "            freque_word[token] += 1 #ให้คำศัพท์นั้นบวกความถี่  เพิ่มขึ้น 1 \n",
    "        else:                       \n",
    "            freque_word[token] = 1  # ถ้าไม่ใช่ให้เพิ่มคำศัพท์นั้นลงไปใน dict และกำหนดค่าเท่ากับ 1 \n",
    "print(\"Found %d unique terms in this corpus\" % len(freque_word))"
   ]
  },
  {
   "cell_type": "code",
   "execution_count": 19,
   "metadata": {},
   "outputs": [
    {
     "data": {
      "text/plain": [
       "32"
      ]
     },
     "execution_count": 19,
     "metadata": {},
     "output_type": "execute_result"
    }
   ],
   "source": [
    "freque_word['sporting'] # ตัวอย่างการแสดงผลการนำความถี่ของคำศัพท์"
   ]
  },
  {
   "cell_type": "markdown",
   "metadata": {},
   "source": [
    "#### Sort frequency"
   ]
  },
  {
   "cell_type": "code",
   "execution_count": 20,
   "metadata": {},
   "outputs": [],
   "source": [
    "sorted_freque = sorted(freque_word.items(), key=operator.itemgetter(1), reverse=True) #ขั้นตอนการแปลง Dict ให้เป็น list \n",
    "#และหลังจากนั้นทำการเรียงลำดับ โดยใช้การ sorted()\n"
   ]
  },
  {
   "cell_type": "code",
   "execution_count": 21,
   "metadata": {
    "scrolled": true
   },
   "outputs": [
    {
     "data": {
      "text/plain": [
       "[('said', 4119),\n",
       " ('year', 1543),\n",
       " ('people', 1199),\n",
       " ('new', 1175),\n",
       " ('mr', 1092),\n",
       " ('world', 946),\n",
       " ('time', 925),\n",
       " ('game', 870),\n",
       " ('news', 756),\n",
       " ('online', 715)]"
      ]
     },
     "execution_count": 21,
     "metadata": {},
     "output_type": "execute_result"
    }
   ],
   "source": [
    "sorted_freque[0:10] # ตัวอย่าง dict ที่ถูกแปลงเป็น list"
   ]
  },
  {
   "cell_type": "code",
   "execution_count": 783,
   "metadata": {},
   "outputs": [
    {
     "name": "stdout",
     "output_type": "stream",
     "text": [
      "1. said (count=4119)\n",
      "2. year (count=1543)\n",
      "3. people (count=1199)\n",
      "4. new (count=1175)\n",
      "5. mr (count=1092)\n",
      "6. world (count=946)\n",
      "7. time (count=925)\n",
      "8. game (count=870)\n",
      "9. news (count=756)\n",
      "10. online (count=715)\n"
     ]
    }
   ],
   "source": [
    "# แสดงผล 10 คำ ที่ถูกใช้มากทึ่สุดใน corpus\n",
    "for i in range(10):\n",
    "    term = sorted_freque[i][0]\n",
    "    count = sorted_freque[i][1]\n",
    "    print( str(i+1)+\". \"+\"%s (count=%d)\" % ( term, count ) )"
   ]
  },
  {
   "cell_type": "code",
   "execution_count": 790,
   "metadata": {},
   "outputs": [
    {
     "data": {
      "text/plain": [
       "Text(0.5, 1.0, 'Grops of Words')"
      ]
     },
     "execution_count": 790,
     "metadata": {},
     "output_type": "execute_result"
    },
    {
     "data": {
      "image/png": "[encoded data removed]",
      "text/plain": [
       "<Figure size 720x360 with 1 Axes>"
      ]
     },
     "metadata": {
      "needs_background": "light"
     },
     "output_type": "display_data"
    }
   ],
   "source": [
    "over = 0\n",
    "less = 0\n",
    "normal = 0\n",
    "\n",
    "for word_fre in range(len(sorted_freque)):\n",
    "    if (int(sorted_freque[word_fre][1])  <= 10):\n",
    "        less += 1\n",
    "    elif (int(sorted_freque[word_fre][1]) > 1000):\n",
    "        over += 1\n",
    "    else:\n",
    "        normal += 1\n",
    "        \n",
    "size = [over , less ,normal]\n",
    "fig = plt.figure(figsize = (10, 5)) \n",
    "plt.bar(['over','less','normal'],size, color =['blue','green'],  \n",
    "        width = 0.4)\n",
    "plt.xlabel(\"Grops Name\") \n",
    "plt.ylabel(\"Unit\") \n",
    "plt.title(\"Grops of Words\") "
   ]
  },
  {
   "cell_type": "markdown",
   "metadata": {
    "collapsed": true
   },
   "source": [
    "### Text Preprocessing"
   ]
  },
  {
   "cell_type": "code",
   "execution_count": 447,
   "metadata": {},
   "outputs": [],
   "source": [
    "def stem_tokenizer(text):\n",
    "    standard_tokenizer = CountVectorizer().build_tokenizer()\n",
    "    tokens = standard_tokenizer(text)\n",
    "    stemmer = PorterStemmer()\n",
    "    stems = []\n",
    "    for token in tokens:\n",
    "        stems.append( stemmer.stem(token.lower()) )\n",
    "    return stems"
   ]
  },
  {
   "cell_type": "code",
   "execution_count": 436,
   "metadata": {},
   "outputs": [],
   "source": [
    "def lemma_tokenizer(text):\n",
    "    standard_tokenizer = CountVectorizer().build_tokenizer()\n",
    "    tokens = standard_tokenizer(text)\n",
    "    lemmatizer = nltk.stem.WordNetLemmatizer()\n",
    "    lemma_tokens = []\n",
    "    for token in tokens:\n",
    "        lemma_tokens.append( lemmatizer.lemmatize(token))\n",
    "    return lemma_tokens"
   ]
  },
  {
   "cell_type": "code",
   "execution_count": 437,
   "metadata": {},
   "outputs": [],
   "source": [
    "def lemma_tokenizer_w_pos_tag(text):\n",
    "    # define a nested function for converting POS tag for Lemmatizer\n",
    "    def convert_tags(tag):\n",
    "        if tag == 'vbd' or tag == 'vbg' or tag == 'vbz':\n",
    "            return 'v'\n",
    "        else: \n",
    "            return 'n'\n",
    "    \n",
    "  \n",
    "    standard_tokenizer = CountVectorizer().build_tokenizer()\n",
    "    tokens = standard_tokenizer(text)\n",
    "    tokens_with_pos_tag = nltk.pos_tag(tokens)\n",
    "    lemmatizer = nltk.WordNetLemmatizer()\n",
    "    lemma_tokens = []\n",
    "    for token in tokens_with_pos_tag:\n",
    "        new_tag = convert_tags(token[1].lower())\n",
    "        lemma_tokens.append(lemmatizer.lemmatize(token[0], new_tag))\n",
    "    \n",
    "    return lemma_tokens"
   ]
  },
  {
   "cell_type": "markdown",
   "metadata": {
    "collapsed": true
   },
   "source": [
    "### Bag-of-Words Representation"
   ]
  },
  {
   "cell_type": "code",
   "execution_count": 451,
   "metadata": {},
   "outputs": [
    {
     "name": "stdout",
     "output_type": "stream",
     "text": [
      "Vocabulary has 8160 distinct terms\n"
     ]
    }
   ],
   "source": [
    "terms = vectorizer.get_feature_names()\n",
    "vocab = vecto### Bag-of-Words Representationrizer.vocabulary_\n",
    "print(\"Vocabulary has %d distinct terms\" % len(terms))"
   ]
  },
  {
   "cell_type": "code",
   "execution_count": 462,
   "metadata": {},
   "outputs": [
    {
     "data": {
      "text/plain": [
       "['age',\n",
       " 'aged',\n",
       " 'agence',\n",
       " 'agency',\n",
       " 'agenda',\n",
       " 'agent',\n",
       " 'aggravate',\n",
       " 'aggregate',\n",
       " 'aggregator',\n",
       " 'aggressive']"
      ]
     },
     "execution_count": 462,
     "metadata": {},
     "output_type": "execute_result"
    }
   ],
   "source": [
    "terms[500:510]"
   ]
  },
  {
   "cell_type": "code",
   "execution_count": 734,
   "metadata": {},
   "outputs": [
    {
     "name": "stdout",
     "output_type": "stream",
     "text": [
      "<function stem_tokenizer at 0x000001F9EDEE0160>: (1408, 3166)\n",
      "<function lemma_tokenizer at 0x000001F9EDEE05E0>: (1408, 3664)\n",
      "<function lemma_tokenizer_w_pos_tag at 0x000001F9EDEE0670>: (1408, 3485)\n"
     ]
    }
   ],
   "source": [
    "go = [stem_tokenizer,lemma_tokenizer,lemma_tokenizer_w_pos_tag]\n",
    "for i in go:\n",
    "    vectorizer = TfidfVectorizer(stop_words=\"english\",min_df = 10, tokenizer= i)\n",
    "    X = vectorizer.fit_transform(text_body)\n",
    "    print(str(i)+': '+str(X.shape))"
   ]
  },
  {
   "cell_type": "markdown",
   "metadata": {},
   "source": [
    "### Term Weighting"
   ]
  },
  {
   "cell_type": "code",
   "execution_count": 851,
   "metadata": {
    "scrolled": false
   },
   "outputs": [
    {
     "name": "stdout",
     "output_type": "stream",
     "text": [
      "  (0, 405)\t0.20432900767570705\n",
      "  (0, 170)\t0.101522974371235\n",
      "  (0, 2941)\t0.12390344445979379\n",
      "  (0, 810)\t0.09004573338141442\n",
      "  (0, 2652)\t0.08108683511955878\n",
      "  (0, 2908)\t0.0886125596728057\n",
      "  (0, 257)\t0.10728787118801472\n",
      "  (0, 830)\t0.0693418069737094\n",
      "  (0, 1528)\t0.09598231932336024\n",
      "  (0, 2239)\t0.08896199243194282\n",
      "  (0, 966)\t0.07095612236862074\n",
      "  (0, 782)\t0.10282577574149904\n",
      "  (0, 1662)\t0.10216450383785353\n",
      "  (0, 2019)\t0.10728787118801472\n",
      "  (0, 3217)\t0.08896199243194282\n",
      "  (0, 1663)\t0.1257732877309632\n",
      "  (0, 2431)\t0.10350804387660716\n",
      "  (0, 2470)\t0.07496578760559687\n",
      "  (0, 345)\t0.09280967468192683\n",
      "  (0, 1121)\t0.10647684508117743\n",
      "  (0, 1387)\t0.09319698944499116\n",
      "  (0, 3448)\t0.04320190790578484\n",
      "  (0, 3127)\t0.11959309261739379\n",
      "  (0, 1714)\t0.12390344445979379\n",
      "  (0, 2976)\t0.12218335539181618\n",
      "  :\t:\n",
      "  (1407, 3336)\t0.3181924107038975\n",
      "  (1407, 2325)\t0.21340501491145142\n",
      "  (1407, 2744)\t0.08805373739887636\n",
      "  (1407, 2168)\t0.06444793744730265\n",
      "  (1407, 1437)\t0.05627287517112817\n",
      "  (1407, 2951)\t0.09025829300555897\n",
      "  (1407, 1258)\t0.09651508989415472\n",
      "  (1407, 28)\t0.10508018489844881\n",
      "  (1407, 2322)\t0.053894903773200685\n",
      "  (1407, 3121)\t0.06287148537340592\n",
      "  (1407, 2101)\t0.07209434201470667\n",
      "  (1407, 1568)\t0.0806718113795671\n",
      "  (1407, 3071)\t0.08652671105908366\n",
      "  (1407, 973)\t0.0722277104807698\n",
      "  (1407, 3368)\t0.054451481972239056\n",
      "  (1407, 963)\t0.08048074009428441\n",
      "  (1407, 1782)\t0.051459400980093495\n",
      "  (1407, 822)\t0.062077982181125625\n",
      "  (1407, 406)\t0.19421250351261268\n",
      "  (1407, 2731)\t0.026358951972504596\n",
      "  (1407, 3371)\t0.08246549652011935\n",
      "  (1407, 1387)\t0.1522625434931719\n",
      "  (1407, 3468)\t0.06666480641978466\n",
      "  (1407, 1243)\t0.08486263263123348\n",
      "  (1407, 3175)\t0.04151454140602474\n"
     ]
    }
   ],
   "source": [
    "vectorizer = TfidfVectorizer(stop_words=\"english\",min_df = 10, tokenizer=lemma_tokenizer_w_pos_tag)\n",
    "X = vectorizer.fit_transform(text_body)\n",
    "print(X)"
   ]
  },
  {
   "cell_type": "code",
   "execution_count": 852,
   "metadata": {},
   "outputs": [
    {
     "data": {
      "text/plain": [
       "(1408, 3485)"
      ]
     },
     "execution_count": 852,
     "metadata": {},
     "output_type": "execute_result"
    }
   ],
   "source": [
    "X.shape"
   ]
  },
  {
   "cell_type": "code",
   "execution_count": null,
   "metadata": {},
   "outputs": [],
   "source": []
  },
  {
   "cell_type": "markdown",
   "metadata": {},
   "source": [
    "# Modeling"
   ]
  },
  {
   "cell_type": "code",
   "execution_count": 853,
   "metadata": {},
   "outputs": [],
   "source": [
    "feature = X\n",
    "target = data['Category'].replace({'business':0, 'technology':1 , 'sport':2})"
   ]
  },
  {
   "cell_type": "code",
   "execution_count": 859,
   "metadata": {},
   "outputs": [],
   "source": [
    "X_train, X_test, y_train, y_test = train_test_split(feature, target, test_size=0.30 , random_state = 2)"
   ]
  },
  {
   "cell_type": "markdown",
   "metadata": {},
   "source": [
    "## Naive Bayes"
   ]
  },
  {
   "cell_type": "markdown",
   "metadata": {},
   "source": [
    "#### MultinomialNB"
   ]
  },
  {
   "cell_type": "code",
   "execution_count": 1151,
   "metadata": {},
   "outputs": [
    {
     "data": {
      "text/plain": [
       "0.9858156028368794"
      ]
     },
     "execution_count": 1151,
     "metadata": {},
     "output_type": "execute_result"
    }
   ],
   "source": [
    "mnb = MultinomialNB(alpha = 1.1)\n",
    "mnb.fit(X_train, y_train)\n",
    "predict_nb = mnb.predict(X_test)\n",
    "accuracy_nb = accuracy_score(y_test, predict_nb)\n",
    "accuracy_nb\n",
    "#print('Accuracy : %.2f' %(accuracy_nb)+ ' %')"
   ]
  },
  {
   "cell_type": "code",
   "execution_count": 1141,
   "metadata": {},
   "outputs": [
    {
     "data": {
      "text/plain": [
       "array([[154,   1,   0],\n",
       "       [  1, 112,   4],\n",
       "       [  1,   0, 150]], dtype=int64)"
      ]
     },
     "execution_count": 1141,
     "metadata": {},
     "output_type": "execute_result"
    }
   ],
   "source": [
    "conf_mtx_nb = confusion_matrix(y_test, predict_nb)\n",
    "conf_mtx_nb"
   ]
  },
  {
   "cell_type": "code",
   "execution_count": 1142,
   "metadata": {},
   "outputs": [
    {
     "data": {
      "text/plain": [
       "0.983451536643026"
      ]
     },
     "execution_count": 1142,
     "metadata": {},
     "output_type": "execute_result"
    }
   ],
   "source": [
    "precision_nb = precision_score(y_test, predict_nb ,  average= 'micro' )\n",
    "precision_nb"
   ]
  },
  {
   "cell_type": "code",
   "execution_count": 1138,
   "metadata": {
    "scrolled": true
   },
   "outputs": [
    {
     "data": {
      "text/plain": [
       "0.9858156028368794"
      ]
     },
     "execution_count": 1138,
     "metadata": {},
     "output_type": "execute_result"
    }
   ],
   "source": [
    "recall_nb =  recall_score(y_test, predict_nb ,  average= 'micro' )\n",
    "recall_nb"
   ]
  },
  {
   "cell_type": "code",
   "execution_count": 1166,
   "metadata": {},
   "outputs": [
    {
     "data": {
      "text/plain": [
       "[<matplotlib.lines.Line2D at 0x1f9f4bca880>]"
      ]
     },
     "execution_count": 1166,
     "metadata": {},
     "output_type": "execute_result"
    },
    {
     "data": {
      "image/png": "[encoded data removed]",
      "text/plain": [
       "<Figure size 432x288 with 1 Axes>"
      ]
     },
     "metadata": {
      "needs_background": "light"
     },
     "output_type": "display_data"
    }
   ],
   "source": [
    "scores_nb = cross_val_score(mnb, X_train, y_train,scoring=\"accuracy\", cv=15)\n",
    "plt.plot(scores)"
   ]
  },
  {
   "cell_type": "markdown",
   "metadata": {},
   "source": [
    "#### BernoulliNB"
   ]
  },
  {
   "cell_type": "code",
   "execution_count": 1066,
   "metadata": {},
   "outputs": [],
   "source": [
    "model_bn = BernoulliNB()"
   ]
  },
  {
   "cell_type": "code",
   "execution_count": 1067,
   "metadata": {},
   "outputs": [
    {
     "data": {
      "text/plain": [
       "BernoulliNB()"
      ]
     },
     "execution_count": 1067,
     "metadata": {},
     "output_type": "execute_result"
    }
   ],
   "source": [
    "model_bn.fit(X_train, y_train)"
   ]
  },
  {
   "cell_type": "code",
   "execution_count": 1068,
   "metadata": {},
   "outputs": [],
   "source": [
    "predict_bn = model_bn.predict(X_test)"
   ]
  },
  {
   "cell_type": "code",
   "execution_count": 1069,
   "metadata": {},
   "outputs": [
    {
     "data": {
      "text/plain": [
       "0.9763593380614657"
      ]
     },
     "execution_count": 1069,
     "metadata": {},
     "output_type": "execute_result"
    }
   ],
   "source": [
    "accuracy_bn = accuracy_score(y_test, predict_bn)\n",
    "accuracy_bn"
   ]
  },
  {
   "cell_type": "code",
   "execution_count": 1070,
   "metadata": {},
   "outputs": [
    {
     "data": {
      "text/plain": [
       "array([[154,   1,   0],\n",
       "       [  5, 110,   2],\n",
       "       [  2,   0, 149]], dtype=int64)"
      ]
     },
     "execution_count": 1070,
     "metadata": {},
     "output_type": "execute_result"
    }
   ],
   "source": [
    "conf_mtx_bn = confusion_matrix(y_test, predict_bn)\n",
    "conf_mtx_bn"
   ]
  },
  {
   "cell_type": "code",
   "execution_count": 1071,
   "metadata": {},
   "outputs": [
    {
     "data": {
      "text/plain": [
       "0.9763593380614657"
      ]
     },
     "execution_count": 1071,
     "metadata": {},
     "output_type": "execute_result"
    }
   ],
   "source": [
    "precision_bn = precision_score(y_test, predict_bn ,  average= 'micro' )\n",
    "precision_bn"
   ]
  },
  {
   "cell_type": "code",
   "execution_count": 1072,
   "metadata": {},
   "outputs": [
    {
     "data": {
      "text/plain": [
       "0.9763593380614657"
      ]
     },
     "execution_count": 1072,
     "metadata": {},
     "output_type": "execute_result"
    }
   ],
   "source": [
    "recall_bn =  recall_score(y_test, predict_bn ,  average= 'micro' )\n",
    "recall_bn"
   ]
  },
  {
   "cell_type": "code",
   "execution_count": 1167,
   "metadata": {},
   "outputs": [
    {
     "data": {
      "text/plain": [
       "[<matplotlib.lines.Line2D at 0x1f9f736baf0>]"
      ]
     },
     "execution_count": 1167,
     "metadata": {},
     "output_type": "execute_result"
    },
    {
     "data": {
      "image/png": "[encoded data removed]",
      "text/plain": [
       "<Figure size 432x288 with 1 Axes>"
      ]
     },
     "metadata": {
      "needs_background": "light"
     },
     "output_type": "display_data"
    }
   ],
   "source": [
    "scores_bn = cross_val_score(model_bn, X_train, y_train,scoring=\"accuracy\", cv=15)\n",
    "plt.plot(scores)"
   ]
  },
  {
   "cell_type": "markdown",
   "metadata": {},
   "source": [
    "#### ComplementNB"
   ]
  },
  {
   "cell_type": "code",
   "execution_count": 871,
   "metadata": {},
   "outputs": [],
   "source": [
    "model_cnb = ComplementNB()"
   ]
  },
  {
   "cell_type": "code",
   "execution_count": 872,
   "metadata": {},
   "outputs": [
    {
     "data": {
      "text/plain": [
       "ComplementNB()"
      ]
     },
     "execution_count": 872,
     "metadata": {},
     "output_type": "execute_result"
    }
   ],
   "source": [
    "model_cnb.fit(X_train, y_train)"
   ]
  },
  {
   "cell_type": "code",
   "execution_count": 873,
   "metadata": {},
   "outputs": [],
   "source": [
    "predict_cnb = model_cnb.predict(X_test)\n"
   ]
  },
  {
   "cell_type": "code",
   "execution_count": 874,
   "metadata": {},
   "outputs": [
    {
     "data": {
      "text/plain": [
       "0.983451536643026"
      ]
     },
     "execution_count": 874,
     "metadata": {},
     "output_type": "execute_result"
    }
   ],
   "source": [
    "accuracy_cnb = accuracy_score(y_test, predict_cnb)\n",
    "accuracy_cnb"
   ]
  },
  {
   "cell_type": "code",
   "execution_count": 875,
   "metadata": {},
   "outputs": [
    {
     "data": {
      "text/plain": [
       "array([[154,   1,   0],\n",
       "       [  1, 112,   4],\n",
       "       [  1,   0, 150]], dtype=int64)"
      ]
     },
     "execution_count": 875,
     "metadata": {},
     "output_type": "execute_result"
    }
   ],
   "source": [
    "conf_mtx_cnb = confusion_matrix(y_test, predict_cnb)\n",
    "conf_mtx_cnb"
   ]
  },
  {
   "cell_type": "code",
   "execution_count": null,
   "metadata": {},
   "outputs": [],
   "source": []
  },
  {
   "cell_type": "markdown",
   "metadata": {},
   "source": [
    "## Logistic Regression"
   ]
  },
  {
   "cell_type": "code",
   "execution_count": 1169,
   "metadata": {},
   "outputs": [],
   "source": [
    "model_LR = LogisticRegression(C=2.0, solver = 'liblinear')"
   ]
  },
  {
   "cell_type": "code",
   "execution_count": 1170,
   "metadata": {},
   "outputs": [
    {
     "data": {
      "text/plain": [
       "LogisticRegression(C=2.0, solver='liblinear')"
      ]
     },
     "execution_count": 1170,
     "metadata": {},
     "output_type": "execute_result"
    }
   ],
   "source": [
    "model_LR.fit(X_train, y_train)"
   ]
  },
  {
   "cell_type": "code",
   "execution_count": 1171,
   "metadata": {},
   "outputs": [
    {
     "data": {
      "text/plain": [
       "array([0, 0, 0, 1, 0, 0, 0, 1, 2, 0, 0, 2, 1, 0], dtype=int64)"
      ]
     },
     "execution_count": 1171,
     "metadata": {},
     "output_type": "execute_result"
    }
   ],
   "source": [
    "predict_LR = model_LR.predict(X_test)\n",
    "predict_LR[1:15]"
   ]
  },
  {
   "cell_type": "code",
   "execution_count": 1172,
   "metadata": {},
   "outputs": [
    {
     "data": {
      "text/plain": [
       "0.9905437352245863"
      ]
     },
     "execution_count": 1172,
     "metadata": {},
     "output_type": "execute_result"
    }
   ],
   "source": [
    "accuracy_LR = accuracy_score(y_test, predict_LR)\n",
    "accuracy_LR\n",
    "#print('Accuracy : %.2f' %(accuracy_LR)+ ' %')"
   ]
  },
  {
   "cell_type": "code",
   "execution_count": 1173,
   "metadata": {},
   "outputs": [
    {
     "data": {
      "text/plain": [
       "array([[155,   0,   0],\n",
       "       [  1, 114,   2],\n",
       "       [  1,   0, 150]], dtype=int64)"
      ]
     },
     "execution_count": 1173,
     "metadata": {},
     "output_type": "execute_result"
    }
   ],
   "source": [
    "conf_mtx_LR = confusion_matrix(y_test, predict_LR)\n",
    "conf_mtx_LR"
   ]
  },
  {
   "cell_type": "code",
   "execution_count": 1174,
   "metadata": {},
   "outputs": [
    {
     "data": {
      "text/plain": [
       "0.9905437352245863"
      ]
     },
     "execution_count": 1174,
     "metadata": {},
     "output_type": "execute_result"
    }
   ],
   "source": [
    "precision_LR = precision_score(y_test, predict_LR ,  average= 'micro' )\n",
    "precision_LR"
   ]
  },
  {
   "cell_type": "code",
   "execution_count": 1175,
   "metadata": {
    "scrolled": true
   },
   "outputs": [
    {
     "data": {
      "text/plain": [
       "0.9905437352245863"
      ]
     },
     "execution_count": 1175,
     "metadata": {},
     "output_type": "execute_result"
    }
   ],
   "source": [
    "recall_LR =  recall_score(y_test, predict_LR ,  average= 'micro' )\n",
    "recall_LR"
   ]
  },
  {
   "cell_type": "code",
   "execution_count": 1176,
   "metadata": {},
   "outputs": [
    {
     "data": {
      "text/plain": [
       "[<matplotlib.lines.Line2D at 0x1f9f760cd90>]"
      ]
     },
     "execution_count": 1176,
     "metadata": {},
     "output_type": "execute_result"
    },
    {
     "data": {
      "image/png": "[encoded data removed]",
      "text/plain": [
       "<Figure size 432x288 with 1 Axes>"
      ]
     },
     "metadata": {
      "needs_background": "light"
     },
     "output_type": "display_data"
    }
   ],
   "source": [
    "scores_LR = cross_val_score(model_LR, X_train, y_train, cv=15)\n",
    "plt.plot(scores)"
   ]
  },
  {
   "cell_type": "markdown",
   "metadata": {},
   "source": [
    "### Support vector machine Method"
   ]
  },
  {
   "cell_type": "code",
   "execution_count": 884,
   "metadata": {},
   "outputs": [],
   "source": [
    "model_SVM = svm.SVC(probability = True)"
   ]
  },
  {
   "cell_type": "code",
   "execution_count": 885,
   "metadata": {},
   "outputs": [
    {
     "data": {
      "text/plain": [
       "SVC(probability=True)"
      ]
     },
     "execution_count": 885,
     "metadata": {},
     "output_type": "execute_result"
    }
   ],
   "source": [
    "model_SVM.fit(X_train, y_train)"
   ]
  },
  {
   "cell_type": "code",
   "execution_count": 886,
   "metadata": {},
   "outputs": [
    {
     "data": {
      "text/plain": [
       "array([0, 0, 0, 1, 0, 0, 0, 1, 2, 0, 0, 2, 1, 0], dtype=int64)"
      ]
     },
     "execution_count": 886,
     "metadata": {},
     "output_type": "execute_result"
    }
   ],
   "source": [
    "predict_SVM = model_SVM.predict(X_test)\n",
    "predict_SVM[1:15]"
   ]
  },
  {
   "cell_type": "code",
   "execution_count": 887,
   "metadata": {},
   "outputs": [
    {
     "data": {
      "text/plain": [
       "0.9905437352245863"
      ]
     },
     "execution_count": 887,
     "metadata": {},
     "output_type": "execute_result"
    }
   ],
   "source": [
    "accuracy_SVM = accuracy_score(y_test, predict_SVM)\n",
    "accuracy_SVM\n",
    "#print('Accuracy : %.2f' %(accuracy_SVM)+ ' %')"
   ]
  },
  {
   "cell_type": "code",
   "execution_count": 888,
   "metadata": {},
   "outputs": [
    {
     "data": {
      "text/plain": [
       "array([[155,   0,   0],\n",
       "       [  1, 114,   2],\n",
       "       [  1,   0, 150]], dtype=int64)"
      ]
     },
     "execution_count": 888,
     "metadata": {},
     "output_type": "execute_result"
    }
   ],
   "source": [
    "conf_mtx_SVM = confusion_matrix(y_test, predict_SVM)\n",
    "conf_mtx_SVM\n"
   ]
  },
  {
   "cell_type": "code",
   "execution_count": 889,
   "metadata": {},
   "outputs": [
    {
     "data": {
      "text/plain": [
       "0.9905437352245863"
      ]
     },
     "execution_count": 889,
     "metadata": {},
     "output_type": "execute_result"
    }
   ],
   "source": [
    "precision_SVM = precision_score(y_test, predict_SVM ,  average= 'micro' )\n",
    "precision_SVM"
   ]
  },
  {
   "cell_type": "code",
   "execution_count": 890,
   "metadata": {},
   "outputs": [
    {
     "data": {
      "text/plain": [
       "0.9905437352245863"
      ]
     },
     "execution_count": 890,
     "metadata": {},
     "output_type": "execute_result"
    }
   ],
   "source": [
    "recall_SVM =  recall_score(y_test, predict_SVM ,  average= 'micro' )\n",
    "recall_SVM"
   ]
  },
  {
   "cell_type": "code",
   "execution_count": 1178,
   "metadata": {},
   "outputs": [
    {
     "data": {
      "text/plain": [
       "[<matplotlib.lines.Line2D at 0x1f9f751e130>]"
      ]
     },
     "execution_count": 1178,
     "metadata": {},
     "output_type": "execute_result"
    },
    {
     "data": {
      "image/png": "[encoded data removed]",
      "text/plain": [
       "<Figure size 432x288 with 1 Axes>"
      ]
     },
     "metadata": {
      "needs_background": "light"
     },
     "output_type": "display_data"
    }
   ],
   "source": [
    "scores_SVM = cross_val_score(model_SVM, X_train, y_train, cv=15)\n",
    "plt.plot(scores)"
   ]
  },
  {
   "cell_type": "code",
   "execution_count": null,
   "metadata": {},
   "outputs": [],
   "source": []
  }
 ],
 "metadata": {
  "kernelspec": {
   "display_name": "Python 3",
   "language": "python",
   "name": "python3"
  },
  "language_info": {
   "codemirror_mode": {
    "name": "ipython",
    "version": 3
   },
   "file_extension": ".py",
   "mimetype": "text/x-python",
   "name": "python",
   "nbconvert_exporter": "python",
   "pygments_lexer": "ipython3",
   "version": "3.8.3"
  }
 },
 "nbformat": 4,
 "nbformat_minor": 4
}
